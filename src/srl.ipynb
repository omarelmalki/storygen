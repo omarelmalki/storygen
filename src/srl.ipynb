{
 "cells": [
  {
   "cell_type": "markdown",
   "id": "6dc42371",
   "metadata": {},
   "source": [
    "Author: Omar El Malki (omar.elmalki@epfl.ch)"
   ]
  },
  {
   "cell_type": "markdown",
   "id": "d0286937",
   "metadata": {},
   "source": [
    "### Semantic Role Labling on ROCStories"
   ]
  },
  {
   "cell_type": "code",
   "execution_count": 20,
   "id": "8b897b30",
   "metadata": {},
   "outputs": [],
   "source": [
    "from typing import List\n",
    "import re\n",
    "import pandas as pd\n",
    "from tqdm import tqdm\n",
    "\n",
    "tqdm.pandas()\n",
    "\n",
    "pd.set_option('display.max_colwidth', None)\n",
    "pd.set_option('display.max_rows', None)\n",
    "pd.set_option('display.max_columns', None)\n",
    "pd.options.mode.chained_assignment = None\n",
    "\n",
    "from allennlp.common import JsonDict\n",
    "# Semantic Role Labeling with BERT : https://github.com/Riccorl/transformer-srl\n",
    "from transformer_srl import dataset_readers, models, predictors"
   ]
  },
  {
   "cell_type": "code",
   "execution_count": 21,
   "id": "1105b324",
   "metadata": {},
   "outputs": [],
   "source": [
    "def sentence_to_srl(sentence: str) -> JsonDict:\n",
    "    \"\"\"\n",
    "    Extracts Semantic Roles from a sentence.\n",
    "\n",
    "    :param sentence: sentence from which to extract semantic roles labels.\n",
    "    :return: semantic_roles as PropBank English SRLs.\n",
    "    \"\"\"\n",
    "\n",
    "    # Pre-trained model with BERT fine-tuned to predict PropBank SRLs on CoNLL 2012 dataset.\n",
    "    predictor = predictors.SrlTransformersPredictor.from_path(\n",
    "        \"../data/pre-trained-transformer-srl/srl_bert_base_conll2012.tar.gz\", \"transformer_srl\")\n",
    "\n",
    "    # More documentation: https://docs.allennlp.org/models/main/models/structured_prediction/predictors/srl/\n",
    "    semantic_roles: JsonDict = predictor.predict(sentence)\n",
    "    return semantic_roles"
   ]
  },
  {
   "cell_type": "code",
   "execution_count": 3,
   "id": "34f93aab",
   "metadata": {},
   "outputs": [
    {
     "name": "stdout",
     "output_type": "stream",
     "text": [
      "s1='Jenny lived in Florida.', SRL={'verbs': [{'verb': 'lived', 'description': '[ARG0: Jenny] [live.01: lived] [ARGM-LOC: in Florida] .', 'tags': ['B-ARG0', 'B-V', 'B-ARGM-LOC', 'I-ARGM-LOC', 'O'], 'frame': 'live.01', 'frame_score': 0.9999998807907104, 'lemma': 'live'}], 'words': ['Jenny', 'lived', 'in', 'Florida', '.']}\n",
      "\n",
      "s2='David noticed he had put on a lot of weight recently.', SRL={'verbs': [{'verb': 'noticed', 'description': '[ARG0: David] [notice.01: noticed] [ARG1: he had put on a lot of weight recently] .', 'tags': ['B-ARG0', 'B-V', 'B-ARG1', 'I-ARG1', 'I-ARG1', 'I-ARG1', 'I-ARG1', 'I-ARG1', 'I-ARG1', 'I-ARG1', 'I-ARG1', 'O'], 'frame': 'notice.01', 'frame_score': 0.9999997615814209, 'lemma': 'notice'}, {'verb': 'had', 'description': 'David noticed he [have.01: had] put on a lot of weight recently .', 'tags': ['O', 'O', 'O', 'B-V', 'O', 'O', 'O', 'O', 'O', 'O', 'O', 'O'], 'frame': 'have.01', 'frame_score': 1.0, 'lemma': 'have'}, {'verb': 'put', 'description': 'David noticed [ARG0: he] had [put.08: put] on [ARG1: a lot of weight] [ARGM-TMP: recently] .', 'tags': ['O', 'O', 'B-ARG0', 'O', 'B-V', 'O', 'B-ARG1', 'I-ARG1', 'I-ARG1', 'I-ARG1', 'B-ARGM-TMP', 'O'], 'frame': 'put.08', 'frame_score': 0.9999700784683228, 'lemma': 'put'}], 'words': ['David', 'noticed', 'he', 'had', 'put', 'on', 'a', 'lot', 'of', 'weight', 'recently', '.']}\n",
      "\n"
     ]
    }
   ],
   "source": [
    "s1 = 'Jenny lived in Florida.'\n",
    "srl1=sentence_to_srl(s1)\n",
    "print(f\"s1=\\'{s1}\\', SRL={srl1}\\n\")\n",
    "\n",
    "s2 = 'David noticed he had put on a lot of weight recently.'\n",
    "srl2=sentence_to_srl(s2)\n",
    "print(f\"s2=\\'{s2}\\', SRL={sentence_to_srl(s2)}\\n\")"
   ]
  },
  {
   "cell_type": "code",
   "execution_count": 5,
   "id": "9896ed5b",
   "metadata": {},
   "outputs": [],
   "source": [
    "def srl_to_triple(srl: JsonDict):\n",
    "    \"\"\"\n",
    "    Extract Knowledge triples from semantic roles\n",
    "\n",
    "    :param srl: PropBank English SRLs\n",
    "    :return: knowledge triples as a List of Lists\n",
    "    \"\"\"\n",
    "    res = []\n",
    "    verbs = srl['verbs']\n",
    "    n_empty = 0\n",
    "    for d in verbs:\n",
    "        tags = d['tags']\n",
    "        triple = d['description']\n",
    "        verb = d['verb']\n",
    "        if 'B-ARG0' in tags:\n",
    "            arg0 = re.search('\\\\[ARG0: (.*?)\\\\]', triple).group(1)\n",
    "            args = re.findall('\\\\[ARG[1234M]+.*?: (.*?)\\\\]', triple)\n",
    "            for arg1 in args:  \n",
    "                res.append([arg0,verb,arg1])\n",
    "        elif 'B-ARG1' in tags:\n",
    "            arg1 = re.search('\\\\[ARG1: (.*?)\\\\]', triple).group(1)\n",
    "            args = re.findall('\\\\[ARG[234M]+.*?: (.*?)\\\\]', triple)\n",
    "            for arg2 in args:  \n",
    "                res.append([arg1,verb,arg2])\n",
    "        else:\n",
    "            n_empty += 1\n",
    "            print(f\"Verb with no arguments: \\n{d}\\n\")\n",
    "    if not res:\n",
    "        print(f\"Empty triples for SRL: \\n{srl}\\n\")\n",
    "    return res"
   ]
  },
  {
   "cell_type": "code",
   "execution_count": 6,
   "id": "abe073f0",
   "metadata": {},
   "outputs": [
    {
     "name": "stdout",
     "output_type": "stream",
     "text": [
      "Verb with no arguments: \n",
      "{'verb': 'had', 'description': 'David noticed he [have.01: had] put on a lot of weight recently .', 'tags': ['O', 'O', 'O', 'B-V', 'O', 'O', 'O', 'O', 'O', 'O', 'O', 'O'], 'frame': 'have.01', 'frame_score': 1.0, 'lemma': 'have'}\n",
      "\n"
     ]
    },
    {
     "data": {
      "text/plain": [
       "[['David', 'noticed', 'he had put on a lot of weight recently'],\n",
       " ['he', 'put', 'a lot of weight'],\n",
       " ['he', 'put', 'recently']]"
      ]
     },
     "execution_count": 6,
     "metadata": {},
     "output_type": "execute_result"
    }
   ],
   "source": [
    "srl_to_triple(srl2)"
   ]
  },
  {
   "cell_type": "code",
   "execution_count": 7,
   "id": "14b96e8d",
   "metadata": {},
   "outputs": [
    {
     "data": {
      "text/plain": [
       "[['Jenny', 'lived', 'in Florida']]"
      ]
     },
     "execution_count": 7,
     "metadata": {},
     "output_type": "execute_result"
    }
   ],
   "source": [
    "srl_to_triple(srl1)"
   ]
  },
  {
   "cell_type": "code",
   "execution_count": 8,
   "id": "87954832",
   "metadata": {},
   "outputs": [],
   "source": [
    "# Read ROCStories into pandas DataFrame\n",
    "roc_stories_path_csv = \"../data/rocstories-2017/ROCStories_winter2017.csv\"\n",
    "roc_stories_df = pd.read_csv(roc_stories_path_csv, sep=',', header=0)"
   ]
  },
  {
   "cell_type": "code",
   "execution_count": 9,
   "id": "60657316",
   "metadata": {},
   "outputs": [],
   "source": [
    "srl_df = roc_stories_df.head(50)"
   ]
  },
  {
   "cell_type": "code",
   "execution_count": 10,
   "id": "efe6beb9",
   "metadata": {},
   "outputs": [
    {
     "name": "stdout",
     "output_type": "stream",
     "text": [
      "Verb with no arguments: \n",
      "{'verb': 'had', 'description': 'David noticed he [have.01: had] put on a lot of weight recently .', 'tags': ['O', 'O', 'O', 'B-V', 'O', 'O', 'O', 'O', 'O', 'O', 'O', 'O'], 'frame': 'have.01', 'frame_score': 1.0, 'lemma': 'have'}\n",
      "\n",
      "Verb with no arguments: \n",
      "{'verb': 'was', 'description': 'Andy [be.03: was] invited to a Halloween party .', 'tags': ['O', 'B-V', 'O', 'O', 'O', 'O', 'O', 'O'], 'frame': 'be.03', 'frame_score': 0.9999990463256836, 'lemma': 'be'}\n",
      "\n",
      "Verb with no arguments: \n",
      "{'verb': 'was', 'description': 'Luke [be.03: was] playing hockey at school .', 'tags': ['O', 'B-V', 'O', 'O', 'O', 'O', 'O'], 'frame': 'be.03', 'frame_score': 0.9999995231628418, 'lemma': 'be'}\n",
      "\n",
      "Verb with no arguments: \n",
      "{'verb': 'was', 'description': 'Robbie [be.03: was] competing in a cross country meet .', 'tags': ['O', 'B-V', 'O', 'O', 'O', 'O', 'O', 'O', 'O'], 'frame': 'be.03', 'frame_score': 0.9999992847442627, 'lemma': 'be'}\n",
      "\n",
      "Verb with no arguments: \n",
      "{'verb': \"'d\", 'description': \"I [have.01: 'd] been looking for a stand for my TV .\", 'tags': ['O', 'B-V', 'O', 'O', 'O', 'O', 'O', 'O', 'O', 'O', 'O'], 'frame': 'have.01', 'frame_score': 0.999998927116394, 'lemma': 'have'}\n",
      "\n",
      "Verb with no arguments: \n",
      "{'verb': 'been', 'description': \"I 'd [be.03: been] looking for a stand for my TV .\", 'tags': ['O', 'O', 'B-V', 'O', 'O', 'O', 'O', 'O', 'O', 'O', 'O'], 'frame': 'be.03', 'frame_score': 0.9999995231628418, 'lemma': 'be'}\n",
      "\n",
      "Verb with no arguments: \n",
      "{'verb': 'were', 'description': \"Mark and Jo [be.03: were] brainstorming ideas for a children 's show .\", 'tags': ['O', 'O', 'O', 'B-V', 'O', 'O', 'O', 'O', 'O', 'O', 'O', 'O'], 'frame': 'be.03', 'frame_score': 0.9999980926513672, 'lemma': 'be'}\n",
      "\n",
      "Verb with no arguments: \n",
      "{'verb': 'has', 'description': 'Francis [have.01: has] always wanted to learn how to tie a necktie .', 'tags': ['O', 'B-V', 'O', 'O', 'O', 'O', 'O', 'O', 'O', 'O', 'O', 'O'], 'frame': 'have.01', 'frame_score': 0.9999998807907104, 'lemma': 'have'}\n",
      "\n",
      "Verb with no arguments: \n",
      "{'verb': 'was', 'description': 'Anna [be.03: was] filling her bird feeders .', 'tags': ['O', 'B-V', 'O', 'O', 'O', 'O', 'O'], 'frame': 'be.03', 'frame_score': 0.9999988079071045, 'lemma': 'be'}\n",
      "\n",
      "Verb with no arguments: \n",
      "{'verb': 'had', 'description': 'Charles [have.01: had] always wanted to have a college degree .', 'tags': ['O', 'B-V', 'O', 'O', 'O', 'O', 'O', 'O', 'O', 'O'], 'frame': 'have.01', 'frame_score': 0.9999997615814209, 'lemma': 'have'}\n",
      "\n",
      "Verb with no arguments: \n",
      "{'verb': 'was', 'description': 'Lance [be.03: was] going to make a bet .', 'tags': ['O', 'B-V', 'O', 'O', 'O', 'O', 'O', 'O'], 'frame': 'be.03', 'frame_score': 0.999998927116394, 'lemma': 'be'}\n",
      "\n",
      "Verb with no arguments: \n",
      "{'verb': 'going', 'description': 'Lance was [go.04: going] to make a bet .', 'tags': ['O', 'O', 'B-V', 'O', 'O', 'O', 'O', 'O'], 'frame': 'go.04', 'frame_score': 1.0, 'lemma': 'go'}\n",
      "\n",
      "Verb with no arguments: \n",
      "{'verb': 'was', 'description': 'James [be.03: was] walking down a street one afternoon .', 'tags': ['O', 'B-V', 'O', 'O', 'O', 'O', 'O', 'O', 'O'], 'frame': 'be.03', 'frame_score': 0.9999991655349731, 'lemma': 'be'}\n",
      "\n",
      "Verb with no arguments: \n",
      "{'verb': 'would', 'description': \"Chad 's dog [do.01: would] always jump on people .\", 'tags': ['O', 'O', 'O', 'B-V', 'O', 'O', 'O', 'O', 'O'], 'frame': 'do.01', 'frame_score': 0.21294932067394257, 'lemma': 'would'}\n",
      "\n",
      "Verb with no arguments: \n",
      "{'verb': 'was', 'description': 'Nick [be.03: was] trying to buy a house .', 'tags': ['O', 'B-V', 'O', 'O', 'O', 'O', 'O', 'O'], 'frame': 'be.03', 'frame_score': 0.999998927116394, 'lemma': 'be'}\n",
      "\n",
      "Verb with no arguments: \n",
      "{'verb': 'had', 'description': 'Jane [have.01: had] recently gotten a new job .', 'tags': ['O', 'B-V', 'O', 'O', 'O', 'O', 'O', 'O'], 'frame': 'have.01', 'frame_score': 1.0, 'lemma': 'have'}\n",
      "\n",
      "Verb with no arguments: \n",
      "{'verb': 'was', 'description': 'Jill [be.03: was] going on a trip to the amazon .', 'tags': ['O', 'B-V', 'O', 'O', 'O', 'O', 'O', 'O', 'O', 'O'], 'frame': 'be.03', 'frame_score': 0.9999991655349731, 'lemma': 'be'}\n",
      "\n",
      "Verb with no arguments: \n",
      "{'verb': 'was', 'description': 'Julie [be.03: was] feeling hungry .', 'tags': ['O', 'B-V', 'O', 'O', 'O'], 'frame': 'be.03', 'frame_score': 0.9999687671661377, 'lemma': 'be'}\n",
      "\n"
     ]
    },
    {
     "name": "stderr",
     "output_type": "stream",
     "text": [
      "/opt/anaconda3/envs/storygen/lib/python3.6/site-packages/ipykernel_launcher.py:3: SettingWithCopyWarning: \n",
      "A value is trying to be set on a copy of a slice from a DataFrame.\n",
      "Try using .loc[row_indexer,col_indexer] = value instead\n",
      "\n",
      "See the caveats in the documentation: https://pandas.pydata.org/pandas-docs/stable/user_guide/indexing.html#returning-a-view-versus-a-copy\n",
      "  This is separate from the ipykernel package so we can avoid doing imports until\n"
     ]
    },
    {
     "name": "stdout",
     "output_type": "stream",
     "text": [
      "Verb with no arguments: \n",
      "{'verb': 'would', 'description': 'Bill thought a truck [go.04: would] be better for what he needed .', 'tags': ['O', 'O', 'O', 'O', 'B-V', 'O', 'O', 'O', 'O', 'O', 'O', 'O'], 'frame': 'go.04', 'frame_score': 0.5918087363243103, 'lemma': 'would'}\n",
      "\n",
      "Verb with no arguments: \n",
      "{'verb': 'was', 'description': \"His girlfriend [be.03: was] working and would n't take him .\", 'tags': ['O', 'O', 'B-V', 'O', 'O', 'O', 'O', 'O', 'O', 'O'], 'frame': 'be.03', 'frame_score': 0.999998927116394, 'lemma': 'be'}\n",
      "\n",
      "Verb with no arguments: \n",
      "{'verb': 'was', 'description': \"It [be.03: was] going to be in the town 's July 4th parade .\", 'tags': ['O', 'B-V', 'O', 'O', 'O', 'O', 'O', 'O', 'O', 'O', 'O', 'O', 'O'], 'frame': 'be.03', 'frame_score': 0.9999990463256836, 'lemma': 'be'}\n",
      "\n",
      "Verb with no arguments: \n",
      "{'verb': 'going', 'description': \"It was [go.04: going] to be in the town 's July 4th parade .\", 'tags': ['O', 'O', 'B-V', 'O', 'O', 'O', 'O', 'O', 'O', 'O', 'O', 'O', 'O'], 'frame': 'go.04', 'frame_score': 0.9999998807907104, 'lemma': 'go'}\n",
      "\n",
      "Empty triples for SRL: \n",
      "{'verbs': [{'verb': 'passed', 'description': \"[ARG1: Eric 's wife] [pass.16: passed] away .\", 'tags': ['B-ARG1', 'I-ARG1', 'I-ARG1', 'B-V', 'O', 'O'], 'frame': 'pass.16', 'frame_score': 0.9999988079071045, 'lemma': 'pass'}], 'words': ['Eric', \"'s\", 'wife', 'passed', 'away', '.']}\n",
      "\n",
      "Empty triples for SRL: \n",
      "{'verbs': [], 'words': ['The', 'female', 'voice', 'above', 'her', 'announced', 'final', 'boarding', 'to', 'Soren', \"'s\", 'fligh', '.']}\n",
      "\n",
      "Verb with no arguments: \n",
      "{'verb': 'were', 'description': 'She and Bob first [be.03: were] blessed with a daughter .', 'tags': ['O', 'O', 'O', 'O', 'B-V', 'O', 'O', 'O', 'O', 'O'], 'frame': 'be.03', 'frame_score': 0.9999964237213135, 'lemma': 'be'}\n",
      "\n",
      "Verb with no arguments: \n",
      "{'verb': 'was', 'description': 'He [be.03: was] thinking of making it a big one .', 'tags': ['O', 'B-V', 'O', 'O', 'O', 'O', 'O', 'O', 'O', 'O'], 'frame': 'be.03', 'frame_score': 0.9999990463256836, 'lemma': 'be'}\n",
      "\n",
      "Verb with no arguments: \n",
      "{'verb': 'could', 'description': \"Chad [do.01: could] n't bring his dog anywhere .\", 'tags': ['O', 'B-V', 'O', 'O', 'O', 'O', 'O', 'O'], 'frame': 'do.01', 'frame_score': 0.10402575135231018, 'lemma': 'could'}\n",
      "\n",
      "Verb with no arguments: \n",
      "{'verb': \"'d\", 'description': \"He realized he [have.01: 'd] been eating too much fast food lately .\", 'tags': ['O', 'O', 'O', 'B-V', 'O', 'O', 'O', 'O', 'O', 'O', 'O', 'O'], 'frame': 'have.01', 'frame_score': 0.9999998807907104, 'lemma': 'have'}\n",
      "\n",
      "Verb with no arguments: \n",
      "{'verb': 'been', 'description': \"He realized he 'd [be.03: been] eating too much fast food lately .\", 'tags': ['O', 'O', 'O', 'O', 'B-V', 'O', 'O', 'O', 'O', 'O', 'O', 'O'], 'frame': 'be.03', 'frame_score': 0.9999995231628418, 'lemma': 'be'}\n",
      "\n",
      "Verb with no arguments: \n",
      "{'verb': 'could', 'description': \"Robbie was n't sure he [like.01: could] go on .\", 'tags': ['O', 'O', 'O', 'O', 'O', 'B-V', 'O', 'O', 'O'], 'frame': 'like.01', 'frame_score': 0.05299662798643112, 'lemma': 'could'}\n",
      "\n",
      "Verb with no arguments: \n",
      "{'verb': 'did', 'description': 'Beth [do.01: did] not think that it sounded like the real Santa .', 'tags': ['O', 'B-V', 'O', 'O', 'O', 'O', 'O', 'O', 'O', 'O', 'O', 'O'], 'frame': 'do.01', 'frame_score': 0.9999996423721313, 'lemma': 'do'}\n",
      "\n",
      "Verb with no arguments: \n",
      "{'verb': 'was', 'description': 'Jo laughed because he thought Mark [be.03: was] joking .', 'tags': ['O', 'O', 'O', 'O', 'O', 'O', 'B-V', 'O', 'O'], 'frame': 'be.03', 'frame_score': 0.9999990463256836, 'lemma': 'be'}\n",
      "\n",
      "Verb with no arguments: \n",
      "{'verb': 'did', 'description': \"Since she never tasted the food there , she [do.01: did] n't know if it was good .\", 'tags': ['O', 'O', 'O', 'O', 'O', 'O', 'O', 'O', 'O', 'B-V', 'O', 'O', 'O', 'O', 'O', 'O', 'O'], 'frame': 'do.01', 'frame_score': 0.9999995231628418, 'lemma': 'do'}\n",
      "\n",
      "Verb with no arguments: \n",
      "{'verb': 'was', 'description': 'I went to a doctor , and [be.03: was] [ARG2: informed that one of my kidneys was dead] .', 'tags': ['O', 'O', 'O', 'O', 'O', 'O', 'O', 'B-V', 'B-ARG2', 'I-ARG2', 'I-ARG2', 'I-ARG2', 'I-ARG2', 'I-ARG2', 'I-ARG2', 'I-ARG2', 'O'], 'frame': 'be.03', 'frame_score': 0.8899546265602112, 'lemma': 'be'}\n",
      "\n",
      "Verb with no arguments: \n",
      "{'verb': 'be', 'description': 'We set the box out on the curb to [be.03: be] picked up on trash day .', 'tags': ['O', 'O', 'O', 'O', 'O', 'O', 'O', 'O', 'O', 'B-V', 'O', 'O', 'O', 'O', 'O', 'O'], 'frame': 'be.03', 'frame_score': 0.999998927116394, 'lemma': 'be'}\n",
      "\n",
      "Verb with no arguments: \n",
      "{'verb': \"'d\", 'description': \"Bob thought he [have.01: 'd] lost it behind a boulder .\", 'tags': ['O', 'O', 'O', 'B-V', 'O', 'O', 'O', 'O', 'O', 'O'], 'frame': 'have.01', 'frame_score': 0.9999995231628418, 'lemma': 'have'}\n",
      "\n",
      "Verb with no arguments: \n",
      "{'verb': 'was', 'description': 'He [be.03: was] going to bet all of his savings on a Race .', 'tags': ['O', 'B-V', 'O', 'O', 'O', 'O', 'O', 'O', 'O', 'O', 'O', 'O', 'O'], 'frame': 'be.03', 'frame_score': 0.9999990463256836, 'lemma': 'be'}\n",
      "\n",
      "Verb with no arguments: \n",
      "{'verb': 'going', 'description': 'He was [go.04: going] to bet all of his savings on a Race .', 'tags': ['O', 'O', 'B-V', 'O', 'O', 'O', 'O', 'O', 'O', 'O', 'O', 'O', 'O'], 'frame': 'go.04', 'frame_score': 0.9999986886978149, 'lemma': 'go'}\n",
      "\n",
      "Verb with no arguments: \n",
      "{'verb': 'will', 'description': 'Karl is very competitive and [go.04: will] do anything to win .', 'tags': ['O', 'O', 'O', 'O', 'O', 'B-V', 'O', 'O', 'O', 'O', 'O'], 'frame': 'go.04', 'frame_score': 0.09380708634853363, 'lemma': 'will'}\n",
      "\n",
      "Verb with no arguments: \n",
      "{'verb': 'burger', 'description': 'He stopped going to [bottle.01: burger] [ARGM-LOC: places] and started a vegetarian diet .', 'tags': ['O', 'O', 'O', 'O', 'B-V', 'B-ARGM-LOC', 'O', 'O', 'O', 'O', 'O', 'O'], 'frame': 'bottle.01', 'frame_score': 0.10041563212871552, 'lemma': 'burger'}\n",
      "\n",
      "Verb with no arguments: \n",
      "{'verb': 'was', 'description': 'Bill [be.03: was] set in his ways with conventional thinking .', 'tags': ['O', 'B-V', 'O', 'O', 'O', 'O', 'O', 'O', 'O', 'O'], 'frame': 'be.03', 'frame_score': 0.9999967813491821, 'lemma': 'be'}\n",
      "\n",
      "Empty triples for SRL: \n",
      "{'verbs': [{'verb': 'cheered', 'description': '[ARG0: Everybody] [cheer.02: cheered] !', 'tags': ['B-ARG0', 'B-V', 'O'], 'frame': 'cheer.02', 'frame_score': 0.999954342842102, 'lemma': 'cheer'}], 'words': ['Everybody', 'cheered', '!']}\n",
      "\n",
      "Verb with no arguments: \n",
      "{'verb': 'was', 'description': \"He thought he [be.03: was] n't going to be able to make it in time .\", 'tags': ['O', 'O', 'O', 'B-V', 'O', 'O', 'O', 'O', 'O', 'O', 'O', 'O', 'O', 'O', 'O'], 'frame': 'be.03', 'frame_score': 0.999998927116394, 'lemma': 'be'}\n",
      "\n",
      "Verb with no arguments: \n",
      "{'verb': 'going', 'description': \"He thought he was n't [go.04: going] to be able to make it in time .\", 'tags': ['O', 'O', 'O', 'O', 'O', 'B-V', 'O', 'O', 'O', 'O', 'O', 'O', 'O', 'O', 'O'], 'frame': 'go.04', 'frame_score': 0.9999988079071045, 'lemma': 'go'}\n",
      "\n",
      "Verb with no arguments: \n",
      "{'verb': \"'ve\", 'description': \"Ever since , I [have.01: 've] had swelling and hypertension .\", 'tags': ['O', 'O', 'O', 'O', 'B-V', 'O', 'O', 'O', 'O', 'O'], 'frame': 'have.01', 'frame_score': 0.9999998807907104, 'lemma': 'have'}\n",
      "\n",
      "Verb with no arguments: \n",
      "{'verb': 'is', 'description': 'Now , Stacy [be.03: is] selling all her maternity and baby clothes .', 'tags': ['O', 'O', 'O', 'B-V', 'O', 'O', 'O', 'O', 'O', 'O', 'O', 'O'], 'frame': 'be.03', 'frame_score': 0.9999995231628418, 'lemma': 'be'}\n",
      "\n",
      "Empty triples for SRL: \n",
      "{'verbs': [], 'words': ['That', 'evening', ',', 'the', 'phone', 'rang', '.']}\n",
      "\n",
      "Verb with no arguments: \n",
      "{'verb': 'had', 'description': 'He knew it [have.02: had] to be Nick so he decided he would move out .', 'tags': ['O', 'O', 'O', 'B-V', 'O', 'O', 'O', 'O', 'O', 'O', 'O', 'O', 'O', 'O', 'O'], 'frame': 'have.02', 'frame_score': 0.9999990463256836, 'lemma': 'have'}\n",
      "\n",
      "Verb with no arguments: \n",
      "{'verb': 'could', 'description': \"We decided we [have.02: could] [ARGM-NEG: n't] be apart so she moved in with me .\", 'tags': ['O', 'O', 'O', 'B-V', 'B-ARGM-NEG', 'O', 'O', 'O', 'O', 'O', 'O', 'O', 'O', 'O'], 'frame': 'have.02', 'frame_score': 0.04804358631372452, 'lemma': 'could'}\n",
      "\n",
      "Verb with no arguments: \n",
      "{'verb': 'was', 'description': 'Andy [be.01: was] disappointed with his new , bold , green hair color .', 'tags': ['O', 'B-V', 'O', 'O', 'O', 'O', 'O', 'O', 'O', 'O', 'O', 'O', 'O'], 'frame': 'be.01', 'frame_score': 0.8844010829925537, 'lemma': 'be'}\n",
      "\n",
      "Empty triples for SRL: \n",
      "{'verbs': [{'verb': 'was', 'description': 'Andy [be.01: was] disappointed with his new , bold , green hair color .', 'tags': ['O', 'B-V', 'O', 'O', 'O', 'O', 'O', 'O', 'O', 'O', 'O', 'O', 'O'], 'frame': 'be.01', 'frame_score': 0.8844010829925537, 'lemma': 'be'}], 'words': ['Andy', 'was', 'disappointed', 'with', 'his', 'new', ',', 'bold', ',', 'green', 'hair', 'color', '.']}\n",
      "\n"
     ]
    },
    {
     "name": "stdout",
     "output_type": "stream",
     "text": [
      "Verb with no arguments: \n",
      "{'verb': 'did', 'description': 'She [do.01: did] not receive another letter back in the mail .', 'tags': ['O', 'B-V', 'O', 'O', 'O', 'O', 'O', 'O', 'O', 'O', 'O'], 'frame': 'do.01', 'frame_score': 0.9999996423721313, 'lemma': 'do'}\n",
      "\n",
      "Verb with no arguments: \n",
      "{'verb': 'will', 'description': 'I had a nice time and [go.04: will] visit my friend this year .', 'tags': ['O', 'O', 'O', 'O', 'O', 'O', 'B-V', 'O', 'O', 'O', 'O', 'O', 'O'], 'frame': 'go.04', 'frame_score': 0.7642723917961121, 'lemma': 'will'}\n",
      "\n",
      "Verb with no arguments: \n",
      "{'verb': 'would', 'description': 'He realized he [go.04: would] need a new Xbox .', 'tags': ['O', 'O', 'O', 'B-V', 'O', 'O', 'O', 'O', 'O'], 'frame': 'go.04', 'frame_score': 0.7586804032325745, 'lemma': 'would'}\n",
      "\n",
      "Verb with no arguments: \n",
      "{'verb': 'is', 'description': 'The movement [be.03: is] gaining momentum !', 'tags': ['O', 'O', 'B-V', 'O', 'O', 'O'], 'frame': 'be.03', 'frame_score': 0.9999990463256836, 'lemma': 'be'}\n",
      "\n",
      "Verb with no arguments: \n",
      "{'verb': 'had', 'description': 'We [have.02: had] to take the box to the dump ourselves .', 'tags': ['O', 'B-V', 'O', 'O', 'O', 'O', 'O', 'O', 'O', 'O', 'O'], 'frame': 'have.02', 'frame_score': 0.9999998807907104, 'lemma': 'have'}\n",
      "\n",
      "Verb with no arguments: \n",
      "{'verb': 'has', 'description': 'She says she [have.01: has] changed her mind about wanting five kids !', 'tags': ['O', 'O', 'O', 'B-V', 'O', 'O', 'O', 'O', 'O', 'O', 'O', 'O'], 'frame': 'have.01', 'frame_score': 1.0, 'lemma': 'have'}\n",
      "\n",
      "Verb with no arguments: \n",
      "{'verb': 'had', 'description': 'By lunch the whole office [have.01: had] passed out and nothing got done .', 'tags': ['O', 'O', 'O', 'O', 'O', 'B-V', 'O', 'O', 'O', 'O', 'O', 'O', 'O'], 'frame': 'have.01', 'frame_score': 1.0, 'lemma': 'have'}\n",
      "\n",
      "Verb with no arguments: \n",
      "{'verb': 'was', 'description': 'Soon Ava [be.03: was] paddling all by herself !', 'tags': ['O', 'O', 'B-V', 'O', 'O', 'O', 'O', 'O'], 'frame': 'be.03', 'frame_score': 0.9999988079071045, 'lemma': 'be'}\n",
      "\n",
      "Verb with no arguments: \n",
      "{'verb': 'had', 'description': 'The old man [have.01: had] called to thank James for returning his wallet .', 'tags': ['O', 'O', 'O', 'B-V', 'O', 'O', 'O', 'O', 'O', 'O', 'O', 'O', 'O'], 'frame': 'have.01', 'frame_score': 1.0, 'lemma': 'have'}\n",
      "\n",
      "Verb with no arguments: \n",
      "{'verb': 'did', 'description': 'Jane [do.01: did] not make a good impression at her new job .', 'tags': ['O', 'B-V', 'O', 'O', 'O', 'O', 'O', 'O', 'O', 'O', 'O', 'O'], 'frame': 'do.01', 'frame_score': 1.0, 'lemma': 'do'}\n",
      "\n",
      "Verb with no arguments: \n",
      "{'verb': 'was', 'description': 'Julie went to take a bite of the pizza and it [be.03: was] burnt !', 'tags': ['O', 'O', 'O', 'O', 'O', 'O', 'O', 'O', 'O', 'O', 'O', 'B-V', 'O', 'O'], 'frame': 'be.03', 'frame_score': 0.999983549118042, 'lemma': 'be'}\n",
      "\n"
     ]
    }
   ],
   "source": [
    "# Add Knowledge triples to Dataframe for each sentence in the dataset\n",
    "for n in range(1,6):\n",
    "    srl_df[f'srl_s{n}'] = srl_df[f'sentence{n}'].progress_apply(lambda s: srl_to_triple(sentence_to_srl(s)))"
   ]
  },
  {
   "cell_type": "code",
   "execution_count": 18,
   "id": "90bf8c9c",
   "metadata": {
    "scrolled": false
   },
   "outputs": [
    {
     "data": {
      "text/html": [
       "<div>\n",
       "<style scoped>\n",
       "    .dataframe tbody tr th:only-of-type {\n",
       "        vertical-align: middle;\n",
       "    }\n",
       "\n",
       "    .dataframe tbody tr th {\n",
       "        vertical-align: top;\n",
       "    }\n",
       "\n",
       "    .dataframe thead th {\n",
       "        text-align: right;\n",
       "    }\n",
       "</style>\n",
       "<table border=\"1\" class=\"dataframe\">\n",
       "  <thead>\n",
       "    <tr style=\"text-align: right;\">\n",
       "      <th></th>\n",
       "      <th>storyid</th>\n",
       "      <th>storytitle</th>\n",
       "      <th>sentence1</th>\n",
       "      <th>sentence2</th>\n",
       "      <th>sentence3</th>\n",
       "      <th>sentence4</th>\n",
       "      <th>sentence5</th>\n",
       "      <th>srl_s1</th>\n",
       "      <th>srl_s2</th>\n",
       "      <th>srl_s3</th>\n",
       "      <th>srl_s4</th>\n",
       "      <th>srl_s5</th>\n",
       "    </tr>\n",
       "  </thead>\n",
       "  <tbody>\n",
       "    <tr>\n",
       "      <th>0</th>\n",
       "      <td>8bbe6d11-1e2e-413c-bf81-eaea05f4f1bd</td>\n",
       "      <td>David Drops the Weight</td>\n",
       "      <td>David noticed he had put on a lot of weight recently.</td>\n",
       "      <td>He examined his habits to try and figure out the reason.</td>\n",
       "      <td>He realized he'd been eating too much fast food lately.</td>\n",
       "      <td>He stopped going to burger places and started a vegetarian diet.</td>\n",
       "      <td>After a few weeks, he started to feel much better.</td>\n",
       "      <td>[[David, noticed, he had put on a lot of weight recently], [he, put, a lot of weight], [he, put, recently]]</td>\n",
       "      <td>[[He, examined, his habits], [He, examined, to try and figure out the reason], [He, try, the reason], [He, figure, the reason]]</td>\n",
       "      <td>[[He, realized, he 'd been eating too much fast food lately], [he, eating, too much fast food], [he, eating, lately]]</td>\n",
       "      <td>[[He, stopped, going to burger places], [He, going, to burger places], [He, started, a vegetarian diet]]</td>\n",
       "      <td>[[to feel much better, started, After a few weeks], [he, feel, much better]]</td>\n",
       "    </tr>\n",
       "    <tr>\n",
       "      <th>1</th>\n",
       "      <td>0beabab2-fb49-460e-a6e6-f35a202e3348</td>\n",
       "      <td>Frustration</td>\n",
       "      <td>Tom had a very short temper.</td>\n",
       "      <td>One day a guest made him very angry.</td>\n",
       "      <td>He punched a hole in the wall of his house.</td>\n",
       "      <td>Tom's guest became afraid and left quickly.</td>\n",
       "      <td>Tom sat on his couch filled with regret about his actions.</td>\n",
       "      <td>[[Tom, had, a very short temper]]</td>\n",
       "      <td>[[a guest, made, One day], [a guest, made, him very angry]]</td>\n",
       "      <td>[[He, punched, a hole in the wall of his house]]</td>\n",
       "      <td>[[Tom 's guest, became, afraid], [Tom 's guest, left, quickly]]</td>\n",
       "      <td>[[Tom, sat, on his couch], [Tom, sat, filled with regret about his actions], [Tom, filled, with regret about his actions]]</td>\n",
       "    </tr>\n",
       "    <tr>\n",
       "      <th>2</th>\n",
       "      <td>87da1a22-df0b-410c-b186-439700b70ba6</td>\n",
       "      <td>Marcus Buys Khakis</td>\n",
       "      <td>Marcus needed clothing for a business casual event.</td>\n",
       "      <td>All of his clothes were either too formal or too casual.</td>\n",
       "      <td>He decided to buy a pair of khakis.</td>\n",
       "      <td>The pair he bought fit him perfectly.</td>\n",
       "      <td>Marcus was happy to have the right clothes for the event.</td>\n",
       "      <td>[[Marcus, needed, clothing], [Marcus, needed, for a business casual event]]</td>\n",
       "      <td>[[All of his clothes, were, either too formal or too casual]]</td>\n",
       "      <td>[[He, decided, to buy a pair of khakis], [He, buy, a pair of khakis]]</td>\n",
       "      <td>[[he, bought, The pair], [The pair he bought, fit, him], [The pair he bought, fit, perfectly]]</td>\n",
       "      <td>[[Marcus, was, happy to have the right clothes for the event], [Marcus, have, the right clothes for the event]]</td>\n",
       "    </tr>\n",
       "    <tr>\n",
       "      <th>3</th>\n",
       "      <td>2d16bcd6-692a-4fc0-8e7c-4a6f81d9efa9</td>\n",
       "      <td>Different Opinions</td>\n",
       "      <td>Bobby thought Bill should buy a trailer and haul it with his car.</td>\n",
       "      <td>Bill thought a truck would be better for what he needed.</td>\n",
       "      <td>Bobby pointed out two vehicles were much more expensive.</td>\n",
       "      <td>Bill was set in his ways with conventional thinking.</td>\n",
       "      <td>He ended up buying the truck he wanted despite Bobby's advice.</td>\n",
       "      <td>[[Bobby, thought, Bill should buy a trailer and haul it with his car], [Bill, should, buy a trailer and haul], [Bill, buy, should], [Bill, buy, a trailer], [Bill, haul, should], [Bill, haul, it], [Bill, haul, with his car]]</td>\n",
       "      <td>[[Bill, thought, a truck would be better for what he needed], [a truck, be, would], [a truck, be, better for what he needed], [he, needed, what]]</td>\n",
       "      <td>[[Bobby, pointed, two vehicles were much more expensive], [two vehicles, were, much more expensive]]</td>\n",
       "      <td>[[Bill, set, in his ways], [Bill, set, with conventional thinking]]</td>\n",
       "      <td>[[He, ended, buying the truck he wanted], [He, ended, despite Bobby 's advice], [He, buying, the truck he wanted], [He, buying, despite Bobby 's advice], [he, wanted, the truck]]</td>\n",
       "    </tr>\n",
       "    <tr>\n",
       "      <th>4</th>\n",
       "      <td>c71bb23b-7731-4233-8298-76ba6886cee1</td>\n",
       "      <td>Overcoming shortcomings</td>\n",
       "      <td>John was a pastor with a very bad memory.</td>\n",
       "      <td>He tried to memorize his sermons many days in advance but to no avail.</td>\n",
       "      <td>He decided to learn to sing to overcome his handicap.</td>\n",
       "      <td>He then made all his sermons into music and sang them on Sundays.</td>\n",
       "      <td>His congregation was delighted and so was he.</td>\n",
       "      <td>[[John, was, a pastor with a very bad memory]]</td>\n",
       "      <td>[[He, tried, to memorize his sermons many days in advance], [He, tried, but to no avail], [He, memorize, his sermons], [He, memorize, many days in advance]]</td>\n",
       "      <td>[[He, decided, to learn to sing to overcome his handicap], [He, learn, to sing], [He, learn, to overcome his handicap], [He, overcome, his handicap]]</td>\n",
       "      <td>[[He, made, then], [He, made, all his sermons into music], [He, sang, then], [He, sang, them], [He, sang, on Sundays]]</td>\n",
       "      <td>[[His congregation, was, delighted], [he, was, so]]</td>\n",
       "    </tr>\n",
       "  </tbody>\n",
       "</table>\n",
       "</div>"
      ],
      "text/plain": [
       "                                storyid               storytitle  \\\n",
       "0  8bbe6d11-1e2e-413c-bf81-eaea05f4f1bd   David Drops the Weight   \n",
       "1  0beabab2-fb49-460e-a6e6-f35a202e3348              Frustration   \n",
       "2  87da1a22-df0b-410c-b186-439700b70ba6       Marcus Buys Khakis   \n",
       "3  2d16bcd6-692a-4fc0-8e7c-4a6f81d9efa9       Different Opinions   \n",
       "4  c71bb23b-7731-4233-8298-76ba6886cee1  Overcoming shortcomings   \n",
       "\n",
       "                                                           sentence1  \\\n",
       "0              David noticed he had put on a lot of weight recently.   \n",
       "1                                       Tom had a very short temper.   \n",
       "2                Marcus needed clothing for a business casual event.   \n",
       "3  Bobby thought Bill should buy a trailer and haul it with his car.   \n",
       "4                          John was a pastor with a very bad memory.   \n",
       "\n",
       "                                                                sentence2  \\\n",
       "0                He examined his habits to try and figure out the reason.   \n",
       "1                                    One day a guest made him very angry.   \n",
       "2                All of his clothes were either too formal or too casual.   \n",
       "3                Bill thought a truck would be better for what he needed.   \n",
       "4  He tried to memorize his sermons many days in advance but to no avail.   \n",
       "\n",
       "                                                  sentence3  \\\n",
       "0   He realized he'd been eating too much fast food lately.   \n",
       "1               He punched a hole in the wall of his house.   \n",
       "2                       He decided to buy a pair of khakis.   \n",
       "3  Bobby pointed out two vehicles were much more expensive.   \n",
       "4     He decided to learn to sing to overcome his handicap.   \n",
       "\n",
       "                                                           sentence4  \\\n",
       "0   He stopped going to burger places and started a vegetarian diet.   \n",
       "1                        Tom's guest became afraid and left quickly.   \n",
       "2                              The pair he bought fit him perfectly.   \n",
       "3               Bill was set in his ways with conventional thinking.   \n",
       "4  He then made all his sermons into music and sang them on Sundays.   \n",
       "\n",
       "                                                        sentence5  \\\n",
       "0              After a few weeks, he started to feel much better.   \n",
       "1      Tom sat on his couch filled with regret about his actions.   \n",
       "2       Marcus was happy to have the right clothes for the event.   \n",
       "3  He ended up buying the truck he wanted despite Bobby's advice.   \n",
       "4                   His congregation was delighted and so was he.   \n",
       "\n",
       "                                                                                                                                                                                                                            srl_s1  \\\n",
       "0                                                                                                                      [[David, noticed, he had put on a lot of weight recently], [he, put, a lot of weight], [he, put, recently]]   \n",
       "1                                                                                                                                                                                                [[Tom, had, a very short temper]]   \n",
       "2                                                                                                                                                      [[Marcus, needed, clothing], [Marcus, needed, for a business casual event]]   \n",
       "3  [[Bobby, thought, Bill should buy a trailer and haul it with his car], [Bill, should, buy a trailer and haul], [Bill, buy, should], [Bill, buy, a trailer], [Bill, haul, should], [Bill, haul, it], [Bill, haul, with his car]]   \n",
       "4                                                                                                                                                                                   [[John, was, a pastor with a very bad memory]]   \n",
       "\n",
       "                                                                                                                                                         srl_s2  \\\n",
       "0                               [[He, examined, his habits], [He, examined, to try and figure out the reason], [He, try, the reason], [He, figure, the reason]]   \n",
       "1                                                                                                   [[a guest, made, One day], [a guest, made, him very angry]]   \n",
       "2                                                                                                 [[All of his clothes, were, either too formal or too casual]]   \n",
       "3             [[Bill, thought, a truck would be better for what he needed], [a truck, be, would], [a truck, be, better for what he needed], [he, needed, what]]   \n",
       "4  [[He, tried, to memorize his sermons many days in advance], [He, tried, but to no avail], [He, memorize, his sermons], [He, memorize, many days in advance]]   \n",
       "\n",
       "                                                                                                                                                  srl_s3  \\\n",
       "0                                  [[He, realized, he 'd been eating too much fast food lately], [he, eating, too much fast food], [he, eating, lately]]   \n",
       "1                                                                                                       [[He, punched, a hole in the wall of his house]]   \n",
       "2                                                                                  [[He, decided, to buy a pair of khakis], [He, buy, a pair of khakis]]   \n",
       "3                                                   [[Bobby, pointed, two vehicles were much more expensive], [two vehicles, were, much more expensive]]   \n",
       "4  [[He, decided, to learn to sing to overcome his handicap], [He, learn, to sing], [He, learn, to overcome his handicap], [He, overcome, his handicap]]   \n",
       "\n",
       "                                                                                                                   srl_s4  \\\n",
       "0                [[He, stopped, going to burger places], [He, going, to burger places], [He, started, a vegetarian diet]]   \n",
       "1                                                         [[Tom 's guest, became, afraid], [Tom 's guest, left, quickly]]   \n",
       "2                          [[he, bought, The pair], [The pair he bought, fit, him], [The pair he bought, fit, perfectly]]   \n",
       "3                                                     [[Bill, set, in his ways], [Bill, set, with conventional thinking]]   \n",
       "4  [[He, made, then], [He, made, all his sermons into music], [He, sang, then], [He, sang, them], [He, sang, on Sundays]]   \n",
       "\n",
       "                                                                                                                                                                               srl_s5  \n",
       "0                                                                                                        [[to feel much better, started, After a few weeks], [he, feel, much better]]  \n",
       "1                                                          [[Tom, sat, on his couch], [Tom, sat, filled with regret about his actions], [Tom, filled, with regret about his actions]]  \n",
       "2                                                                     [[Marcus, was, happy to have the right clothes for the event], [Marcus, have, the right clothes for the event]]  \n",
       "3  [[He, ended, buying the truck he wanted], [He, ended, despite Bobby 's advice], [He, buying, the truck he wanted], [He, buying, despite Bobby 's advice], [he, wanted, the truck]]  \n",
       "4                                                                                                                                 [[His congregation, was, delighted], [he, was, so]]  "
      ]
     },
     "execution_count": 18,
     "metadata": {},
     "output_type": "execute_result"
    }
   ],
   "source": [
    "srl_df.head(5)"
   ]
  },
  {
   "cell_type": "markdown",
   "id": "832eaeb9",
   "metadata": {},
   "source": [
    "Examples of sentences with no knowledge triples."
   ]
  },
  {
   "cell_type": "code",
   "execution_count": 12,
   "id": "ab92cee6",
   "metadata": {},
   "outputs": [
    {
     "data": {
      "text/plain": [
       "{'verbs': [], 'words': ['That', 'evening', ',', 'the', 'phone', 'rang', '.']}"
      ]
     },
     "execution_count": 12,
     "metadata": {},
     "output_type": "execute_result"
    }
   ],
   "source": [
    "# No verb detected\n",
    "sentence_to_srl(\"That evening, the phone rang.\")"
   ]
  },
  {
   "cell_type": "code",
   "execution_count": 13,
   "id": "32f1f967",
   "metadata": {},
   "outputs": [
    {
     "data": {
      "text/plain": [
       "{'verbs': [],\n",
       " 'words': ['The',\n",
       "  'female',\n",
       "  'voice',\n",
       "  'above',\n",
       "  'her',\n",
       "  'announced',\n",
       "  'final',\n",
       "  'boarding',\n",
       "  'to',\n",
       "  'Soren',\n",
       "  \"'s\",\n",
       "  'flight',\n",
       "  '.']}"
      ]
     },
     "execution_count": 13,
     "metadata": {},
     "output_type": "execute_result"
    }
   ],
   "source": [
    "# No verb detected\n",
    "sentence_to_srl(\"The female voice above her announced final boarding to Soren's flight.\")"
   ]
  },
  {
   "cell_type": "code",
   "execution_count": 16,
   "id": "9f3667e9",
   "metadata": {},
   "outputs": [
    {
     "data": {
      "text/plain": [
       "{'verbs': [{'verb': 'was',\n",
       "   'description': 'Andy [be.01: was] disappointed with his new , bold , green hair color .',\n",
       "   'tags': ['O', 'B-V', 'O', 'O', 'O', 'O', 'O', 'O', 'O', 'O', 'O', 'O', 'O'],\n",
       "   'frame': 'be.01',\n",
       "   'frame_score': 0.8844010829925537,\n",
       "   'lemma': 'be'}],\n",
       " 'words': ['Andy',\n",
       "  'was',\n",
       "  'disappointed',\n",
       "  'with',\n",
       "  'his',\n",
       "  'new',\n",
       "  ',',\n",
       "  'bold',\n",
       "  ',',\n",
       "  'green',\n",
       "  'hair',\n",
       "  'color',\n",
       "  '.']}"
      ]
     },
     "execution_count": 16,
     "metadata": {},
     "output_type": "execute_result"
    }
   ],
   "source": [
    "# No verb detected\n",
    "sentence_to_srl(\"Andy was disappointed with his new, bold, green hair color.\")"
   ]
  },
  {
   "cell_type": "code",
   "execution_count": 14,
   "id": "76b189a5",
   "metadata": {
    "scrolled": true
   },
   "outputs": [
    {
     "data": {
      "text/plain": [
       "{'verbs': [{'verb': 'cheered',\n",
       "   'description': '[ARG0: Everybody] [cheer.02: cheered] !',\n",
       "   'tags': ['B-ARG0', 'B-V', 'O'],\n",
       "   'frame': 'cheer.02',\n",
       "   'frame_score': 0.999954342842102,\n",
       "   'lemma': 'cheer'}],\n",
       " 'words': ['Everybody', 'cheered', '!']}"
      ]
     },
     "execution_count": 14,
     "metadata": {},
     "output_type": "execute_result"
    }
   ],
   "source": [
    "# Only 1 argument\n",
    "sentence_to_srl(\"Everybody cheered!\")"
   ]
  },
  {
   "cell_type": "code",
   "execution_count": 15,
   "id": "5aecb9a2",
   "metadata": {},
   "outputs": [
    {
     "data": {
      "text/plain": [
       "{'verbs': [{'verb': 'passed',\n",
       "   'description': \"[ARG1: Eric 's wife] [pass.16: passed] away .\",\n",
       "   'tags': ['B-ARG1', 'I-ARG1', 'I-ARG1', 'B-V', 'O', 'O'],\n",
       "   'frame': 'pass.16',\n",
       "   'frame_score': 0.9999988079071045,\n",
       "   'lemma': 'pass'}],\n",
       " 'words': ['Eric', \"'s\", 'wife', 'passed', 'away', '.']}"
      ]
     },
     "execution_count": 15,
     "metadata": {},
     "output_type": "execute_result"
    }
   ],
   "source": [
    "# Only 1 argument\n",
    "sentence_to_srl(\"Eric's wife passed away.\")"
   ]
  },
  {
   "cell_type": "code",
   "execution_count": null,
   "id": "98740a2e",
   "metadata": {},
   "outputs": [],
   "source": []
  }
 ],
 "metadata": {
  "kernelspec": {
   "display_name": "Python 3",
   "language": "python",
   "name": "python3"
  },
  "language_info": {
   "codemirror_mode": {
    "name": "ipython",
    "version": 3
   },
   "file_extension": ".py",
   "mimetype": "text/x-python",
   "name": "python",
   "nbconvert_exporter": "python",
   "pygments_lexer": "ipython3",
   "version": "3.6.13"
  }
 },
 "nbformat": 4,
 "nbformat_minor": 5
}
