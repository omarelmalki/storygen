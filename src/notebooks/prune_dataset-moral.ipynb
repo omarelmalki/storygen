{
 "cells": [
  {
   "cell_type": "code",
   "execution_count": 242,
   "id": "c969ca5a",
   "metadata": {},
   "outputs": [],
   "source": [
    "import pandas as pd\n",
    "import string\n",
    "import nltk\n",
    "from tqdm import tqdm\n",
    "tqdm.pandas()\n",
    "pd.set_option('display.max_colwidth', None)\n",
    "pd.set_option('display.max_rows', None)\n",
    "pd.set_option('display.max_columns', None)\n",
    "pd.options.mode.chained_assignment = None"
   ]
  },
  {
   "cell_type": "code",
   "execution_count": 243,
   "id": "3eca8cf6",
   "metadata": {},
   "outputs": [
    {
     "name": "stderr",
     "output_type": "stream",
     "text": [
      "[nltk_data] Downloading package stopwords to /Users/omar/nltk_data...\n",
      "[nltk_data]   Package stopwords is already up-to-date!\n"
     ]
    }
   ],
   "source": [
    "nltk.download('stopwords')\n",
    "nltk_stopwords = set(nltk.corpus.stopwords.words('english'))"
   ]
  },
  {
   "cell_type": "code",
   "execution_count": 244,
   "id": "6944d536",
   "metadata": {},
   "outputs": [],
   "source": [
    "# Read ROCStories into pandas DataFrame\n",
    "roc_stories_train_path = \"../data/moral_stories/storal_label/mo2st_data/storal_en/storal_en_label_train.jsonl\"\n",
    "roc_stories_train_df = pd.read_json(path_or_buf=roc_stories_train_path, lines=True)\n",
    "\n",
    "# Read ROCStories into pandas DataFrame\n",
    "roc_stories_valid_path = \"../data/moral_stories/storal_label/mo2st_data/storal_en/storal_en_label_valid.jsonl\"\n",
    "roc_stories_valid_df = pd.read_json(path_or_buf=roc_stories_valid_path, lines=True)\n",
    "\n",
    "# Read ROCStories into pandas DataFrame\n",
    "roc_stories_test_path = \"../data/moral_stories/storal_label/mo2st_data/storal_en/storal_en_label_test.jsonl\"\n",
    "roc_stories_test_df = pd.read_json(path_or_buf=roc_stories_test_path, lines=True)"
   ]
  },
  {
   "cell_type": "code",
   "execution_count": 245,
   "id": "0b2c46de",
   "metadata": {},
   "outputs": [],
   "source": [
    "roc_stories_df = pd.concat([roc_stories_train_df, roc_stories_valid_df, roc_stories_test_df])"
   ]
  },
  {
   "cell_type": "code",
   "execution_count": 246,
   "id": "4e123f60",
   "metadata": {},
   "outputs": [],
   "source": [
    "roc_stories_df['text'] = roc_stories_df['beginning'] + ' ' + roc_stories_df['story']"
   ]
  },
  {
   "cell_type": "code",
   "execution_count": 247,
   "id": "9f8d6136",
   "metadata": {},
   "outputs": [],
   "source": [
    "roc_stories_df = roc_stories_df[['text']]"
   ]
  },
  {
   "cell_type": "code",
   "execution_count": 248,
   "id": "7496f05c",
   "metadata": {},
   "outputs": [],
   "source": [
    "def n_sentences(text):\n",
    "    return len(text.split('.'))"
   ]
  },
  {
   "cell_type": "code",
   "execution_count": 249,
   "id": "d5cd5971",
   "metadata": {},
   "outputs": [
    {
     "name": "stderr",
     "output_type": "stream",
     "text": [
      "100%|██████████| 1779/1779 [00:00<00:00, 225475.68it/s]\n"
     ]
    }
   ],
   "source": [
    "roc_stories_df['n_sentences'] = roc_stories_df['text'].progress_apply(n_sentences)"
   ]
  },
  {
   "cell_type": "code",
   "execution_count": 250,
   "id": "8432e234",
   "metadata": {},
   "outputs": [],
   "source": [
    "roc_stories_df = roc_stories_df[roc_stories_df['n_sentences'] <= 10]"
   ]
  },
  {
   "cell_type": "code",
   "execution_count": 251,
   "id": "da26dc13",
   "metadata": {},
   "outputs": [
    {
     "data": {
      "text/plain": [
       "602"
      ]
     },
     "execution_count": 251,
     "metadata": {},
     "output_type": "execute_result"
    }
   ],
   "source": [
    "len(roc_stories_df)"
   ]
  },
  {
   "cell_type": "code",
   "execution_count": 252,
   "id": "1394f993",
   "metadata": {},
   "outputs": [],
   "source": [
    "punctuation = set(['' if c == ' ' else c for c in string.punctuation])"
   ]
  },
  {
   "cell_type": "code",
   "execution_count": 253,
   "id": "cb08f5bd",
   "metadata": {},
   "outputs": [],
   "source": [
    "def remove_punctuation(text):\n",
    "    return ''.join(['' if c in punctuation else c for c in text])"
   ]
  },
  {
   "cell_type": "code",
   "execution_count": 254,
   "id": "f5ec265b",
   "metadata": {},
   "outputs": [],
   "source": [
    "def filter_stopwords(bigram):\n",
    "    for word in bigram.split():\n",
    "        if word in nltk_stopwords:\n",
    "            return False\n",
    "    return True"
   ]
  },
  {
   "cell_type": "code",
   "execution_count": 255,
   "id": "5a6e2507",
   "metadata": {},
   "outputs": [],
   "source": [
    "def extract_ngrams(text, n):\n",
    "    res = []\n",
    "    text = remove_punctuation(text)\n",
    "    words = text.lower().split()\n",
    "    two_grams = [\" \".join(words[i:i+n]) for i in range(len(words) - n + 1)]\n",
    "    two_grams = [b for b in two_grams if filter_stopwords(b) ]\n",
    "    return set(two_grams)"
   ]
  },
  {
   "cell_type": "code",
   "execution_count": 256,
   "id": "8828b60f",
   "metadata": {},
   "outputs": [],
   "source": [
    "def extract_bigrams_story(story):\n",
    "    sentences = story.split('.')\n",
    "    bigrams = [extract_ngrams(s, 2) for s in sentences]\n",
    "    return bigrams"
   ]
  },
  {
   "cell_type": "code",
   "execution_count": 257,
   "id": "0c7cce07",
   "metadata": {},
   "outputs": [],
   "source": [
    "def bigram_overlap(set1, set2):\n",
    "    return bool(set1 & set2)"
   ]
  },
  {
   "cell_type": "code",
   "execution_count": 258,
   "id": "05cea6d0",
   "metadata": {},
   "outputs": [],
   "source": [
    "def get_overlaps(bigrams, d):\n",
    "    overlaps = []\n",
    "    for i1 in range(len(bigrams) - d):\n",
    "        b1 = bigrams[i1]\n",
    "        for i2 in range(i1 + d, len(bigrams)):\n",
    "            if bigram_overlap(b1, bigrams[i2]):\n",
    "                overlaps.append((i1, i2))\n",
    "    return overlaps"
   ]
  },
  {
   "cell_type": "code",
   "execution_count": 259,
   "id": "ecb9fe26",
   "metadata": {},
   "outputs": [
    {
     "name": "stderr",
     "output_type": "stream",
     "text": [
      "100%|██████████| 602/602 [00:00<00:00, 6821.63it/s]\n"
     ]
    }
   ],
   "source": [
    "roc_stories_df[f'bigrams'] = roc_stories_df['text'].progress_apply(extract_bigrams_story)"
   ]
  },
  {
   "cell_type": "code",
   "execution_count": 260,
   "id": "3a62867b",
   "metadata": {},
   "outputs": [
    {
     "name": "stderr",
     "output_type": "stream",
     "text": [
      "100%|██████████| 602/602 [00:00<00:00, 99631.89it/s]\n"
     ]
    }
   ],
   "source": [
    "roc_stories_df[f'overlaps'] = roc_stories_df[f'bigrams'].progress_apply(lambda x: get_overlaps(x, 2))"
   ]
  },
  {
   "cell_type": "code",
   "execution_count": 261,
   "id": "4900c025",
   "metadata": {},
   "outputs": [
    {
     "name": "stderr",
     "output_type": "stream",
     "text": [
      "100%|██████████| 602/602 [00:00<00:00, 458169.30it/s]\n"
     ]
    }
   ],
   "source": [
    "roc_stories_df[f'n_overlaps'] = roc_stories_df[f'overlaps'].progress_apply(lambda x: len(x))"
   ]
  },
  {
   "cell_type": "code",
   "execution_count": 262,
   "id": "750474b0",
   "metadata": {},
   "outputs": [],
   "source": [
    "pruned_ds = roc_stories_df[roc_stories_df[f'n_overlaps'] > 0]"
   ]
  },
  {
   "cell_type": "code",
   "execution_count": 263,
   "id": "70fe94ad",
   "metadata": {},
   "outputs": [
    {
     "data": {
      "text/plain": [
       "90"
      ]
     },
     "execution_count": 263,
     "metadata": {},
     "output_type": "execute_result"
    }
   ],
   "source": [
    "len(pruned_ds)"
   ]
  },
  {
   "cell_type": "code",
   "execution_count": 264,
   "id": "523ef429",
   "metadata": {},
   "outputs": [
    {
     "data": {
      "text/html": [
       "<div>\n",
       "<style scoped>\n",
       "    .dataframe tbody tr th:only-of-type {\n",
       "        vertical-align: middle;\n",
       "    }\n",
       "\n",
       "    .dataframe tbody tr th {\n",
       "        vertical-align: top;\n",
       "    }\n",
       "\n",
       "    .dataframe thead th {\n",
       "        text-align: right;\n",
       "    }\n",
       "</style>\n",
       "<table border=\"1\" class=\"dataframe\">\n",
       "  <thead>\n",
       "    <tr style=\"text-align: right;\">\n",
       "      <th></th>\n",
       "      <th>text</th>\n",
       "      <th>n_sentences</th>\n",
       "      <th>bigrams</th>\n",
       "      <th>overlaps</th>\n",
       "      <th>n_overlaps</th>\n",
       "    </tr>\n",
       "  </thead>\n",
       "  <tbody>\n",
       "    <tr>\n",
       "      <th>4</th>\n",
       "      <td>Two travellers, walking in the noonday sun, sought the shade of a widespreading tree to rest. As they lay looking up among the pleasant leaves, they saw that it was a plane tree. \"How useless is the plane!\" Said one of them. \"It bears no fruit whatever, and only serves to litter the ground with leaves.\"\"Ungrateful creatures!\" Said a voice from the plane tree. \"You lie here in my cooling shade, and yet you say I am useless! thus ungratefully, o jupiter, do men receive their blessings!\"</td>\n",
       "      <td>6</td>\n",
       "      <td>[{noonday sun, widespreading tree, travellers walking, two travellers, sun sought}, {lay looking, plane tree, pleasant leaves}, {plane said, said one}, {fruit whatever}, {plane tree, creatures said, ungrateful creatures}, {useless thus, cooling shade, thus ungratefully, men receive}]</td>\n",
       "      <td>[(1, 4)]</td>\n",
       "      <td>1</td>\n",
       "    </tr>\n",
       "    <tr>\n",
       "      <th>10</th>\n",
       "      <td>A fox fell into a well, and though it was not very deep, he found that he could not get out again. After he had been in the well a long time, a thirsty goat came by. The goat thought the fox had gone down to drink, and so he asked if the water was good. \"The finest in the whole country,\" Said the crafty fox, \"Jump in and try it. there is more than enough for both of us.\"The thirsty goat immediately jumped in and began to drink. The fox just as quickly jumped on the goat's back and leaped from the tip of the goat's horns out of the wellthe foolish goat now saw what a plight he had got into, and begged the fox to help him out. But the fox was already on his way to the woods\"If you had as much sense as you have beard, old fellow,\" He said as he ran, \"You would have been more cautious about finding a way to get out again before you jumped in.\"</td>\n",
       "      <td>9</td>\n",
       "      <td>[{fox fell}, {goat came, long time, thirsty goat}, {goat thought}, {whole country, crafty fox, fox jump, country said}, {}, {immediately jumped, goat immediately, thirsty goat}, {foolish goat, quickly jumped, goats back, wellthe foolish, goats horns}, {much sense, beard old, old fellow}, {}]</td>\n",
       "      <td>[(1, 5)]</td>\n",
       "      <td>1</td>\n",
       "    </tr>\n",
       "    <tr>\n",
       "      <th>23</th>\n",
       "      <td>An ass was being driven along a road leading down the mountain side, when he suddenly took it into his silly head to choose his own path. He could see his stall at the foot of the mountain, and to him the quickest way down seemed to be over the edge of the nearest cliff. Just as he was about to leap over, his master caught him by the tail and tried to pull him back, but the stubborn ass would not yield and pulled with all his might. \"Very well,\" Said his master, \"Go your way, you willful beast, and see where it leads you.\"With that he let go, and the foolish ass tumbled head over heels down the mountain side.</td>\n",
       "      <td>6</td>\n",
       "      <td>[{road leading, driven along, mountain side, silly head, suddenly took}, {nearest cliff, quickest way, could see}, {ass would, stubborn ass, master caught}, {willful beast, well said, master go}, {let go, mountain side, foolish ass, ass tumbled, tumbled head}, {}]</td>\n",
       "      <td>[(0, 4)]</td>\n",
       "      <td>1</td>\n",
       "    </tr>\n",
       "    <tr>\n",
       "      <th>53</th>\n",
       "      <td>There was once a countryman who possessed the most wonderful goose you can imagine, for every day when he visited the nest, the goose had laid a beautiful, glittering, golden egg. The countryman took the eggs to market and soon began to get rich. But it was not long before he grew impatient with the goose because she gave him only a single golden egg a day. He was not getting rich fast enough. Then one day, after he had finished counting his money, the idea came to him that he could get all the golden eggs at once by killing the goose and cutting it open. But when the deed was done, not a single golden egg did he find, and his precious goose was dead.</td>\n",
       "      <td>7</td>\n",
       "      <td>[{every day, beautiful glittering, golden egg, glittering golden, wonderful goose}, {soon began, countryman took, get rich}, {golden egg, grew impatient, single golden}, {getting rich, fast enough, rich fast}, {one day, finished counting, golden eggs, could get, idea came}, {golden egg, precious goose, single golden}, {}]</td>\n",
       "      <td>[(0, 2), (0, 5), (2, 5)]</td>\n",
       "      <td>3</td>\n",
       "    </tr>\n",
       "    <tr>\n",
       "      <th>54</th>\n",
       "      <td>One cold stormy day a goatherd drove his goats for shelter into a cave, where a number of wild goats had also found their way. The shepherd wanted to make the wild goats part of his flock; so he fed them well. But to his own flock, he gave only just enough food to keep them alive. When the weather cleared, and the shepherd led the goats out to feed, the wild goats scampered off to the hills. \"Is that the thanks I get for feeding you and treating you so well?\" Complained the shepherd. \"Do not expect us to join your flock,\" Replied one of the wild goats. \"We know how you would treat us later on, if some strangers should come as we did.\"</td>\n",
       "      <td>8</td>\n",
       "      <td>[{stormy day, wild goats, cold stormy, goatherd drove, also found, one cold}, {shepherd wanted, goats part, wild goats}, {enough food}, {goats scampered, weather cleared, wild goats, shepherd led}, {well complained}, {expect us, flock replied, wild goats, replied one}, {would treat, us later, treat us}, {}]</td>\n",
       "      <td>[(0, 3), (0, 5), (1, 3), (1, 5), (3, 5)]</td>\n",
       "      <td>5</td>\n",
       "    </tr>\n",
       "  </tbody>\n",
       "</table>\n",
       "</div>"
      ],
      "text/plain": [
       "                                                                                                                                                                                                                                                                                                                                                                                                                                                                                                                                                                                                                                                                                                                                                                                                                                                                                    text  \\\n",
       "4                                                                                                                                                                                                                                                                                                                                                                             Two travellers, walking in the noonday sun, sought the shade of a widespreading tree to rest. As they lay looking up among the pleasant leaves, they saw that it was a plane tree. \"How useless is the plane!\" Said one of them. \"It bears no fruit whatever, and only serves to litter the ground with leaves.\"\"Ungrateful creatures!\" Said a voice from the plane tree. \"You lie here in my cooling shade, and yet you say I am useless! thus ungratefully, o jupiter, do men receive their blessings!\"    \n",
       "10  A fox fell into a well, and though it was not very deep, he found that he could not get out again. After he had been in the well a long time, a thirsty goat came by. The goat thought the fox had gone down to drink, and so he asked if the water was good. \"The finest in the whole country,\" Said the crafty fox, \"Jump in and try it. there is more than enough for both of us.\"The thirsty goat immediately jumped in and began to drink. The fox just as quickly jumped on the goat's back and leaped from the tip of the goat's horns out of the wellthe foolish goat now saw what a plight he had got into, and begged the fox to help him out. But the fox was already on his way to the woods\"If you had as much sense as you have beard, old fellow,\" He said as he ran, \"You would have been more cautious about finding a way to get out again before you jumped in.\"    \n",
       "23                                                                                                                                                                                                                                             An ass was being driven along a road leading down the mountain side, when he suddenly took it into his silly head to choose his own path. He could see his stall at the foot of the mountain, and to him the quickest way down seemed to be over the edge of the nearest cliff. Just as he was about to leap over, his master caught him by the tail and tried to pull him back, but the stubborn ass would not yield and pulled with all his might. \"Very well,\" Said his master, \"Go your way, you willful beast, and see where it leads you.\"With that he let go, and the foolish ass tumbled head over heels down the mountain side.    \n",
       "53                                                                                                                                                                                                  There was once a countryman who possessed the most wonderful goose you can imagine, for every day when he visited the nest, the goose had laid a beautiful, glittering, golden egg. The countryman took the eggs to market and soon began to get rich. But it was not long before he grew impatient with the goose because she gave him only a single golden egg a day. He was not getting rich fast enough. Then one day, after he had finished counting his money, the idea came to him that he could get all the golden eggs at once by killing the goose and cutting it open. But when the deed was done, not a single golden egg did he find, and his precious goose was dead.    \n",
       "54                                                                                                                                                                                                                   One cold stormy day a goatherd drove his goats for shelter into a cave, where a number of wild goats had also found their way. The shepherd wanted to make the wild goats part of his flock; so he fed them well. But to his own flock, he gave only just enough food to keep them alive. When the weather cleared, and the shepherd led the goats out to feed, the wild goats scampered off to the hills. \"Is that the thanks I get for feeding you and treating you so well?\" Complained the shepherd. \"Do not expect us to join your flock,\" Replied one of the wild goats. \"We know how you would treat us later on, if some strangers should come as we did.\"    \n",
       "\n",
       "    n_sentences  \\\n",
       "4             6   \n",
       "10            9   \n",
       "23            6   \n",
       "53            7   \n",
       "54            8   \n",
       "\n",
       "                                                                                                                                                                                                                                                                                                                                bigrams  \\\n",
       "4                                          [{noonday sun, widespreading tree, travellers walking, two travellers, sun sought}, {lay looking, plane tree, pleasant leaves}, {plane said, said one}, {fruit whatever}, {plane tree, creatures said, ungrateful creatures}, {useless thus, cooling shade, thus ungratefully, men receive}]   \n",
       "10                                 [{fox fell}, {goat came, long time, thirsty goat}, {goat thought}, {whole country, crafty fox, fox jump, country said}, {}, {immediately jumped, goat immediately, thirsty goat}, {foolish goat, quickly jumped, goats back, wellthe foolish, goats horns}, {much sense, beard old, old fellow}, {}]   \n",
       "23                                                             [{road leading, driven along, mountain side, silly head, suddenly took}, {nearest cliff, quickest way, could see}, {ass would, stubborn ass, master caught}, {willful beast, well said, master go}, {let go, mountain side, foolish ass, ass tumbled, tumbled head}, {}]   \n",
       "53  [{every day, beautiful glittering, golden egg, glittering golden, wonderful goose}, {soon began, countryman took, get rich}, {golden egg, grew impatient, single golden}, {getting rich, fast enough, rich fast}, {one day, finished counting, golden eggs, could get, idea came}, {golden egg, precious goose, single golden}, {}]   \n",
       "54                 [{stormy day, wild goats, cold stormy, goatherd drove, also found, one cold}, {shepherd wanted, goats part, wild goats}, {enough food}, {goats scampered, weather cleared, wild goats, shepherd led}, {well complained}, {expect us, flock replied, wild goats, replied one}, {would treat, us later, treat us}, {}]   \n",
       "\n",
       "                                    overlaps  n_overlaps  \n",
       "4                                   [(1, 4)]           1  \n",
       "10                                  [(1, 5)]           1  \n",
       "23                                  [(0, 4)]           1  \n",
       "53                  [(0, 2), (0, 5), (2, 5)]           3  \n",
       "54  [(0, 3), (0, 5), (1, 3), (1, 5), (3, 5)]           5  "
      ]
     },
     "execution_count": 264,
     "metadata": {},
     "output_type": "execute_result"
    }
   ],
   "source": [
    "pruned_ds.head()"
   ]
  },
  {
   "cell_type": "code",
   "execution_count": null,
   "id": "a320bbe5",
   "metadata": {},
   "outputs": [],
   "source": []
  },
  {
   "cell_type": "code",
   "execution_count": null,
   "id": "9ccc6d29",
   "metadata": {},
   "outputs": [],
   "source": []
  }
 ],
 "metadata": {
  "kernelspec": {
   "display_name": "Python 3",
   "language": "python",
   "name": "python3"
  },
  "language_info": {
   "codemirror_mode": {
    "name": "ipython",
    "version": 3
   },
   "file_extension": ".py",
   "mimetype": "text/x-python",
   "name": "python",
   "nbconvert_exporter": "python",
   "pygments_lexer": "ipython3",
   "version": "3.6.13"
  }
 },
 "nbformat": 4,
 "nbformat_minor": 5
}
