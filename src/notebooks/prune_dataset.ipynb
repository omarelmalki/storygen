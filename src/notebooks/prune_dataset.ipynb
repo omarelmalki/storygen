{
 "cells": [
  {
   "cell_type": "code",
   "execution_count": 125,
   "id": "c969ca5a",
   "metadata": {},
   "outputs": [],
   "source": [
    "import pandas as pd\n",
    "import string\n",
    "import re\n",
    "from tqdm import tqdm\n",
    "tqdm.pandas()\n",
    "pd.set_option('display.max_colwidth', None)\n",
    "pd.set_option('display.max_rows', None)\n",
    "pd.set_option('display.max_columns', None)\n",
    "pd.options.mode.chained_assignment = None"
   ]
  },
  {
   "cell_type": "code",
   "execution_count": 126,
   "id": "6944d536",
   "metadata": {},
   "outputs": [],
   "source": [
    "# Read ROCStories into pandas DataFrame\n",
    "roc_stories_path = \"../data/rocstories/ROCStories.csv\"\n",
    "roc_stories_df = pd.read_csv(roc_stories_path, sep=',', header=0)"
   ]
  },
  {
   "cell_type": "code",
   "execution_count": 127,
   "id": "da26dc13",
   "metadata": {},
   "outputs": [
    {
     "data": {
      "text/html": [
       "<div>\n",
       "<style scoped>\n",
       "    .dataframe tbody tr th:only-of-type {\n",
       "        vertical-align: middle;\n",
       "    }\n",
       "\n",
       "    .dataframe tbody tr th {\n",
       "        vertical-align: top;\n",
       "    }\n",
       "\n",
       "    .dataframe thead th {\n",
       "        text-align: right;\n",
       "    }\n",
       "</style>\n",
       "<table border=\"1\" class=\"dataframe\">\n",
       "  <thead>\n",
       "    <tr style=\"text-align: right;\">\n",
       "      <th></th>\n",
       "      <th>storyid</th>\n",
       "      <th>storytitle</th>\n",
       "      <th>sentence1</th>\n",
       "      <th>sentence2</th>\n",
       "      <th>sentence3</th>\n",
       "      <th>sentence4</th>\n",
       "      <th>sentence5</th>\n",
       "    </tr>\n",
       "  </thead>\n",
       "  <tbody>\n",
       "    <tr>\n",
       "      <th>0</th>\n",
       "      <td>9a51198e-96f1-42c3-b09d-a3e1e067d803</td>\n",
       "      <td>Overweight Kid</td>\n",
       "      <td>Dan's parents were overweight.</td>\n",
       "      <td>Dan was overweight as well.</td>\n",
       "      <td>The doctors told his parents it was unhealthy.</td>\n",
       "      <td>His parents understood and decided to make a change.</td>\n",
       "      <td>They got themselves and Dan on a diet.</td>\n",
       "    </tr>\n",
       "    <tr>\n",
       "      <th>1</th>\n",
       "      <td>617e7ada-3878-488d-bd56-40695b91f053</td>\n",
       "      <td>The Bike Accident</td>\n",
       "      <td>Carrie had just learned how to ride a bike.</td>\n",
       "      <td>She didn't have a bike of her own.</td>\n",
       "      <td>Carrie would sneak rides on her sister's bike.</td>\n",
       "      <td>She got nervous on a hill and crashed into a wall.</td>\n",
       "      <td>The bike frame bent and Carrie got a deep gash on her leg.</td>\n",
       "    </tr>\n",
       "    <tr>\n",
       "      <th>2</th>\n",
       "      <td>79b0da1f-e460-4173-ba58-8c9e2553c53a</td>\n",
       "      <td>Beach</td>\n",
       "      <td>Morgan enjoyed long walks on the beach.</td>\n",
       "      <td>She and her boyfriend decided to go for a long walk.</td>\n",
       "      <td>After walking for over a mile, something happened.</td>\n",
       "      <td>Morgan decided to propose to her boyfriend.</td>\n",
       "      <td>Her boyfriend was upset he didn't propose to her first.</td>\n",
       "    </tr>\n",
       "    <tr>\n",
       "      <th>3</th>\n",
       "      <td>d173b7de-4611-4cdf-934c-912834755e41</td>\n",
       "      <td>The bad customer.</td>\n",
       "      <td>Jane was working at a diner.</td>\n",
       "      <td>Suddenly, a customer barged up to the counter.</td>\n",
       "      <td>He began yelling about how long his food was taking.</td>\n",
       "      <td>Jane didn't know how to react.</td>\n",
       "      <td>Luckily, her coworker intervened and calmed the man down.</td>\n",
       "    </tr>\n",
       "    <tr>\n",
       "      <th>4</th>\n",
       "      <td>af0fd5a4-de36-47ba-8aa2-e99d10986d7a</td>\n",
       "      <td>Being Patient</td>\n",
       "      <td>I was talking to my crush today.</td>\n",
       "      <td>She continued to complain about guys flirting with her.</td>\n",
       "      <td>I decided to agree with what she says and listened to her patiently.</td>\n",
       "      <td>After I got home, I got a text from her.</td>\n",
       "      <td>She asked if we can hang out tomorrow.</td>\n",
       "    </tr>\n",
       "  </tbody>\n",
       "</table>\n",
       "</div>"
      ],
      "text/plain": [
       "                                storyid         storytitle  \\\n",
       "0  9a51198e-96f1-42c3-b09d-a3e1e067d803     Overweight Kid   \n",
       "1  617e7ada-3878-488d-bd56-40695b91f053  The Bike Accident   \n",
       "2  79b0da1f-e460-4173-ba58-8c9e2553c53a              Beach   \n",
       "3  d173b7de-4611-4cdf-934c-912834755e41  The bad customer.   \n",
       "4  af0fd5a4-de36-47ba-8aa2-e99d10986d7a      Being Patient   \n",
       "\n",
       "                                     sentence1  \\\n",
       "0               Dan's parents were overweight.   \n",
       "1  Carrie had just learned how to ride a bike.   \n",
       "2      Morgan enjoyed long walks on the beach.   \n",
       "3                 Jane was working at a diner.   \n",
       "4             I was talking to my crush today.   \n",
       "\n",
       "                                                 sentence2  \\\n",
       "0                              Dan was overweight as well.   \n",
       "1                       She didn't have a bike of her own.   \n",
       "2     She and her boyfriend decided to go for a long walk.   \n",
       "3           Suddenly, a customer barged up to the counter.   \n",
       "4  She continued to complain about guys flirting with her.   \n",
       "\n",
       "                                                              sentence3  \\\n",
       "0                        The doctors told his parents it was unhealthy.   \n",
       "1                        Carrie would sneak rides on her sister's bike.   \n",
       "2                    After walking for over a mile, something happened.   \n",
       "3                  He began yelling about how long his food was taking.   \n",
       "4  I decided to agree with what she says and listened to her patiently.   \n",
       "\n",
       "                                              sentence4  \\\n",
       "0  His parents understood and decided to make a change.   \n",
       "1    She got nervous on a hill and crashed into a wall.   \n",
       "2           Morgan decided to propose to her boyfriend.   \n",
       "3                        Jane didn't know how to react.   \n",
       "4              After I got home, I got a text from her.   \n",
       "\n",
       "                                                    sentence5  \n",
       "0                      They got themselves and Dan on a diet.  \n",
       "1  The bike frame bent and Carrie got a deep gash on her leg.  \n",
       "2     Her boyfriend was upset he didn't propose to her first.  \n",
       "3   Luckily, her coworker intervened and calmed the man down.  \n",
       "4                      She asked if we can hang out tomorrow.  "
      ]
     },
     "execution_count": 127,
     "metadata": {},
     "output_type": "execute_result"
    }
   ],
   "source": [
    "roc_stories_df.head()"
   ]
  },
  {
   "cell_type": "code",
   "execution_count": 128,
   "id": "1394f993",
   "metadata": {},
   "outputs": [],
   "source": [
    "punctuation = set(['' if c == ' ' else c for c in string.punctuation])"
   ]
  },
  {
   "cell_type": "code",
   "execution_count": 129,
   "id": "cb08f5bd",
   "metadata": {},
   "outputs": [],
   "source": [
    "def remove_punctuation(text):\n",
    "    return ''.join(['' if c in punctuation else c for c in text])"
   ]
  },
  {
   "cell_type": "code",
   "execution_count": 130,
   "id": "5a6e2507",
   "metadata": {},
   "outputs": [],
   "source": [
    "def extract_bigrams(text):\n",
    "    res = []\n",
    "    text = remove_punctuation(text)\n",
    "    words = text.lower().split()\n",
    "    two_grams = [\" \".join(words[i:i+2]) for i in range(len(words) - 1)]\n",
    "    return set(two_grams)"
   ]
  },
  {
   "cell_type": "code",
   "execution_count": 131,
   "id": "ecb9fe26",
   "metadata": {},
   "outputs": [
    {
     "name": "stderr",
     "output_type": "stream",
     "text": [
      "100%|██████████| 98161/98161 [00:00<00:00, 128541.20it/s]\n",
      "100%|██████████| 98161/98161 [00:00<00:00, 119974.95it/s]\n",
      "100%|██████████| 98161/98161 [00:00<00:00, 122658.63it/s]\n",
      "100%|██████████| 98161/98161 [00:00<00:00, 121032.10it/s]\n",
      "100%|██████████| 98161/98161 [00:00<00:00, 113602.54it/s]\n"
     ]
    }
   ],
   "source": [
    "for n in range(1, 6):\n",
    "    roc_stories_df[f'bigrams_{n}'] = roc_stories_df[f'sentence{n}'].progress_apply(extract_bigrams)"
   ]
  },
  {
   "cell_type": "code",
   "execution_count": 132,
   "id": "0c7cce07",
   "metadata": {},
   "outputs": [],
   "source": [
    "def bigram_overlap(set1, set2):\n",
    "    return bool(set1 & set2)"
   ]
  },
  {
   "cell_type": "code",
   "execution_count": 133,
   "id": "c3091f03",
   "metadata": {},
   "outputs": [],
   "source": [
    "overlapping_sentences = [(1,3), (1,4), (2,4), (3,5)]"
   ]
  },
  {
   "cell_type": "code",
   "execution_count": 134,
   "id": "3b5661f0",
   "metadata": {},
   "outputs": [
    {
     "name": "stderr",
     "output_type": "stream",
     "text": [
      "100%|██████████| 98161/98161 [00:01<00:00, 83242.89it/s]\n",
      "100%|██████████| 98161/98161 [00:05<00:00, 16753.98it/s]\n",
      "100%|██████████| 98161/98161 [00:01<00:00, 81317.80it/s]\n",
      "100%|██████████| 98161/98161 [00:01<00:00, 83061.92it/s]\n"
     ]
    }
   ],
   "source": [
    "for src, tgt in overlapping_sentences:\n",
    "    roc_stories_df[f'overlap_{src}_{tgt}'] = roc_stories_df[[f'bigrams_{src}', f'bigrams_{tgt}']].progress_apply(lambda x: bigram_overlap(x[f'bigrams_{src}'], x[f'bigrams_{tgt}']), axis=1)"
   ]
  },
  {
   "cell_type": "code",
   "execution_count": 135,
   "id": "750474b0",
   "metadata": {},
   "outputs": [],
   "source": [
    "pruned_ds = roc_stories_df[roc_stories_df['overlap_1_3'] | roc_stories_df['overlap_1_4'] | roc_stories_df['overlap_2_4']]"
   ]
  },
  {
   "cell_type": "code",
   "execution_count": 136,
   "id": "70fe94ad",
   "metadata": {},
   "outputs": [
    {
     "data": {
      "text/plain": [
       "25067"
      ]
     },
     "execution_count": 136,
     "metadata": {},
     "output_type": "execute_result"
    }
   ],
   "source": [
    "len(pruned_ds)"
   ]
  },
  {
   "cell_type": "code",
   "execution_count": 137,
   "id": "0066dd39",
   "metadata": {},
   "outputs": [],
   "source": [
    "sentence_4_pruned_ds = roc_stories_df[roc_stories_df['overlap_1_4'] | roc_stories_df['overlap_2_4']]"
   ]
  },
  {
   "cell_type": "code",
   "execution_count": 138,
   "id": "b2baf844",
   "metadata": {},
   "outputs": [
    {
     "data": {
      "text/plain": [
       "18643"
      ]
     },
     "execution_count": 138,
     "metadata": {},
     "output_type": "execute_result"
    }
   ],
   "source": [
    "len(sentence_4_pruned_ds)"
   ]
  },
  {
   "cell_type": "code",
   "execution_count": 139,
   "id": "523ef429",
   "metadata": {},
   "outputs": [
    {
     "data": {
      "text/html": [
       "<div>\n",
       "<style scoped>\n",
       "    .dataframe tbody tr th:only-of-type {\n",
       "        vertical-align: middle;\n",
       "    }\n",
       "\n",
       "    .dataframe tbody tr th {\n",
       "        vertical-align: top;\n",
       "    }\n",
       "\n",
       "    .dataframe thead th {\n",
       "        text-align: right;\n",
       "    }\n",
       "</style>\n",
       "<table border=\"1\" class=\"dataframe\">\n",
       "  <thead>\n",
       "    <tr style=\"text-align: right;\">\n",
       "      <th></th>\n",
       "      <th>storyid</th>\n",
       "      <th>storytitle</th>\n",
       "      <th>sentence1</th>\n",
       "      <th>sentence2</th>\n",
       "      <th>sentence3</th>\n",
       "      <th>sentence4</th>\n",
       "      <th>sentence5</th>\n",
       "      <th>bigrams_1</th>\n",
       "      <th>bigrams_2</th>\n",
       "      <th>bigrams_3</th>\n",
       "      <th>bigrams_4</th>\n",
       "      <th>bigrams_5</th>\n",
       "      <th>overlap_1_3</th>\n",
       "      <th>overlap_1_4</th>\n",
       "      <th>overlap_2_4</th>\n",
       "      <th>overlap_3_5</th>\n",
       "    </tr>\n",
       "  </thead>\n",
       "  <tbody>\n",
       "    <tr>\n",
       "      <th>2</th>\n",
       "      <td>79b0da1f-e460-4173-ba58-8c9e2553c53a</td>\n",
       "      <td>Beach</td>\n",
       "      <td>Morgan enjoyed long walks on the beach.</td>\n",
       "      <td>She and her boyfriend decided to go for a long walk.</td>\n",
       "      <td>After walking for over a mile, something happened.</td>\n",
       "      <td>Morgan decided to propose to her boyfriend.</td>\n",
       "      <td>Her boyfriend was upset he didn't propose to her first.</td>\n",
       "      <td>{the beach, enjoyed long, on the, morgan enjoyed, walks on, long walks}</td>\n",
       "      <td>{decided to, go for, and her, a long, to go, long walk, her boyfriend, boyfriend decided, she and, for a}</td>\n",
       "      <td>{over a, after walking, walking for, mile something, something happened, a mile, for over}</td>\n",
       "      <td>{to her, decided to, morgan decided, her boyfriend, propose to, to propose}</td>\n",
       "      <td>{to her, didnt propose, her first, was upset, her boyfriend, propose to, upset he, he didnt, boyfriend was}</td>\n",
       "      <td>False</td>\n",
       "      <td>False</td>\n",
       "      <td>True</td>\n",
       "      <td>False</td>\n",
       "    </tr>\n",
       "    <tr>\n",
       "      <th>7</th>\n",
       "      <td>a4a9aaca-d3d4-46b4-807c-ef75aea68c56</td>\n",
       "      <td>Too sunny for Sunny</td>\n",
       "      <td>Sunny enjoyed going to the beach.</td>\n",
       "      <td>As she stepped out of her car, she realized she forgot something.</td>\n",
       "      <td>It was quite sunny and she forgot her sunglasses.</td>\n",
       "      <td>Sunny got back into her car and heading towards the mall.</td>\n",
       "      <td>Sunny found some sunglasses and headed back to the beach.</td>\n",
       "      <td>{sunny enjoyed, the beach, to the, going to, enjoyed going}</td>\n",
       "      <td>{of her, realized she, she forgot, car she, stepped out, she stepped, her car, as she, forgot something, out of, she realized}</td>\n",
       "      <td>{was quite, quite sunny, she forgot, sunny and, and she, it was, forgot her, her sunglasses}</td>\n",
       "      <td>{into her, heading towards, the mall, sunny got, got back, back into, and heading, towards the, her car, car and}</td>\n",
       "      <td>{the beach, headed back, found some, and headed, sunny found, to the, back to, some sunglasses, sunglasses and}</td>\n",
       "      <td>False</td>\n",
       "      <td>False</td>\n",
       "      <td>True</td>\n",
       "      <td>False</td>\n",
       "    </tr>\n",
       "    <tr>\n",
       "      <th>17</th>\n",
       "      <td>25dfd390-d56a-4dca-82bd-508c6ba6116d</td>\n",
       "      <td>Not Quite A Fairytale</td>\n",
       "      <td>A die hard shopper was waiting in the long line outside.</td>\n",
       "      <td>It was miserably cold.</td>\n",
       "      <td>The shopper saw a homeless man shivering in the alleyway.</td>\n",
       "      <td>He gave up his place in the line and brought a gift back from his car.</td>\n",
       "      <td>The shopper gave the homeless man a nice warm blanket.</td>\n",
       "      <td>{hard shopper, waiting in, the long, long line, shopper was, die hard, line outside, was waiting, in the, a die}</td>\n",
       "      <td>{was miserably, it was, miserably cold}</td>\n",
       "      <td>{shivering in, a homeless, shopper saw, the alleyway, homeless man, man shivering, the shopper, saw a, in the}</td>\n",
       "      <td>{his car, from his, he gave, and brought, place in, gift back, back from, in the, up his, gave up, a gift, line and, brought a, his place, the line}</td>\n",
       "      <td>{shopper gave, gave the, a nice, the homeless, homeless man, the shopper, warm blanket, nice warm, man a}</td>\n",
       "      <td>True</td>\n",
       "      <td>True</td>\n",
       "      <td>False</td>\n",
       "      <td>True</td>\n",
       "    </tr>\n",
       "    <tr>\n",
       "      <th>18</th>\n",
       "      <td>0a9e9018-c1dc-485d-adbe-c1e18f5e022f</td>\n",
       "      <td>Board game night</td>\n",
       "      <td>Jeff invited his friends over to play board games on Saturday night.</td>\n",
       "      <td>They arrived at his house early that evening.</td>\n",
       "      <td>The six of them sat around a big table.</td>\n",
       "      <td>They took turns deciding which game to play.</td>\n",
       "      <td>They spent six hours playing different board games.</td>\n",
       "      <td>{invited his, over to, saturday night, jeff invited, play board, to play, on saturday, board games, games on, his friends, friends over}</td>\n",
       "      <td>{early that, at his, arrived at, that evening, his house, they arrived, house early}</td>\n",
       "      <td>{six of, them sat, sat around, around a, the six, a big, big table, of them}</td>\n",
       "      <td>{took turns, to play, deciding which, game to, turns deciding, which game, they took}</td>\n",
       "      <td>{they spent, spent six, hours playing, board games, playing different, different board, six hours}</td>\n",
       "      <td>False</td>\n",
       "      <td>True</td>\n",
       "      <td>False</td>\n",
       "      <td>False</td>\n",
       "    </tr>\n",
       "    <tr>\n",
       "      <th>24</th>\n",
       "      <td>daed2b60-8579-4de5-b608-c8bdd1529692</td>\n",
       "      <td>Jeff moving</td>\n",
       "      <td>Jeff wanted to move out of his house.</td>\n",
       "      <td>He had no money to pay for a new one.</td>\n",
       "      <td>One day he bought a scratching ticket.</td>\n",
       "      <td>He won enough money for a down payment.</td>\n",
       "      <td>Jeff ended up moving to a new house.</td>\n",
       "      <td>{to move, of his, move out, jeff wanted, his house, wanted to, out of}</td>\n",
       "      <td>{a new, pay for, for a, new one, no money, money to, had no, he had, to pay}</td>\n",
       "      <td>{he bought, bought a, one day, a scratching, scratching ticket, day he}</td>\n",
       "      <td>{he won, money for, enough money, down payment, a down, won enough, for a}</td>\n",
       "      <td>{up moving, a new, jeff ended, new house, to a, moving to, ended up}</td>\n",
       "      <td>False</td>\n",
       "      <td>False</td>\n",
       "      <td>True</td>\n",
       "      <td>False</td>\n",
       "    </tr>\n",
       "  </tbody>\n",
       "</table>\n",
       "</div>"
      ],
      "text/plain": [
       "                                 storyid             storytitle  \\\n",
       "2   79b0da1f-e460-4173-ba58-8c9e2553c53a                  Beach   \n",
       "7   a4a9aaca-d3d4-46b4-807c-ef75aea68c56    Too sunny for Sunny   \n",
       "17  25dfd390-d56a-4dca-82bd-508c6ba6116d  Not Quite A Fairytale   \n",
       "18  0a9e9018-c1dc-485d-adbe-c1e18f5e022f       Board game night   \n",
       "24  daed2b60-8579-4de5-b608-c8bdd1529692            Jeff moving   \n",
       "\n",
       "                                                               sentence1  \\\n",
       "2                                Morgan enjoyed long walks on the beach.   \n",
       "7                                      Sunny enjoyed going to the beach.   \n",
       "17              A die hard shopper was waiting in the long line outside.   \n",
       "18  Jeff invited his friends over to play board games on Saturday night.   \n",
       "24                                 Jeff wanted to move out of his house.   \n",
       "\n",
       "                                                            sentence2  \\\n",
       "2                She and her boyfriend decided to go for a long walk.   \n",
       "7   As she stepped out of her car, she realized she forgot something.   \n",
       "17                                             It was miserably cold.   \n",
       "18                      They arrived at his house early that evening.   \n",
       "24                              He had no money to pay for a new one.   \n",
       "\n",
       "                                                    sentence3  \\\n",
       "2          After walking for over a mile, something happened.   \n",
       "7           It was quite sunny and she forgot her sunglasses.   \n",
       "17  The shopper saw a homeless man shivering in the alleyway.   \n",
       "18                    The six of them sat around a big table.   \n",
       "24                     One day he bought a scratching ticket.   \n",
       "\n",
       "                                                                 sentence4  \\\n",
       "2                              Morgan decided to propose to her boyfriend.   \n",
       "7                Sunny got back into her car and heading towards the mall.   \n",
       "17  He gave up his place in the line and brought a gift back from his car.   \n",
       "18                            They took turns deciding which game to play.   \n",
       "24                                 He won enough money for a down payment.   \n",
       "\n",
       "                                                    sentence5  \\\n",
       "2     Her boyfriend was upset he didn't propose to her first.   \n",
       "7   Sunny found some sunglasses and headed back to the beach.   \n",
       "17     The shopper gave the homeless man a nice warm blanket.   \n",
       "18        They spent six hours playing different board games.   \n",
       "24                       Jeff ended up moving to a new house.   \n",
       "\n",
       "                                                                                                                                   bigrams_1  \\\n",
       "2                                                                    {the beach, enjoyed long, on the, morgan enjoyed, walks on, long walks}   \n",
       "7                                                                                {sunny enjoyed, the beach, to the, going to, enjoyed going}   \n",
       "17                          {hard shopper, waiting in, the long, long line, shopper was, die hard, line outside, was waiting, in the, a die}   \n",
       "18  {invited his, over to, saturday night, jeff invited, play board, to play, on saturday, board games, games on, his friends, friends over}   \n",
       "24                                                                    {to move, of his, move out, jeff wanted, his house, wanted to, out of}   \n",
       "\n",
       "                                                                                                                         bigrams_2  \\\n",
       "2                        {decided to, go for, and her, a long, to go, long walk, her boyfriend, boyfriend decided, she and, for a}   \n",
       "7   {of her, realized she, she forgot, car she, stepped out, she stepped, her car, as she, forgot something, out of, she realized}   \n",
       "17                                                                                         {was miserably, it was, miserably cold}   \n",
       "18                                            {early that, at his, arrived at, that evening, his house, they arrived, house early}   \n",
       "24                                                    {a new, pay for, for a, new one, no money, money to, had no, he had, to pay}   \n",
       "\n",
       "                                                                                                         bigrams_3  \\\n",
       "2                       {over a, after walking, walking for, mile something, something happened, a mile, for over}   \n",
       "7                     {was quite, quite sunny, she forgot, sunny and, and she, it was, forgot her, her sunglasses}   \n",
       "17  {shivering in, a homeless, shopper saw, the alleyway, homeless man, man shivering, the shopper, saw a, in the}   \n",
       "18                                    {six of, them sat, sat around, around a, the six, a big, big table, of them}   \n",
       "24                                         {he bought, bought a, one day, a scratching, scratching ticket, day he}   \n",
       "\n",
       "                                                                                                                                               bigrams_4  \\\n",
       "2                                                                            {to her, decided to, morgan decided, her boyfriend, propose to, to propose}   \n",
       "7                                      {into her, heading towards, the mall, sunny got, got back, back into, and heading, towards the, her car, car and}   \n",
       "17  {his car, from his, he gave, and brought, place in, gift back, back from, in the, up his, gave up, a gift, line and, brought a, his place, the line}   \n",
       "18                                                                 {took turns, to play, deciding which, game to, turns deciding, which game, they took}   \n",
       "24                                                                            {he won, money for, enough money, down payment, a down, won enough, for a}   \n",
       "\n",
       "                                                                                                          bigrams_5  \\\n",
       "2       {to her, didnt propose, her first, was upset, her boyfriend, propose to, upset he, he didnt, boyfriend was}   \n",
       "7   {the beach, headed back, found some, and headed, sunny found, to the, back to, some sunglasses, sunglasses and}   \n",
       "17        {shopper gave, gave the, a nice, the homeless, homeless man, the shopper, warm blanket, nice warm, man a}   \n",
       "18               {they spent, spent six, hours playing, board games, playing different, different board, six hours}   \n",
       "24                                             {up moving, a new, jeff ended, new house, to a, moving to, ended up}   \n",
       "\n",
       "    overlap_1_3  overlap_1_4  overlap_2_4  overlap_3_5  \n",
       "2         False        False         True        False  \n",
       "7         False        False         True        False  \n",
       "17         True         True        False         True  \n",
       "18        False         True        False        False  \n",
       "24        False        False         True        False  "
      ]
     },
     "execution_count": 139,
     "metadata": {},
     "output_type": "execute_result"
    }
   ],
   "source": [
    "pruned_ds.head()"
   ]
  },
  {
   "cell_type": "code",
   "execution_count": null,
   "id": "a320bbe5",
   "metadata": {},
   "outputs": [],
   "source": []
  },
  {
   "cell_type": "code",
   "execution_count": null,
   "id": "9ccc6d29",
   "metadata": {},
   "outputs": [],
   "source": []
  }
 ],
 "metadata": {
  "kernelspec": {
   "display_name": "Python 3",
   "language": "python",
   "name": "python3"
  },
  "language_info": {
   "codemirror_mode": {
    "name": "ipython",
    "version": 3
   },
   "file_extension": ".py",
   "mimetype": "text/x-python",
   "name": "python",
   "nbconvert_exporter": "python",
   "pygments_lexer": "ipython3",
   "version": "3.6.13"
  }
 },
 "nbformat": 4,
 "nbformat_minor": 5
}
