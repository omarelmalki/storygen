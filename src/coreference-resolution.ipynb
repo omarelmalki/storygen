{
 "cells": [
  {
   "cell_type": "markdown",
   "id": "a3708fce",
   "metadata": {},
   "source": [
    "Author: Omar El Malki (omar.elmalki@epfl.ch)"
   ]
  },
  {
   "cell_type": "markdown",
   "id": "0a8458f7",
   "metadata": {},
   "source": [
    "### Coreference resolution"
   ]
  },
  {
   "cell_type": "code",
   "execution_count": 4,
   "id": "9ce6cfd3",
   "metadata": {},
   "outputs": [],
   "source": [
    "import pandas as pd\n",
    "import spacy\n",
    "import neuralcoref\n",
    "\n",
    "pd.set_option('display.max_colwidth', None)\n",
    "pd.set_option('display.max_rows', None)"
   ]
  },
  {
   "cell_type": "code",
   "execution_count": 5,
   "id": "e1e1367a",
   "metadata": {},
   "outputs": [],
   "source": [
    "# Read ROCStories into pandas DataFrame\n",
    "roc_stories_path_csv = \"../data/rocstories-2017/ROCStories_winter2017.csv\"\n",
    "roc_stories_df = pd.read_csv(roc_stories_path_csv, sep=',', header=0)\n",
    "\n",
    "nlp = spacy.load('en')"
   ]
  },
  {
   "cell_type": "code",
   "execution_count": 6,
   "id": "9e8bee7d",
   "metadata": {},
   "outputs": [],
   "source": [
    "# Example story\n",
    "s1 = \"David noticed he had put on a lot of weight recently.\"\n",
    "s2 = \"He examined his habits to try and figure out the reason.\"\n",
    "s3 = \"He realized he'd been eating too much fast food lately.\"\n",
    "s4 = \"He stopped going to burger places and started a vegetarian diet.\"\n",
    "s5 = \"After a few weeks, he started to feel much better.\""
   ]
  },
  {
   "cell_type": "code",
   "execution_count": 7,
   "id": "07223514",
   "metadata": {},
   "outputs": [],
   "source": [
    "# Coreference resolution\n",
    "neuralcoref.add_to_pipe(nlp)\n",
    "coref_res = nlp(f'{s1} {s2} {s3} {s4} {s5}')"
   ]
  },
  {
   "cell_type": "code",
   "execution_count": 8,
   "id": "d8317c3c",
   "metadata": {},
   "outputs": [
    {
     "data": {
      "text/plain": [
       "[David: [David, he, He, his, He, he, He, he]]"
      ]
     },
     "execution_count": 8,
     "metadata": {},
     "output_type": "execute_result"
    }
   ],
   "source": [
    "# Clusters\n",
    "coref_res._.coref_clusters"
   ]
  },
  {
   "cell_type": "code",
   "execution_count": 9,
   "id": "240d0f00",
   "metadata": {},
   "outputs": [
    {
     "data": {
      "text/plain": [
       "\"David noticed David had put on a lot of weight recently. David examined David habits to try and figure out the reason. David realized David'd been eating too much fast food lately. David stopped going to burger places and started a vegetarian diet. After a few weeks, David started to feel much better.\""
      ]
     },
     "execution_count": 9,
     "metadata": {},
     "output_type": "execute_result"
    }
   ],
   "source": [
    "# Resolved story\n",
    "coref_res._.coref_resolved"
   ]
  },
  {
   "cell_type": "code",
   "execution_count": null,
   "id": "e6914f08",
   "metadata": {},
   "outputs": [],
   "source": []
  }
 ],
 "metadata": {
  "kernelspec": {
   "display_name": "Python 3",
   "language": "python",
   "name": "python3"
  },
  "language_info": {
   "codemirror_mode": {
    "name": "ipython",
    "version": 3
   },
   "file_extension": ".py",
   "mimetype": "text/x-python",
   "name": "python",
   "nbconvert_exporter": "python",
   "pygments_lexer": "ipython3",
   "version": "3.6.13"
  }
 },
 "nbformat": 4,
 "nbformat_minor": 5
}
