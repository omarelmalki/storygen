{
 "cells": [
  {
   "cell_type": "markdown",
   "id": "81c15b4d",
   "metadata": {},
   "source": [
    "Author: Omar El Malki (omar.elmalki@epfl.ch)"
   ]
  },
  {
   "cell_type": "markdown",
   "id": "ef970f89",
   "metadata": {},
   "source": [
    "### Data Exploration\n",
    "- ROCStories\n",
    "- ConceptNet 5.7.0\n",
    "- ATOMIC-2020"
   ]
  },
  {
   "cell_type": "code",
   "execution_count": 1,
   "id": "9ee7bd52",
   "metadata": {},
   "outputs": [],
   "source": [
    "import pandas as pd\n",
    "pd.set_option('display.max_colwidth', None)\n",
    "pd.set_option('display.max_rows', None)"
   ]
  },
  {
   "cell_type": "code",
   "execution_count": 2,
   "id": "c9a6a5a9",
   "metadata": {},
   "outputs": [],
   "source": [
    "conceptnet_path_csv = '../data/conceptnet-5.7.0/conceptnet.csv'\n",
    "atomic2020_train_path_tsv = \"../data/atomic2020-feb2021/train.tsv\"\n",
    "atomic2020_dev_path_tsv = \"../data/atomic2020-feb2021/dev.tsv\"\n",
    "atomic2020_test_path_tsv = \"../data/atomic2020-feb2021/train.tsv\"\n",
    "roc_stories_path_csv = \"../data/rocstories-2017/ROCStories_winter2017.csv\""
   ]
  },
  {
   "cell_type": "code",
   "execution_count": 3,
   "id": "2d38ae51",
   "metadata": {},
   "outputs": [],
   "source": [
    "# Read csv files into pandas Dataframes\n",
    "conceptnet_df = pd.read_csv(conceptnet_path_csv, sep='\\t', header=None, names=['uri', 'relation', 'head', 'tail', 'json_info'])\n",
    "roc_stories_df = pd.read_csv(roc_stories_path_csv, sep=',', header=0)\n",
    "atomic_train_df = pd.read_csv(atomic2020_train_path_tsv, sep='\\t', header=None, names=['head', 'relation', 'tail'])"
   ]
  },
  {
   "cell_type": "code",
   "execution_count": 4,
   "id": "71b36e7d",
   "metadata": {},
   "outputs": [],
   "source": [
    "# Only keep knowledge triples\n",
    "conceptnet_formatted_df = conceptnet_df[['head', 'relation', 'tail']]\n",
    "# Only keep english nodes\n",
    "conceptnet_formatted_english_df = conceptnet_formatted_df[conceptnet_formatted_df['head'].str.contains('/en/') & conceptnet_formatted_df['tail'].str.contains('/en/')]"
   ]
  },
  {
   "cell_type": "code",
   "execution_count": 5,
   "id": "37d47198",
   "metadata": {},
   "outputs": [
    {
     "data": {
      "text/html": [
       "<div>\n",
       "<style scoped>\n",
       "    .dataframe tbody tr th:only-of-type {\n",
       "        vertical-align: middle;\n",
       "    }\n",
       "\n",
       "    .dataframe tbody tr th {\n",
       "        vertical-align: top;\n",
       "    }\n",
       "\n",
       "    .dataframe thead th {\n",
       "        text-align: right;\n",
       "    }\n",
       "</style>\n",
       "<table border=\"1\" class=\"dataframe\">\n",
       "  <thead>\n",
       "    <tr style=\"text-align: right;\">\n",
       "      <th></th>\n",
       "      <th>storyid</th>\n",
       "      <th>storytitle</th>\n",
       "      <th>sentence1</th>\n",
       "      <th>sentence2</th>\n",
       "      <th>sentence3</th>\n",
       "      <th>sentence4</th>\n",
       "      <th>sentence5</th>\n",
       "    </tr>\n",
       "  </thead>\n",
       "  <tbody>\n",
       "    <tr>\n",
       "      <th>0</th>\n",
       "      <td>8bbe6d11-1e2e-413c-bf81-eaea05f4f1bd</td>\n",
       "      <td>David Drops the Weight</td>\n",
       "      <td>David noticed he had put on a lot of weight recently.</td>\n",
       "      <td>He examined his habits to try and figure out the reason.</td>\n",
       "      <td>He realized he'd been eating too much fast food lately.</td>\n",
       "      <td>He stopped going to burger places and started a vegetarian diet.</td>\n",
       "      <td>After a few weeks, he started to feel much better.</td>\n",
       "    </tr>\n",
       "  </tbody>\n",
       "</table>\n",
       "</div>"
      ],
      "text/plain": [
       "                                storyid              storytitle  \\\n",
       "0  8bbe6d11-1e2e-413c-bf81-eaea05f4f1bd  David Drops the Weight   \n",
       "\n",
       "                                               sentence1  \\\n",
       "0  David noticed he had put on a lot of weight recently.   \n",
       "\n",
       "                                                  sentence2  \\\n",
       "0  He examined his habits to try and figure out the reason.   \n",
       "\n",
       "                                                 sentence3  \\\n",
       "0  He realized he'd been eating too much fast food lately.   \n",
       "\n",
       "                                                          sentence4  \\\n",
       "0  He stopped going to burger places and started a vegetarian diet.   \n",
       "\n",
       "                                            sentence5  \n",
       "0  After a few weeks, he started to feel much better.  "
      ]
     },
     "execution_count": 5,
     "metadata": {},
     "output_type": "execute_result"
    }
   ],
   "source": [
    "# Story example\n",
    "roc_stories_df[roc_stories_df['storyid'] == '8bbe6d11-1e2e-413c-bf81-eaea05f4f1bd']"
   ]
  },
  {
   "cell_type": "code",
   "execution_count": 6,
   "id": "40cab2fa",
   "metadata": {},
   "outputs": [],
   "source": [
    "# # Display nodes related to 'fast_food' in ConceptNet\n",
    "# conceptnet_formatted_english_df[conceptnet_formatted_english_df['head'].str.contains('fast_food')]"
   ]
  },
  {
   "cell_type": "code",
   "execution_count": 7,
   "id": "e9524fa0",
   "metadata": {},
   "outputs": [],
   "source": [
    "# # Display nodes related to 'weight' in ConceptNet\n",
    "# conceptnet_formatted_english_df[conceptnet_formatted_english_df['head'].str.contains('weight')]"
   ]
  },
  {
   "cell_type": "code",
   "execution_count": 8,
   "id": "5efad7f5",
   "metadata": {},
   "outputs": [
    {
     "data": {
      "text/html": [
       "<div>\n",
       "<style scoped>\n",
       "    .dataframe tbody tr th:only-of-type {\n",
       "        vertical-align: middle;\n",
       "    }\n",
       "\n",
       "    .dataframe tbody tr th {\n",
       "        vertical-align: top;\n",
       "    }\n",
       "\n",
       "    .dataframe thead th {\n",
       "        text-align: right;\n",
       "    }\n",
       "</style>\n",
       "<table border=\"1\" class=\"dataframe\">\n",
       "  <thead>\n",
       "    <tr style=\"text-align: right;\">\n",
       "      <th></th>\n",
       "      <th>head</th>\n",
       "      <th>relation</th>\n",
       "      <th>tail</th>\n",
       "    </tr>\n",
       "  </thead>\n",
       "  <tbody>\n",
       "    <tr>\n",
       "      <th>33994804</th>\n",
       "      <td>/c/en/fast_food_chain</td>\n",
       "      <td>/r/UsedFor</td>\n",
       "      <td>/c/en/gaining_weight</td>\n",
       "    </tr>\n",
       "  </tbody>\n",
       "</table>\n",
       "</div>"
      ],
      "text/plain": [
       "                           head    relation                  tail\n",
       "33994804  /c/en/fast_food_chain  /r/UsedFor  /c/en/gaining_weight"
      ]
     },
     "execution_count": 8,
     "metadata": {},
     "output_type": "execute_result"
    }
   ],
   "source": [
    "# Display links between the nodes related to 'fast_food' and 'weight' in ConceptNet\n",
    "conceptnet_formatted_english_df[conceptnet_formatted_english_df['head'].str.contains('fast_food') & conceptnet_formatted_english_df['tail'].str.contains('weight')]"
   ]
  },
  {
   "cell_type": "code",
   "execution_count": 9,
   "id": "0b394b05",
   "metadata": {},
   "outputs": [],
   "source": [
    "# # Display nodes related to 'fast food' in ATOMIC\n",
    "# atomic_train_df[atomic_train_df['head'].str.contains('fast food')]"
   ]
  },
  {
   "cell_type": "code",
   "execution_count": 10,
   "id": "6ca604d0",
   "metadata": {},
   "outputs": [],
   "source": [
    "# # Display nodes related to 'weight' in ATOMIC\n",
    "# atomic_train_df[atomic_train_df['head'].str.contains('weight')]"
   ]
  },
  {
   "cell_type": "code",
   "execution_count": 11,
   "id": "1b22a692",
   "metadata": {},
   "outputs": [
    {
     "data": {
      "text/html": [
       "<div>\n",
       "<style scoped>\n",
       "    .dataframe tbody tr th:only-of-type {\n",
       "        vertical-align: middle;\n",
       "    }\n",
       "\n",
       "    .dataframe tbody tr th {\n",
       "        vertical-align: top;\n",
       "    }\n",
       "\n",
       "    .dataframe thead th {\n",
       "        text-align: right;\n",
       "    }\n",
       "</style>\n",
       "<table border=\"1\" class=\"dataframe\">\n",
       "  <thead>\n",
       "    <tr style=\"text-align: right;\">\n",
       "      <th></th>\n",
       "      <th>head</th>\n",
       "      <th>relation</th>\n",
       "      <th>tail</th>\n",
       "    </tr>\n",
       "  </thead>\n",
       "  <tbody>\n",
       "    <tr>\n",
       "      <th>140573</th>\n",
       "      <td>PersonX eats at a fast food restaurant</td>\n",
       "      <td>xAttr</td>\n",
       "      <td>overweight</td>\n",
       "    </tr>\n",
       "    <tr>\n",
       "      <th>588274</th>\n",
       "      <td>PersonX stops eating fast food</td>\n",
       "      <td>xEffect</td>\n",
       "      <td>Loses weight</td>\n",
       "    </tr>\n",
       "    <tr>\n",
       "      <th>588277</th>\n",
       "      <td>PersonX stops eating fast food</td>\n",
       "      <td>xEffect</td>\n",
       "      <td>loses weight</td>\n",
       "    </tr>\n",
       "    <tr>\n",
       "      <th>588287</th>\n",
       "      <td>PersonX stops eating fast food</td>\n",
       "      <td>xNeed</td>\n",
       "      <td>gain more weight</td>\n",
       "    </tr>\n",
       "    <tr>\n",
       "      <th>588299</th>\n",
       "      <td>PersonX stops eating fast food</td>\n",
       "      <td>xWant</td>\n",
       "      <td>lose some weight</td>\n",
       "    </tr>\n",
       "    <tr>\n",
       "      <th>588301</th>\n",
       "      <td>PersonX stops eating fast food</td>\n",
       "      <td>xWant</td>\n",
       "      <td>to check his weight</td>\n",
       "    </tr>\n",
       "    <tr>\n",
       "      <th>746200</th>\n",
       "      <td>fast food chain</td>\n",
       "      <td>ObjectUse</td>\n",
       "      <td>gaining weight</td>\n",
       "    </tr>\n",
       "  </tbody>\n",
       "</table>\n",
       "</div>"
      ],
      "text/plain": [
       "                                          head   relation                 tail\n",
       "140573  PersonX eats at a fast food restaurant      xAttr           overweight\n",
       "588274          PersonX stops eating fast food    xEffect         Loses weight\n",
       "588277          PersonX stops eating fast food    xEffect         loses weight\n",
       "588287          PersonX stops eating fast food      xNeed     gain more weight\n",
       "588299          PersonX stops eating fast food      xWant     lose some weight\n",
       "588301          PersonX stops eating fast food      xWant  to check his weight\n",
       "746200                         fast food chain  ObjectUse       gaining weight"
      ]
     },
     "execution_count": 11,
     "metadata": {},
     "output_type": "execute_result"
    }
   ],
   "source": [
    "# Display links between the nodes related to 'fast food' and 'weight' in ATOMIC\n",
    "atomic_train_df[atomic_train_df['head'].str.contains('fast food') & atomic_train_df['tail'].str.contains('weight')]"
   ]
  },
  {
   "cell_type": "code",
   "execution_count": null,
   "id": "fdf0d896",
   "metadata": {},
   "outputs": [],
   "source": []
  }
 ],
 "metadata": {
  "kernelspec": {
   "display_name": "Python 3",
   "language": "python",
   "name": "python3"
  },
  "language_info": {
   "codemirror_mode": {
    "name": "ipython",
    "version": 3
   },
   "file_extension": ".py",
   "mimetype": "text/x-python",
   "name": "python",
   "nbconvert_exporter": "python",
   "pygments_lexer": "ipython3",
   "version": "3.6.13"
  }
 },
 "nbformat": 4,
 "nbformat_minor": 5
}
