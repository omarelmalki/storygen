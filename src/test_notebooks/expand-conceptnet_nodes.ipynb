{
 "cells": [
  {
   "cell_type": "code",
   "execution_count": 1,
   "id": "600dc0bb",
   "metadata": {},
   "outputs": [],
   "source": [
    "import pandas as pd"
   ]
  },
  {
   "cell_type": "code",
   "execution_count": 2,
   "id": "d14f2425",
   "metadata": {},
   "outputs": [],
   "source": [
    "pd.set_option('display.max_colwidth', None)\n",
    "pd.set_option('display.max_rows', None)\n",
    "pd.set_option('display.max_columns', None)\n",
    "pd.options.mode.chained_assignment = None"
   ]
  },
  {
   "cell_type": "code",
   "execution_count": 3,
   "id": "97f1d616",
   "metadata": {},
   "outputs": [],
   "source": [
    "conceptnet_path_csv = '../../data/conceptnet-5.7.0/conceptnet.csv'"
   ]
  },
  {
   "cell_type": "code",
   "execution_count": 4,
   "id": "f7df4921",
   "metadata": {},
   "outputs": [],
   "source": [
    "conceptnet_df = pd.read_csv(conceptnet_path_csv, sep='\\t', header=None, names=['uri', 'relation', 'head', 'tail', 'json_info'])"
   ]
  },
  {
   "cell_type": "code",
   "execution_count": 5,
   "id": "030d4d14",
   "metadata": {},
   "outputs": [],
   "source": [
    "# Only keep knowledge triples\n",
    "conceptnet_formatted_df = conceptnet_df[['head', 'relation', 'tail']]\n",
    "# Only keep english nodes\n",
    "conceptnet_formatted_english_df = conceptnet_formatted_df[conceptnet_formatted_df['head'].str.contains('/en/') & conceptnet_formatted_df['tail'].str.contains('/en/')]"
   ]
  },
  {
   "cell_type": "code",
   "execution_count": 8,
   "id": "02ff9a0f",
   "metadata": {},
   "outputs": [],
   "source": [
    "node = 'truck'\n",
    "cn_node = '/c/en/' + node "
   ]
  },
  {
   "cell_type": "code",
   "execution_count": 13,
   "id": "7c9c1567",
   "metadata": {},
   "outputs": [],
   "source": [
    "extra_nodes = conceptnet_formatted_english_df[(conceptnet_formatted_english_df['head'] == cn_node) & (conceptnet_formatted_english_df['relation'] == '/r/RelatedTo')]"
   ]
  },
  {
   "cell_type": "code",
   "execution_count": 19,
   "id": "7158656b",
   "metadata": {},
   "outputs": [
    {
     "data": {
      "text/html": [
       "<div>\n",
       "<style scoped>\n",
       "    .dataframe tbody tr th:only-of-type {\n",
       "        vertical-align: middle;\n",
       "    }\n",
       "\n",
       "    .dataframe tbody tr th {\n",
       "        vertical-align: top;\n",
       "    }\n",
       "\n",
       "    .dataframe thead th {\n",
       "        text-align: right;\n",
       "    }\n",
       "</style>\n",
       "<table border=\"1\" class=\"dataframe\">\n",
       "  <thead>\n",
       "    <tr style=\"text-align: right;\">\n",
       "      <th></th>\n",
       "      <th>head</th>\n",
       "      <th>relation</th>\n",
       "      <th>tail</th>\n",
       "    </tr>\n",
       "  </thead>\n",
       "  <tbody>\n",
       "    <tr>\n",
       "      <th>20398204</th>\n",
       "      <td>/c/en/truck</td>\n",
       "      <td>/r/RelatedTo</td>\n",
       "      <td>/c/en/automobile</td>\n",
       "    </tr>\n",
       "    <tr>\n",
       "      <th>20398205</th>\n",
       "      <td>/c/en/truck</td>\n",
       "      <td>/r/RelatedTo</td>\n",
       "      <td>/c/en/bed</td>\n",
       "    </tr>\n",
       "    <tr>\n",
       "      <th>20398206</th>\n",
       "      <td>/c/en/truck</td>\n",
       "      <td>/r/RelatedTo</td>\n",
       "      <td>/c/en/big</td>\n",
       "    </tr>\n",
       "    <tr>\n",
       "      <th>20398207</th>\n",
       "      <td>/c/en/truck</td>\n",
       "      <td>/r/RelatedTo</td>\n",
       "      <td>/c/en/big_rig</td>\n",
       "    </tr>\n",
       "    <tr>\n",
       "      <th>20398208</th>\n",
       "      <td>/c/en/truck</td>\n",
       "      <td>/r/RelatedTo</td>\n",
       "      <td>/c/en/car</td>\n",
       "    </tr>\n",
       "    <tr>\n",
       "      <th>20398209</th>\n",
       "      <td>/c/en/truck</td>\n",
       "      <td>/r/RelatedTo</td>\n",
       "      <td>/c/en/flat</td>\n",
       "    </tr>\n",
       "    <tr>\n",
       "      <th>20398210</th>\n",
       "      <td>/c/en/truck</td>\n",
       "      <td>/r/RelatedTo</td>\n",
       "      <td>/c/en/flat_bed</td>\n",
       "    </tr>\n",
       "    <tr>\n",
       "      <th>20398211</th>\n",
       "      <td>/c/en/truck</td>\n",
       "      <td>/r/RelatedTo</td>\n",
       "      <td>/c/en/heavy</td>\n",
       "    </tr>\n",
       "    <tr>\n",
       "      <th>20398212</th>\n",
       "      <td>/c/en/truck</td>\n",
       "      <td>/r/RelatedTo</td>\n",
       "      <td>/c/en/heavy_vehicle</td>\n",
       "    </tr>\n",
       "    <tr>\n",
       "      <th>20398213</th>\n",
       "      <td>/c/en/truck</td>\n",
       "      <td>/r/RelatedTo</td>\n",
       "      <td>/c/en/highways</td>\n",
       "    </tr>\n",
       "    <tr>\n",
       "      <th>20398214</th>\n",
       "      <td>/c/en/truck</td>\n",
       "      <td>/r/RelatedTo</td>\n",
       "      <td>/c/en/moving</td>\n",
       "    </tr>\n",
       "    <tr>\n",
       "      <th>20398215</th>\n",
       "      <td>/c/en/truck</td>\n",
       "      <td>/r/RelatedTo</td>\n",
       "      <td>/c/en/moving_things</td>\n",
       "    </tr>\n",
       "    <tr>\n",
       "      <th>20398216</th>\n",
       "      <td>/c/en/truck</td>\n",
       "      <td>/r/RelatedTo</td>\n",
       "      <td>/c/en/on_highways</td>\n",
       "    </tr>\n",
       "    <tr>\n",
       "      <th>20398217</th>\n",
       "      <td>/c/en/truck</td>\n",
       "      <td>/r/RelatedTo</td>\n",
       "      <td>/c/en/rig</td>\n",
       "    </tr>\n",
       "    <tr>\n",
       "      <th>20398218</th>\n",
       "      <td>/c/en/truck</td>\n",
       "      <td>/r/RelatedTo</td>\n",
       "      <td>/c/en/semi</td>\n",
       "    </tr>\n",
       "    <tr>\n",
       "      <th>20398219</th>\n",
       "      <td>/c/en/truck</td>\n",
       "      <td>/r/RelatedTo</td>\n",
       "      <td>/c/en/vehicle</td>\n",
       "    </tr>\n",
       "  </tbody>\n",
       "</table>\n",
       "</div>"
      ],
      "text/plain": [
       "                 head      relation                 tail\n",
       "20398204  /c/en/truck  /r/RelatedTo     /c/en/automobile\n",
       "20398205  /c/en/truck  /r/RelatedTo            /c/en/bed\n",
       "20398206  /c/en/truck  /r/RelatedTo            /c/en/big\n",
       "20398207  /c/en/truck  /r/RelatedTo        /c/en/big_rig\n",
       "20398208  /c/en/truck  /r/RelatedTo            /c/en/car\n",
       "20398209  /c/en/truck  /r/RelatedTo           /c/en/flat\n",
       "20398210  /c/en/truck  /r/RelatedTo       /c/en/flat_bed\n",
       "20398211  /c/en/truck  /r/RelatedTo          /c/en/heavy\n",
       "20398212  /c/en/truck  /r/RelatedTo  /c/en/heavy_vehicle\n",
       "20398213  /c/en/truck  /r/RelatedTo       /c/en/highways\n",
       "20398214  /c/en/truck  /r/RelatedTo         /c/en/moving\n",
       "20398215  /c/en/truck  /r/RelatedTo  /c/en/moving_things\n",
       "20398216  /c/en/truck  /r/RelatedTo    /c/en/on_highways\n",
       "20398217  /c/en/truck  /r/RelatedTo            /c/en/rig\n",
       "20398218  /c/en/truck  /r/RelatedTo           /c/en/semi\n",
       "20398219  /c/en/truck  /r/RelatedTo        /c/en/vehicle"
      ]
     },
     "execution_count": 19,
     "metadata": {},
     "output_type": "execute_result"
    }
   ],
   "source": [
    "extra_nodes"
   ]
  },
  {
   "cell_type": "code",
   "execution_count": 18,
   "id": "d706d9de",
   "metadata": {},
   "outputs": [
    {
     "data": {
      "text/plain": [
       "['automobile',\n",
       " 'bed',\n",
       " 'big',\n",
       " 'big_rig',\n",
       " 'car',\n",
       " 'flat',\n",
       " 'flat_bed',\n",
       " 'heavy',\n",
       " 'heavy_vehicle',\n",
       " 'highways',\n",
       " 'moving',\n",
       " 'moving_things',\n",
       " 'on_highways',\n",
       " 'rig',\n",
       " 'semi',\n",
       " 'vehicle']"
      ]
     },
     "execution_count": 18,
     "metadata": {},
     "output_type": "execute_result"
    }
   ],
   "source": [
    "[l[6:] for l in list(extra_nodes['tail'])]"
   ]
  },
  {
   "cell_type": "code",
   "execution_count": null,
   "id": "49333107",
   "metadata": {},
   "outputs": [],
   "source": []
  }
 ],
 "metadata": {
  "kernelspec": {
   "display_name": "Python 3",
   "language": "python",
   "name": "python3"
  },
  "language_info": {
   "codemirror_mode": {
    "name": "ipython",
    "version": 3
   },
   "file_extension": ".py",
   "mimetype": "text/x-python",
   "name": "python",
   "nbconvert_exporter": "python",
   "pygments_lexer": "ipython3",
   "version": "3.6.13"
  }
 },
 "nbformat": 4,
 "nbformat_minor": 5
}
