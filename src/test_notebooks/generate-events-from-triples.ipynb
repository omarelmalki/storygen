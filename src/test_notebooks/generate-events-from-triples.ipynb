{
 "cells": [
  {
   "cell_type": "code",
   "execution_count": 1,
   "id": "bdb97ddb",
   "metadata": {},
   "outputs": [
    {
     "name": "stdout",
     "output_type": "stream",
     "text": [
      "model loading ...\n",
      "model loaded\n"
     ]
    }
   ],
   "source": [
    "import sys\n",
    "\n",
    "sys.path.insert(0,'..')\n",
    "\n",
    "from utils.comet_definition import Comet0\n",
    "import pandas as pd\n",
    "import ast\n",
    "pd.set_option('display.max_colwidth', None)\n",
    "pd.set_option('display.max_rows', None)\n",
    "pd.set_option('display.max_columns', None)\n",
    "pd.options.mode.chained_assignment = None\n",
    "\n",
    "\n",
    "print(\"model loading ...\")\n",
    "comet = Comet0('../../lib/comet-atomic-2020/models/comet_atomic2020_bart/comet-atomic_2020_BART')\n",
    "comet.model.zero_grad()\n",
    "print(\"model loaded\")\n"
   ]
  },
  {
   "cell_type": "code",
   "execution_count": 2,
   "id": "83dcb49b",
   "metadata": {},
   "outputs": [
    {
     "name": "stdout",
     "output_type": "stream",
     "text": [
      "['PersonX went to the Hospital xWant ']\n",
      "[[' to get a prescription from the doctor.', ' to be taken to the hospital by a doctor.', ' to be treated at the hospital', ' to be treated at the hospital', ' to get better', ' to get a prescription for pain killers.', ' to be taken to the hospital by the doctor.', ' to be taken to the hospital by a doctor.', ' to be taken to the hospital by a doctor.', ' to be taken to the hospital by a doctor.']]\n"
     ]
    }
   ],
   "source": [
    "queries = []\n",
    "head = \"PersonX went to the Hospital\"\n",
    "rel = \"xWant\"\n",
    "query = \"{} {} \".format(head, rel)\n",
    "queries.append(query)\n",
    "print(queries)\n",
    "results = comet.generate(queries, decode_method=\"top_k\", num_generate=10)\n",
    "print(results)"
   ]
  },
  {
   "cell_type": "code",
   "execution_count": 3,
   "id": "022a358c",
   "metadata": {},
   "outputs": [],
   "source": [
    "roc_stories_triples_csv = '../../generated/knowledge-triple-extraction/ROCStories_resolved_with_knowledge_triples.csv'\n",
    "roc_stories_triples_df = pd.read_csv(roc_stories_triples_csv, sep='\\t', header=0)"
   ]
  },
  {
   "cell_type": "code",
   "execution_count": 4,
   "id": "e922d9b7",
   "metadata": {},
   "outputs": [],
   "source": [
    "roc_stories_triples_df = roc_stories_triples_df.iloc[:1]"
   ]
  },
  {
   "cell_type": "code",
   "execution_count": 5,
   "id": "79fd2109",
   "metadata": {},
   "outputs": [],
   "source": [
    "del roc_stories_triples_df['Unnamed: 0']\n",
    "del roc_stories_triples_df['Unnamed: 0.1']\n",
    "del roc_stories_triples_df['Unnamed: 0.1.1']\n",
    "del roc_stories_triples_df['Unnamed: 0.1.1.1']"
   ]
  },
  {
   "cell_type": "code",
   "execution_count": 6,
   "id": "00bcd5ed",
   "metadata": {},
   "outputs": [],
   "source": [
    "del roc_stories_triples_df['srl_r1']"
   ]
  },
  {
   "cell_type": "code",
   "execution_count": 7,
   "id": "8fe5758a",
   "metadata": {},
   "outputs": [],
   "source": [
    "# roc_stories_triples_df"
   ]
  },
  {
   "cell_type": "code",
   "execution_count": 8,
   "id": "dac9bcd4",
   "metadata": {},
   "outputs": [],
   "source": [
    "# xRels = [\"xWant\", \"xNeed\", \"xEffect\"]\n",
    "# oRels = [\"oWant\", \"oEffect\"]"
   ]
  },
  {
   "cell_type": "code",
   "execution_count": 9,
   "id": "eacf56d9",
   "metadata": {},
   "outputs": [],
   "source": [
    "from itertools import chain\n",
    "import multiprocessing as mp\n",
    "from tqdm import tqdm"
   ]
  },
  {
   "cell_type": "code",
   "execution_count": 10,
   "id": "3c21e041",
   "metadata": {},
   "outputs": [],
   "source": [
    "# %%time\n",
    "# for n in range(1,6): \n",
    "#     print(f\"n = {n}\")\n",
    "#     new_events_rows = []\n",
    "#     for index, row in tqdm(roc_stories_triples_df.iterrows()):\n",
    "#         queries = []\n",
    "#         relations = []\n",
    "#         triples_res = []\n",
    "#         triples = ast.literal_eval(row[f'triples{n}'])  \n",
    "#         for triple in triples:\n",
    "#             comet_head = ' '.join(triple)\n",
    "# #             print(comet_head)\n",
    "#             for rel in xRels:\n",
    "#                 query = \"{} {} \".format(comet_head, rel)\n",
    "#                 queries.append(query)\n",
    "#                 relations.append(rel)\n",
    "#                 triples_res.append(triple[0])\n",
    "#             for rel in oRels:\n",
    "#                 query = \"{} {} \".format(comet_head, rel)\n",
    "#                 queries.append(query)\n",
    "#                 relations.append(rel)\n",
    "#                 triples_res.append(triple[2])\n",
    "#         results = comet.generate(queries, decode_method=\"beam\", num_generate=5)\n",
    "#         results = [list(filter(lambda x: x.strip() != 'none', r)) for r in results]\n",
    "#         new_events = list(zip(triples_res,relations, results))\n",
    "# #         print(new_events)\n",
    "#         new_events_rows.append(new_events)\n",
    "#     roc_stories_triples_df[f'new_triples{n}'] = new_events_rows\n",
    "    "
   ]
  },
  {
   "cell_type": "code",
   "execution_count": 11,
   "id": "4c4b1488",
   "metadata": {},
   "outputs": [],
   "source": [
    "forward_rels = [\"xWant\", \"isBefore\", \"xEffect\"]\n",
    "backward_rels = [\"xIntent\", \"isAfter\", \"xNeed\"]"
   ]
  },
  {
   "cell_type": "code",
   "execution_count": 12,
   "id": "26130009",
   "metadata": {
    "scrolled": false
   },
   "outputs": [
    {
     "name": "stdout",
     "output_type": "stream",
     "text": [
      "n = 1\n"
     ]
    },
    {
     "name": "stderr",
     "output_type": "stream",
     "text": [
      "1it [00:00, 1732.47it/s]"
     ]
    },
    {
     "name": "stdout",
     "output_type": "stream",
     "text": [
      "Genrating events...\n"
     ]
    },
    {
     "name": "stderr",
     "output_type": "stream",
     "text": [
      "\n"
     ]
    },
    {
     "name": "stdout",
     "output_type": "stream",
     "text": [
      "[[[\"Dan 's parents\", 'were', 'overweight'], 'xWant', [' to buy new clothes', ' to buy healthy food', ' to eat less', ' to lose weight', ' to eat healthy', ' to eat less food', ' to eat healthier', ' to eat healthy food', ' to eat less.', ' to lose weight.', ' to work out more', ' to buy healthy foods', ' to work out', ' to gain weight', ' to be healthy', ' to be healthier', ' to eat more', ' to get healthy', ' to exercise', ' eat less']], [[\"Dan 's parents\", 'were', 'overweight'], 'isBefore', [\" Dan 's parents go on a diet\", ' Dan goes to the gym to lose weight', ' Dan and his parents go on a diet', ' Dan goes to the gym with his parents', \" Dan 's parents went on a diet\", \" Dan 's parents go to the gym\", ' Dan and his parents go to the gym', ' PersonX eats a lot of food.', ' PersonX eats a lot of junk food', \" Dan 's parents go to the doctor\", \" Dan 's parents went to the doctor\", ' Dan buys new clothes for his parents', \" Dan 's parents went to the gym\", ' Dan eats a lot of junk food', \" Dan's parents go to the gym\", ' PersonX eats a lot of food', \" Dan 's parents lose weight\", ' Dan goes to the gym', ' Dan gets a new job']], [[\"Dan 's parents\", 'were', 'overweight'], 'xEffect', [' goes to the doctor', ' goes to the gym', ' has to eat less', ' has to lose weight', ' gets a restraining order', ' gets teased by parents', ' has to exercise more', ' has to eat more', ' has to buy food', ' to parents to eat', ' eats too much', ' eat too much', ' goes to doctor', ' goes to gym', ' has to exercise', ' loses weight', ' gain weight', ' gets fat', ' eats less']]]\n",
      "3\n",
      "n = 2\n"
     ]
    },
    {
     "name": "stderr",
     "output_type": "stream",
     "text": [
      "1it [00:00, 2058.05it/s]"
     ]
    },
    {
     "name": "stdout",
     "output_type": "stream",
     "text": [
      "Genrating events...\n"
     ]
    },
    {
     "name": "stderr",
     "output_type": "stream",
     "text": [
      "\n"
     ]
    },
    {
     "name": "stdout",
     "output_type": "stream",
     "text": [
      "[[['Dan', 'was', 'overweight'], 'xWant', [' to lose weight', ' go to the gym', ' to lose the weight', ' to lose some weight', ' get a gym membership', ' to work out more', ' to lose weight.', ' to eat less', ' go to the doctor', ' to eat less food', ' to eat less.', ' to eat more food', ' to work out', ' to get a trainer', ' to go to gym', ' to exercise more', ' eat too much', ' eat a lot', ' to eat healthy', ' to eat healthier']], [['Dan', 'was', 'overweight'], 'isBefore', [' Dan goes to the gym everyday', ' Dan goes to the gym', ' Dan eats too much junk food', ' Dan went on a diet', ' Dan goes to the gym regularly', ' Dan had to buy new clothes', ' Dan went to the gym', ' Dan goes on a diet', ' Dan goes to the gym daily', ' Dan eats a lot of food', ' Dan decided to lose weight', ' Dan went to the doctor', ' Dan goes to a gym', ' Dan had to lose weight', ' Dan has to lose weight', ' Dan goes to the doctor', ' Dan started to lose weight', ' Dan went to a gym', ' Dan eats too much food', ' Dan eats too much']], [['Dan', 'was', 'overweight'], 'xEffect', [' goes to the gym', ' goes to the doctor', ' has to lose weight', ' get a gym membership', ' get a new job', ' goes to a gym', ' eats too much food', ' gets in a fight', ' eats too much', ' eat too much food', ' has to exercise more', ' has to eat less', ' eat too much', ' eat too much.', ' has to work out', ' has to eat more', ' eats too much.', ' goes to a doctor', ' get a new hobby', ' goes to gym']], [['Dan', 'was', 'overweight'], 'xIntent', [' to lose weight', ' to be healthy', ' to be thin', ' to gain weight', ' to be skinny', ' to be fit', ' eat too much', ' to be thinner', ' to eat more', ' to be healthier', ' to eat less', ' not eat enough', ' to be slim', ' lose weight', ' gain weight', ' be healthy', ' not fit', ' to eat', ' eat less']], [['Dan', 'was', 'overweight'], 'isAfter', [' Dan goes to the gym everyday', ' Dan eats too much junk food', ' Dan goes to the gym', ' Dan works out at the gym', ' Dan ate too much junk food', ' Dan goes to the gym regularly', ' Dan went to the gym', ' Dan tries to lose weight', ' Dan eats a lot of food', ' Dan goes to the gym daily', ' Dan went on a diet', ' Dan eats a lot of meat', ' Dan went to the gym everyday', ' Dan works out every day', ' Dan goes to a gym', ' Dan eats too much food', ' Dan went to a gym', ' Dan went to the doctor', ' Dan eats too much', ' Dan works out everyday']], [['Dan', 'was', 'overweight'], 'xNeed', [' go to the gym', ' to eat too much', ' to eat a lot', ' get a gym membership', ' eat too much', ' to eat junk food', ' eat too much food', ' go to a gym', ' eat lots of food', ' eat a lot', ' go to gym', ' eat lots of sweets', ' eat too much.', ' eat too much meat', ' eat lots of meat', ' eat junk food', ' to work out', ' not eat enough', ' to be overweight']], [['Dan', 'was', 'as well'], 'xWant', [' to spend time with Dan', ' to have a good time', ' to spend time with him', ' to go on a date', ' to have fun with Dan', ' to go to the movies', ' to be a good friend', ' to go to the store', ' to spend time with them', ' to go to the bathroom', ' to spend time with friends', ' to go home and rest', ' to go to the party', ' to go to the doctor', ' to go home and relax', ' to go to bed', ' to go to sleep', ' to take a nap', ' to talk to Dan', ' to take a shower']], [['Dan', 'was', 'as well'], 'isBefore', [' Dan buys a new car', ' Dan goes back home to sleep', ' Dan gets a new job', ' Dan goes back to work', ' Dan buys a new house', ' Dan got a new job', ' Dan goes home to sleep', ' Dan buys a new bike', ' Dan goes back to school', ' Dan goes to the doctor', ' Dan goes on a date', ' Dan goes to the hospital', ' Dan went to the doctor', ' Dan goes to the movies', ' Dan gets the job', ' Dan takes a nap', ' Dan goes to work', ' Dan takes a shower', ' Dan goes to sleep']], [['Dan', 'was', 'as well'], 'xEffect', [' was in a car accident', ' gets yelled at by others', ' gets yelled at by Dan', ' Dan gets a new job', ' gets yelled at for it', ' was in a car wreck', ' Dan is in a coma', ' gets yelled at by people', ' Dan is a good person', ' gets yelled at by friends', ' Dan is in the hospital', ' Dan is a good listener', ' gets yelled at by person', ' Dan is a good friend', ' gets yelled at', ' is in a wheelchair', ' was in a fight', ' is in the hospital', ' is in a hurry', ' is in a relationship']], [['Dan', 'was', 'as well'], 'xIntent', [' to be sociable', ' to be with someone', ' have a good time', ' to be happy.', ' to be with person', ' to have fun.', ' to be with others', ' to be in charge', ' to be a leader', ' to have a friend', ' to have fun', ' to be with him', ' to be happy', ' to be nice', ' to be liked', ' to be helpful', ' to be friendly', ' to be included', ' to be together']], [['Dan', 'was', 'as well'], 'isAfter', [' Dan was in a car accident', ' Dan was in a car wreck', ' Dan goes to work with Dan', ' Dan went to work with Dan', ' Dan was in a car crash', ' Dan was in the same boat', ' Dan gets a new job', ' Dan is in the hospital', ' Dan went to the doctor', ' Dan was at the party', ' Dan was in the hospital', ' Dan goes to the doctor', ' Dan goes to the gym', ' Dan went to the movies', ' Dan goes to the movies', ' Dan went to the store', ' Dan was in the car', ' Dan was on a date', ' Dan goes to the store', ' Dan went to work']], [['Dan', 'was', 'as well'], 'xNeed', [' to go to the store', ' to be in a relationship', ' make sure they are okay', ' to want to do something', ' make sure they are ok', ' to want to do it', ' to have been there before', ' to know what Dan likes', ' to be in a fight', ' to be in the car', ' to want to be there', ' to be in a car', ' to have met Dan', ' to be with Dan', ' to have a job', ' go to the store', ' to be at work', ' to have been there', ' to have been born']]]\n",
      "15\n",
      "n = 3\n"
     ]
    },
    {
     "name": "stderr",
     "output_type": "stream",
     "text": [
      "1it [00:00, 1063.73it/s]"
     ]
    },
    {
     "name": "stdout",
     "output_type": "stream",
     "text": [
      "Genrating events...\n"
     ]
    },
    {
     "name": "stderr",
     "output_type": "stream",
     "text": [
      "\n"
     ]
    },
    {
     "name": "stdout",
     "output_type": "stream",
     "text": [
      "[[['The doctors', 'told', \"Dan 's parents\"], 'xWant', [' to talk to the parents', ' to talk to their parents', ' to go to the doctor', ' to go to the hospital', ' to find out what happened', ' to tell them what happened', ' to talk to the doctor', ' to talk to the doctors', ' to thank the doctor', ' to talk to them', ' to thank the doctors', ' to tell their parents', ' to talk to Dan', ' to explain the situation', ' to talk to parents', ' to go home', ' to tell their children', ' to ask questions', ' to help him', ' to cry']], [['The doctors', 'told', \"Dan 's parents\"], 'isBefore', [\" Dan 's parents go to the hospital\", \" Dan 's parents go to the doctor\", \" the parents go to the doctor's office\", ' the doctors tell the parents what they know', ' the doctors tell the parents what they think', ' the doctors tell the parents they are fine', \" Dan's parents go to the hospital.\", ' the doctor tells the parents they are fine', ' the doctor tells the parents what they think', ' the doctor tells the parents what they know', \" Dan 's parents go to the ER\", \" Dan's parents go to the hospital\", ' the parents go to the hospital', ' the parents go to the doctor', ' the doctors tell the parents what happened', \" Dan's parents go to the doctor\", ' PersonX goes to the hospital.', ' the doctor tells the parents what happened', ' the doctors tell the parents the news', ' the doctor tells the parents the news']], [['The doctors', 'told', \"Dan 's parents\"], 'xEffect', [' the doctors tell the parents', ' has to make a decision', ' the doctor tells the parents', ' is told to go home', ' the parents know the truth', ' the parents are informed.', ' The parents are informed.', ' the parents know what happened', ' the parents are informed', ' the parents go to court', ' the family is informed', ' the parents are told', ' The parents are informed', ' the parents to know', ' learns something new', ' gets told off', ' gets a bill', ' learns something', ' cries']], [['The doctors', 'told', \"Dan 's parents\"], 'xIntent', [' to inform the parents', ' to tell them something', ' the parents to know', ' to tell the truth', ' to inform their parents', ' to tell the parents', ' to tell someone something', ' to inform them', ' to tell their parents', ' to be informed', ' to be helpful', ' to be honest', ' to inform parents', ' to help him', ' to help them', ' to help someone', ' to inform someone', ' to tell them', ' to inform']], [['The doctors', 'told', \"Dan 's parents\"], 'isAfter', [\" Dan 's parents go to the hospital\", \" Dan 's parents go to the doctor\", \" PersonX calls PersonX's parents.\", \" Dan 's parents went to the hospital\", \" Dan 's parents went to the doctor\", \" PersonY calls PersonY's parents.\", \" PersonX tells PersonX's parents.\", \" PersonX calls PersonY's parents.\", \" Dan 's parents go to the ER\", \" PersonX calls PersonX's parents\", ' PersonX goes to the hospital.', ' PersonX goes to the doctor.', \" PersonY calls PersonY's parents\", \" PersonX calls PersonY's parents\", ' the doctor tells the parents what happened', ' PersonX tells PersonX what happened', ' PersonX goes to the hospital', ' PersonX goes to the doctor', ' the doctors told the parents', ' the doctors tell the parents']], [['The doctors', 'told', \"Dan 's parents\"], 'xNeed', [' to go to the doctor', ' to know what is going on', ' to go to the hospital', ' to go to the doctor.', ' to find out what is wrong', ' to have a conversation with them', ' find out what is going on', ' to talk to the doctor', ' to go to the hospital.', \" to find out what's wrong\", ' to go to the doctors', ' to go to the doctors office', ' to find out what was wrong', ' to talk to the doctors', ' to talk to the doctor.', \" to get a doctor's note\", ' to be in the hospital', ' to talk to the parents', ' to find out what happened', ' to see the doctor']], [['The doctors', 'told', 'it was unhealthy'], 'xWant', [' go to the doctor', ' to see a doctor', ' to stop eating it', ' to give up smoking', ' go to the hospital', ' to eat healthy food', ' to take a pill', ' to eat healthy foods', ' to get better', ' to be healthy', ' to take medicine', ' to eat healthy', ' to eat healthier', ' to get healthy', ' to eat less', ' to go home', ' to stop eating', ' to give up', ' eat less', ' take medicine']], [['The doctors', 'told', 'it was unhealthy'], 'isBefore', [' the patient goes to the doctor', ' the person goes to the doctor', ' the patient goes to the hospital', ' the person goes to the hospital', ' the doctor told them to stop', ' the doctor gave them a prescription', ' the doctor tells them to stop', ' the doctor gives them a prescription', ' the doctor told them not to', ' the doctor told him to stop', ' the food to be healthy', ' the food to be unhealthy', ' the food was not healthy', ' the doctor gave them medicine', ' the food to be eaten', ' the food was not good', ' go to the doctor', ' the diet was changed', ' the patient goes home', ' the patient takes medicine']], [['The doctors', 'told', 'it was unhealthy'], 'xEffect', [' has to take medicine', ' have to take medicine', ' get a checkup', ' get a new job', ' get a check up', ' has to eat less', ' has to take medication', ' have to eat less', ' the person gets sick', ' the patient gets sick', ' get a new diet', ' the person eats less', ' have to take medication', ' the food is unhealthy', ' has to eat more', ' eat unhealthy food', ' eat unhealthy foods', ' lose weight', ' eat less food', ' get a prescription']], [['The doctors', 'told', 'it was unhealthy'], 'xIntent', [' to be healthy', ' not to eat', ' to get healthy', ' to eat less', ' to stop eating', ' to prevent disease', ' to be healthier', ' to stop smoking', ' to eat healthy', ' lose weight', ' be healthy', ' no effect', ' eat less', ' get better', ' not eat', ' the food', ' health', ' unhealthy', ' medicine']], [['The doctors', 'told', 'it was unhealthy'], 'isAfter', [' the food to be unhealthy', ' the food to be healthy', ' the food to be eaten', ' the food was not healthy', ' the food to be healthier', ' go to the doctor', ' the patient was given medicine', ' the food was not good', ' the person ate the food', ' the food was unhealthy', ' go to the hospital', ' the food was bad', ' the diet was changed', ' the food is unhealthy', ' the patient gets sick', ' go to doctor', ' go to hospital', ' lose weight', ' take medicine', ' eat less']], [['The doctors', 'told', 'it was unhealthy'], 'xNeed', [' go to the doctor', ' go to the hospital', ' to eat junk food', ' go to the doctors', ' to eat unhealthy food', ' to eat something unhealthy', ' to eat unhealthy foods', ' to go to doctor', ' go to doctor', ' to have been sick', ' to get sick', ' go to hospital', ' to be sick', ' to take medicine', ' eat too much', ' eat unhealthy food', ' get checked out', ' find out why', ' to eat unhealthy', ' take medicine']], [['it', 'was', 'unhealthy'], 'xWant', [' eat too much', ' eat junk food', ' eat a lot', ' go to doctor', ' eat unhealthy food', ' eat bad food', ' lose weight', ' eat unhealthy foods', ' eat bad foods', ' to eat less', ' go to gym', ' have a drink', ' throw up', ' take medicine', ' get healthy', ' stop eating', ' eat less', ' feel better', ' eat junk', ' eat food']], [['it', 'was', 'unhealthy'], 'isBefore', [' eat too much', ' eat junk food', ' lose weight', ' bad for health', ' it was unhealthy', ' drink too much', ' eat a lot', ' eat unhealthy food', ' eat unhealthy foods', ' go to doctor', ' bad for you', ' go to gym', ' feel sick', ' throw up', ' food poisoning', ' unhealthy food', ' exercise more', ' fall asleep', ' eat junk', ' exercise']], [['it', 'was', 'unhealthy'], 'xEffect', [' eat too much', ' eat junk food', ' lose weight', ' eat a lot', ' go to doctor', ' eat bad food', ' eat unhealthy food', ' go to hospital', ' eat unhealthy foods', ' eat bad foods', ' eat junk foods', ' get sick from', ' get sick', ' get sicker', ' lost weight', ' throw up', ' get fat', ' feel sick', ' stop eating', ' become sick']], [['it', 'was', 'unhealthy'], 'xIntent', [' eat junk food', ' eat too much', ' nothing to eat', ' not to eat', ' bad for health', ' eat a lot', ' eat unhealthy food', ' eat bad food', ' lose weight', ' eat unhealthy foods', ' it was unhealthy', ' unhealthy food.', ' unhealthy food', ' bad for you', ' not eat enough', ' unhealthy foods', ' get fat', ' be healthy', ' feel sick']], [['it', 'was', 'unhealthy'], 'isAfter', [' eat too much', ' eat junk food', ' drink too much', ' lose weight', ' bad for health', ' eat a lot', ' it was unhealthy', ' eat unhealthy food', ' eat unhealthy foods', ' go to gym', ' food was unhealthy', ' food poisoning', ' unhealthy food', ' feel sick', ' get fat', ' weight loss', ' exercise more', ' food', ' exercise', ' diet']], [['it', 'was', 'unhealthy'], 'xNeed', [' eat too much', ' eat junk food', ' eat a lot', ' eat fatty foods', ' eat bad food', ' go to gym', ' eat unhealthy food', ' eat unhealthy foods', ' lose weight', ' eat bad foods', ' eat meat', ' throw up', ' get fat', ' not eat', ' eat food', ' make food', ' eat junk', ' exercise', ' eat']]]\n",
      "33\n",
      "n = 4\n"
     ]
    },
    {
     "name": "stderr",
     "output_type": "stream",
     "text": [
      "1it [00:00, 1149.44it/s]"
     ]
    },
    {
     "name": "stdout",
     "output_type": "stream",
     "text": [
      "Genrating events...\n"
     ]
    },
    {
     "name": "stderr",
     "output_type": "stream",
     "text": [
      "\n"
     ]
    },
    {
     "name": "stdout",
     "output_type": "stream",
     "text": [
      "[[[\"Dan 's parents\", 'decided', 'to make a change'], 'xWant', [' to start a new life', ' to get a new job', ' to have a better life', ' to find a new job', ' to make a change themselves', ' to see how it goes', ' to make a good impression', ' to see how they do', ' to see what they think', ' to start a new business', ' to make a new life', ' to go back to work', ' to have a new life', ' to try something new', ' to go back to school', ' to make a change', ' to go to the gym', ' to enjoy the change', ' to go on vacation', ' to make a plan']], [[\"Dan 's parents\", 'decided', 'to make a change'], 'isBefore', [' Dan and his parents move to a new city', ' Dan and his parents move to a new house', ' Dan and his parents move to a new town', ' Dan and his parents move to a new home', ' Dan and his parents get a new job', ' Dan and his parents go to a new restaurant', \" Dan 's parents get a new job\", ' Dan and his parents go to a new school', ' Dan and his parents move to a new place', ' Dan and his parents move to a new apartment', ' Dan gets a new job at a new company', ' Dan and his parents move to a new state', ' Dan and his parents move to a new area', ' Dan and his parents get a new job.', ' Dan and his parents go to the new school', \" Dan 's parents get a new job.\", ' Dan and his parents move to a new location', \" Dan's parents decide to make a change\", ' Dan and his parents move to a new neighborhood', ' Dan and his parents go to the new restaurant']], [[\"Dan 's parents\", 'decided', 'to make a change'], 'xEffect', [' gets a new job', ' to make a change', ' get a new job', ' has a better life', ' gets a new car', ' has a new job', ' makes a new decision', ' makes a new friend', ' has a new life', ' has a new hobby', ' get a new car', ' has a new lifestyle', ' gets a raise', ' gets a promotion', ' learns new skills', ' has less money', ' makes a change', ' gets new job', ' learns new things', ' has less stress']], [[\"Dan 's parents\", 'decided', 'to make a change'], 'xIntent', [' to make a change', ' to try something new', ' to do something different', ' to change their lifestyle', ' to do something new', ' to be in control', ' to change their life', ' to have a change', ' to be more independent', ' to make a difference', ' to be happy', ' to be healthier', ' to be different', ' to save money', ' to be healthy', ' to be independent', ' make a change', ' to be successful', ' to feel better', ' to be better']], [[\"Dan 's parents\", 'decided', 'to make a change'], 'isAfter', [\" Dan 's parents decide to make a change\", \" Dan 's parents decided to make a change\", \" Dan 's parents get a new job\", \" Dan 's parents go to a new school\", \" Dan 's parents go to a new restaurant\", \" Dan 's parents go to a new job\", \" Dan 's parents decided to change their lifestyle\", \" Dan 's parents make a decision to change\", \" Dan 's parents decided to change their life\", \" Dan 's parents decide to change their life\", \" Dan 's parents decide to change their lifestyle\", ' Dan and his parents get a new job', ' PersonX moves to a new city.', \" Dan 's parents get a new car\", \" Dan 's parents go to the gym\", ' PersonX moves to a new town.', ' PersonX gets a new job.', ' PersonX moves to a new city', ' PersonX moves to a new town', ' PersonX moves to a new state']], [[\"Dan 's parents\", 'decided', 'to make a change'], 'xNeed', [' to talk to their parents', ' to talk to his parents', ' to listen to their parents', ' to talk to the parents', ' to talk with their parents', ' to know what they want', ' to talk to them', ' to go to the meeting', ' to go to the store', ' to make a decision', ' to talk to their parent', ' to make a plan', ' to talk to parents', ' to make a change', ' to think about it', ' to understand the situation', ' to tell their parents', ' to have a change', ' make a plan', ' make a decision']], [[\"Dan 's parents\", 'make', 'a change'], 'xWant', [' to start a new life', ' to get a new job', ' to see how it goes', ' to see how they do', ' to make a change themselves', ' to have a better life', ' to see what they think', ' to see if it works', ' to see if it helps', ' to make a new life', ' to see how they did', ' to try something new', ' to see what they do', ' to make a change', ' to see how it works', ' to see the results', ' to have a change', ' to be happy', ' to be successful', ' to help them']], [[\"Dan 's parents\", 'make', 'a change'], 'isBefore', [\" Dan 's parents get a new job\", ' Dan and his parents get a new job', \" Dan 's parents make a change\", \" Dan 's parents make a new change\", \" Dan's parents get a new job\", \" Dan 's parents make a change too\", ' Dan and his parents go on a date', \" Dan 's parents make a new life\", \" Dan's parents make a new life plan\", \" Dan 's parents get a new car\", \" Dan 's parents have a new life\", \" Dan's parents make a change for him\", ' Dan and his parents make a new plan', \" Dan 's parents make a new home\", ' Dan and his parents have a new life', \" Dan 's parents go to the gym\", ' Dan and his parents make a new life', \" Dan 's parents make the change\", ' Dan and his parents make a change', ' Dan gets a new job']], [[\"Dan 's parents\", 'make', 'a change'], 'xEffect', [' learns a new skill', ' gets a new job', ' to make a change', ' get a new job', ' has a better life', ' gets a new car', ' has a new life', ' makes a new decision', ' has a new lifestyle', ' has a new look', ' makes a new plan', ' gets a new look', ' gets a raise', ' gets a promotion', ' makes a change', ' learns new skills', ' learns new things', ' has less money', ' gets new job', ' has less stress']], [[\"Dan 's parents\", 'make', 'a change'], 'xIntent', [' to make a change', ' to try something new', ' to help their son', ' to be in control', ' to have a change', ' to change their lifestyle', ' to change their life', ' to help their child', ' to make a difference', ' to be more responsible', ' to be in charge', ' to be happy', ' to be successful', ' to be different', ' make a change', ' to feel better', ' to be better', ' to be responsible', ' to be healthy', ' to help them']], [[\"Dan 's parents\", 'make', 'a change'], 'isAfter', [\" Dan 's parents decide to make a change\", \" Dan 's parents want to make a change\", \" Dan 's parents decide to try something new\", \" Dan 's parents have to make a change\", \" Dan 's parents get a new job\", ' Dan asks his parents to make a change', \" Dan 's parents make a change for him\", \" Dan 's parents make a decision to change\", \" Dan 's parents talk to Dan's parents\", \" Dan 's parents go to a new restaurant\", \" Dan 's parents have to make a decision\", \" Dan 's parents make a change\", \" Dan 's parents get a new car\", \" Dan 's parents go to the gym\", \" Dan 's parents go to the doctor\", \" Dan 's parents make a decision\", \" Dan 's parents ask for advice\", \" Dan 's parents talk to Dan\", ' Dan gets a new job', ' Dan goes to a new school']], [[\"Dan 's parents\", 'make', 'a change'], 'xNeed', [' to talk to their parents', ' to listen to their parents', ' to talk to his parents', ' to talk to the parents', ' to ask for a change', ' to know what they want', ' to make a change', ' to talk to them', ' to make a decision', ' to make a plan', ' to talk to parents', ' to convince their parents', ' to ask for help', ' to tell their parents', ' to have a change', ' to understand the situation', ' to want to change', ' talk to parents', ' to convince them']]]\n",
      "45\n",
      "n = 5\n"
     ]
    },
    {
     "name": "stderr",
     "output_type": "stream",
     "text": [
      "1it [00:00, 909.24it/s]"
     ]
    },
    {
     "name": "stdout",
     "output_type": "stream",
     "text": [
      "Genrating events...\n"
     ]
    },
    {
     "name": "stderr",
     "output_type": "stream",
     "text": [
      "\n"
     ]
    },
    {
     "name": "stdout",
     "output_type": "stream",
     "text": [
      "[[[\"Dan 's parents\", 'got', \"Dan 's parents and Dan\"], 'xIntent', [' to spend time with them', ' to be with their parents', ' to be a good parent', ' to have a good time', ' to take care of them', ' to be with their family', ' to spend time with family', ' to be with his parents', ' to be a good friend', ' to spend time with him', ' to be close to them', ' to spend time together', ' to be with them', ' to show their love', ' to be with family', ' to have a family', ' to talk to them', ' to be helpful', ' to be nice', ' to be together']], [[\"Dan 's parents\", 'got', \"Dan 's parents and Dan\"], 'isAfter', [' PersonX asks PersonX to marry them.', ' PersonX asks PersonY to marry them.', \" PersonX calls PersonX's parents.\", ' PersonX wants to go to the movies.', ' Dan and his parents go to the movie theater', \" PersonX calls PersonY's parents.\", ' PersonX asks PersonX to marry them', ' Dan and his parents go to the movies', \" PersonX calls PersonX's parents\", ' PersonX asks PersonY to marry them', \" Dan 's parents go to the party\", \" Dan 's parents went to the store\", ' Dan and his parents go to the movie', \" Dan 's parents go to the store\", ' PersonX wants to go to the movies', \" Dan 's parents go to the movies\", \" PersonX calls PersonY's parents\", ' Dan wants to go to the movies', ' PersonX calls PersonX', ' PersonX calls PersonY']], [[\"Dan 's parents\", 'got', \"Dan 's parents and Dan\"], 'xNeed', [' to talk to their parents', ' to go to the store', ' to talk to the parents', ' to talk to his parents', ' to call their parents', ' to go to their house', ' to ask for a ride', ' to know where they are', ' to go to the mall', ' to go to the party', ' to talk to them', ' to drive to the house', ' to go to their parents', ' to go to the restaurant', ' to call his parents', ' to call the parents', ' to get their parents', ' to ask for help', ' to make a plan', ' to get the parents']], [[\"Dan 's parents\", 'got', 'on a diet'], 'xIntent', [' to lose weight', ' to be healthy', ' to be healthier', ' to eat healthier', ' to look better', ' to eat healthy', ' to look good', ' to eat less', ' to feel better', ' to stay healthy', ' to get healthier', ' to get healthy', ' to be fit', ' to eat better', ' to become healthier', ' eat healthy', ' to exercise', ' eat less', ' eat healthier']], [[\"Dan 's parents\", 'got', 'on a diet'], 'isAfter', [\" Dan 's parents go on a diet\", ' Dan goes to the gym with his parents', \" Dan 's parents go to the gym\", \" Dan 's parents went on a diet\", \" Dan 's parents are on a diet\", \" Dan 's parents went to the gym\", ' PersonX eats a lot of junk food', ' PersonY eats a lot of junk food', ' PersonX wants to lose weight.', \" Dan 's parents go to a gym\", ' PersonX goes on a diet too.', ' PersonX eats a lot of sweets.', ' PersonX eats a lot of food.', ' PersonX goes on a diet.', ' PersonX goes to the gym.', \" Dan 's parents lose weight\", ' PersonX wants to lose weight', ' PersonX eats a lot of sweets', ' PersonX eats a lot of food', ' PersonX goes on a diet too']], [[\"Dan 's parents\", 'got', 'on a diet'], 'xNeed', [' to go to the gym', ' to make a diet plan', ' to talk to their parents', ' to talk to his parents', ' to go to the doctor', ' to have a diet plan', ' to go to a gym', ' to join a diet group', ' to know how to diet', ' to know what they like', ' to join a diet club', ' to join a gym', ' go to the gym', ' to buy healthy food', ' to make a plan', ' to talk to them', ' to buy a scale', ' to buy food', ' to eat less', ' to encourage them']]]\n",
      "51\n",
      "CPU times: user 1min 8s, sys: 10.1 s, total: 1min 18s\n",
      "Wall time: 58.2 s\n"
     ]
    }
   ],
   "source": [
    "%%time\n",
    "result_df = pd.DataFrame()\n",
    "story_ids = []\n",
    "sentence_ids = []\n",
    "results_final = []\n",
    "for n in range(1,6):\n",
    "    print(f\"n = {n}\")\n",
    "    tmp_df = pd.DataFrame()\n",
    "    new_events_rows = []\n",
    "    queries = []\n",
    "    relations = []\n",
    "    triples_res = []\n",
    "\n",
    "    for index, row in tqdm(roc_stories_triples_df.iterrows()):\n",
    "        story_id = row['storyid']\n",
    "        sentence_id = f'sentence_{n}'\n",
    "        triples = ast.literal_eval(row[f'triples{n}']) \n",
    "        for idx, triple in enumerate(triples):\n",
    "            comet_head = ' '.join(triple)\n",
    "#             print(comet_head)\n",
    "            if n < 5:\n",
    "                for rel in forward_rels:\n",
    "                    query = \"{} {} \".format(comet_head, rel)\n",
    "                    queries.append(query)\n",
    "                    relations.append(rel)\n",
    "                    triples_res.append(triple)\n",
    "                    # for pivot\n",
    "                    story_ids.append(story_id)\n",
    "                    sentence_ids.append(sentence_id)\n",
    "            if n > 1:\n",
    "                for rel in backward_rels:\n",
    "                    query = \"{} {} \".format(comet_head, rel)\n",
    "                    queries.append(query)\n",
    "                    relations.append(rel)\n",
    "                    triples_res.append(triple)\n",
    "                    # for pivot\n",
    "                    story_ids.append(story_id)\n",
    "                    sentence_ids.append(sentence_id)\n",
    "    \n",
    "    print('Genrating events...')\n",
    "    results = comet.generate(queries, decode_method=\"beam\", num_generate=10)\n",
    "    results = [list(filter(lambda x: x.strip() != 'none', r)) for r in results]\n",
    "    new_events = [list(a) for a in zip(triples_res,relations, results)]\n",
    "    \n",
    "    print(new_events)\n",
    "    results_final += new_events\n",
    "\n",
    "    print(len(results_final))\n",
    "    \n",
    "result_df['storyid'] = story_ids\n",
    "result_df['sentence_id'] = sentence_ids\n",
    "result_df[f'new_events'] = results_final\n",
    "    \n",
    "#     result_df.to_csv()"
   ]
  },
  {
   "cell_type": "code",
   "execution_count": 13,
   "id": "8e453b4b",
   "metadata": {
    "scrolled": false
   },
   "outputs": [],
   "source": [
    "# result_df"
   ]
  },
  {
   "cell_type": "code",
   "execution_count": 14,
   "id": "f7804a7d",
   "metadata": {},
   "outputs": [],
   "source": [
    "tmp = result_df.groupby(['storyid', 'sentence_id']).new_events.apply(list).to_frame().reset_index()"
   ]
  },
  {
   "cell_type": "code",
   "execution_count": 15,
   "id": "876135a0",
   "metadata": {},
   "outputs": [],
   "source": [
    "res = tmp.pivot(index='storyid', columns='sentence_id', values='new_events').reset_index()"
   ]
  },
  {
   "cell_type": "code",
   "execution_count": 16,
   "id": "e982bcf4",
   "metadata": {},
   "outputs": [],
   "source": [
    "res.columns.name = None"
   ]
  },
  {
   "cell_type": "code",
   "execution_count": 17,
   "id": "124095b6",
   "metadata": {},
   "outputs": [
    {
     "data": {
      "text/html": [
       "<div>\n",
       "<style scoped>\n",
       "    .dataframe tbody tr th:only-of-type {\n",
       "        vertical-align: middle;\n",
       "    }\n",
       "\n",
       "    .dataframe tbody tr th {\n",
       "        vertical-align: top;\n",
       "    }\n",
       "\n",
       "    .dataframe thead th {\n",
       "        text-align: right;\n",
       "    }\n",
       "</style>\n",
       "<table border=\"1\" class=\"dataframe\">\n",
       "  <thead>\n",
       "    <tr style=\"text-align: right;\">\n",
       "      <th></th>\n",
       "      <th>storyid</th>\n",
       "      <th>sentence_1</th>\n",
       "      <th>sentence_2</th>\n",
       "      <th>sentence_3</th>\n",
       "      <th>sentence_4</th>\n",
       "      <th>sentence_5</th>\n",
       "    </tr>\n",
       "  </thead>\n",
       "  <tbody>\n",
       "    <tr>\n",
       "      <th>0</th>\n",
       "      <td>9a51198e-96f1-42c3-b09d-a3e1e067d803</td>\n",
       "      <td>[[[Dan 's parents, were, overweight], xWant, [ to buy new clothes,  to buy healthy food,  to eat less,  to lose weight,  to eat healthy,  to eat less food,  to eat healthier,  to eat healthy food,  to eat less.,  to lose weight.,  to work out more,  to buy healthy foods,  to work out,  to gain weight,  to be healthy,  to be healthier,  to eat more,  to get healthy,  to exercise,  eat less]], [[Dan 's parents, were, overweight], isBefore, [ Dan 's parents go on a diet,  Dan goes to the gym to lose weight,  Dan and his parents go on a diet,  Dan goes to the gym with his parents,  Dan 's parents went on a diet,  Dan 's parents go to the gym,  Dan and his parents go to the gym,  PersonX eats a lot of food.,  PersonX eats a lot of junk food,  Dan 's parents go to the doctor,  Dan 's parents went to the doctor,  Dan buys new clothes for his parents,  Dan 's parents went to the gym,  Dan eats a lot of junk food,  Dan's parents go to the gym,  PersonX eats a lot of food,  Dan 's parents lose weight,  Dan goes to the gym,  Dan gets a new job]], [[Dan 's parents, were, overweight], xEffect, [ goes to the doctor,  goes to the gym,  has to eat less,  has to lose weight,  gets a restraining order,  gets teased by parents,  has to exercise more,  has to eat more,  has to buy food,  to parents to eat,  eats too much,  eat too much,  goes to doctor,  goes to gym,  has to exercise,  loses weight,  gain weight,  gets fat,  eats less]]]</td>\n",
       "      <td>[[[Dan, was, overweight], xWant, [ to lose weight,  go to the gym,  to lose the weight,  to lose some weight,  get a gym membership,  to work out more,  to lose weight.,  to eat less,  go to the doctor,  to eat less food,  to eat less.,  to eat more food,  to work out,  to get a trainer,  to go to gym,  to exercise more,  eat too much,  eat a lot,  to eat healthy,  to eat healthier]], [[Dan, was, overweight], isBefore, [ Dan goes to the gym everyday,  Dan goes to the gym,  Dan eats too much junk food,  Dan went on a diet,  Dan goes to the gym regularly,  Dan had to buy new clothes,  Dan went to the gym,  Dan goes on a diet,  Dan goes to the gym daily,  Dan eats a lot of food,  Dan decided to lose weight,  Dan went to the doctor,  Dan goes to a gym,  Dan had to lose weight,  Dan has to lose weight,  Dan goes to the doctor,  Dan started to lose weight,  Dan went to a gym,  Dan eats too much food,  Dan eats too much]], [[Dan, was, overweight], xEffect, [ goes to the gym,  goes to the doctor,  has to lose weight,  get a gym membership,  get a new job,  goes to a gym,  eats too much food,  gets in a fight,  eats too much,  eat too much food,  has to exercise more,  has to eat less,  eat too much,  eat too much.,  has to work out,  has to eat more,  eats too much.,  goes to a doctor,  get a new hobby,  goes to gym]], [[Dan, was, overweight], xIntent, [ to lose weight,  to be healthy,  to be thin,  to gain weight,  to be skinny,  to be fit,  eat too much,  to be thinner,  to eat more,  to be healthier,  to eat less,  not eat enough,  to be slim,  lose weight,  gain weight,  be healthy,  not fit,  to eat,  eat less]], [[Dan, was, overweight], isAfter, [ Dan goes to the gym everyday,  Dan eats too much junk food,  Dan goes to the gym,  Dan works out at the gym,  Dan ate too much junk food,  Dan goes to the gym regularly,  Dan went to the gym,  Dan tries to lose weight,  Dan eats a lot of food,  Dan goes to the gym daily,  Dan went on a diet,  Dan eats a lot of meat,  Dan went to the gym everyday,  Dan works out every day,  Dan goes to a gym,  Dan eats too much food,  Dan went to a gym,  Dan went to the doctor,  Dan eats too much,  Dan works out everyday]], [[Dan, was, overweight], xNeed, [ go to the gym,  to eat too much,  to eat a lot,  get a gym membership,  eat too much,  to eat junk food,  eat too much food,  go to a gym,  eat lots of food,  eat a lot,  go to gym,  eat lots of sweets,  eat too much.,  eat too much meat,  eat lots of meat,  eat junk food,  to work out,  not eat enough,  to be overweight]], [[Dan, was, as well], xWant, [ to spend time with Dan,  to have a good time,  to spend time with him,  to go on a date,  to have fun with Dan,  to go to the movies,  to be a good friend,  to go to the store,  to spend time with them,  to go to the bathroom,  to spend time with friends,  to go home and rest,  to go to the party,  to go to the doctor,  to go home and relax,  to go to bed,  to go to sleep,  to take a nap,  to talk to Dan,  to take a shower]], [[Dan, was, as well], isBefore, [ Dan buys a new car,  Dan goes back home to sleep,  Dan gets a new job,  Dan goes back to work,  Dan buys a new house,  Dan got a new job,  Dan goes home to sleep,  Dan buys a new bike,  Dan goes back to school,  Dan goes to the doctor,  Dan goes on a date,  Dan goes to the hospital,  Dan went to the doctor,  Dan goes to the movies,  Dan gets the job,  Dan takes a nap,  Dan goes to work,  Dan takes a shower,  Dan goes to sleep]], [[Dan, was, as well], xEffect, [ was in a car accident,  gets yelled at by others,  gets yelled at by Dan,  Dan gets a new job,  gets yelled at for it,  was in a car wreck,  Dan is in a coma,  gets yelled at by people,  Dan is a good person,  gets yelled at by friends,  Dan is in the hospital,  Dan is a good listener,  gets yelled at by person,  Dan is a good friend,  gets yelled at,  is in a wheelchair,  was in a fight,  is in the hospital,  is in a hurry,  is in a relationship]], [[Dan, was, as well], xIntent, [ to be sociable,  to be with someone,  have a good time,  to be happy.,  to be with person,  to have fun.,  to be with others,  to be in charge,  to be a leader,  to have a friend,  to have fun,  to be with him,  to be happy,  to be nice,  to be liked,  to be helpful,  to be friendly,  to be included,  to be together]], [[Dan, was, as well], isAfter, [ Dan was in a car accident,  Dan was in a car wreck,  Dan goes to work with Dan,  Dan went to work with Dan,  Dan was in a car crash,  Dan was in the same boat,  Dan gets a new job,  Dan is in the hospital,  Dan went to the doctor,  Dan was at the party,  Dan was in the hospital,  Dan goes to the doctor,  Dan goes to the gym,  Dan went to the movies,  Dan goes to the movies,  Dan went to the store,  Dan was in the car,  Dan was on a date,  Dan goes to the store,  Dan went to work]], [[Dan, was, as well], xNeed, [ to go to the store,  to be in a relationship,  make sure they are okay,  to want to do something,  make sure they are ok,  to want to do it,  to have been there before,  to know what Dan likes,  to be in a fight,  to be in the car,  to want to be there,  to be in a car,  to have met Dan,  to be with Dan,  to have a job,  go to the store,  to be at work,  to have been there,  to have been born]]]</td>\n",
       "      <td>[[[The doctors, told, Dan 's parents], xWant, [ to talk to the parents,  to talk to their parents,  to go to the doctor,  to go to the hospital,  to find out what happened,  to tell them what happened,  to talk to the doctor,  to talk to the doctors,  to thank the doctor,  to talk to them,  to thank the doctors,  to tell their parents,  to talk to Dan,  to explain the situation,  to talk to parents,  to go home,  to tell their children,  to ask questions,  to help him,  to cry]], [[The doctors, told, Dan 's parents], isBefore, [ Dan 's parents go to the hospital,  Dan 's parents go to the doctor,  the parents go to the doctor's office,  the doctors tell the parents what they know,  the doctors tell the parents what they think,  the doctors tell the parents they are fine,  Dan's parents go to the hospital.,  the doctor tells the parents they are fine,  the doctor tells the parents what they think,  the doctor tells the parents what they know,  Dan 's parents go to the ER,  Dan's parents go to the hospital,  the parents go to the hospital,  the parents go to the doctor,  the doctors tell the parents what happened,  Dan's parents go to the doctor,  PersonX goes to the hospital.,  the doctor tells the parents what happened,  the doctors tell the parents the news,  the doctor tells the parents the news]], [[The doctors, told, Dan 's parents], xEffect, [ the doctors tell the parents,  has to make a decision,  the doctor tells the parents,  is told to go home,  the parents know the truth,  the parents are informed.,  The parents are informed.,  the parents know what happened,  the parents are informed,  the parents go to court,  the family is informed,  the parents are told,  The parents are informed,  the parents to know,  learns something new,  gets told off,  gets a bill,  learns something,  cries]], [[The doctors, told, Dan 's parents], xIntent, [ to inform the parents,  to tell them something,  the parents to know,  to tell the truth,  to inform their parents,  to tell the parents,  to tell someone something,  to inform them,  to tell their parents,  to be informed,  to be helpful,  to be honest,  to inform parents,  to help him,  to help them,  to help someone,  to inform someone,  to tell them,  to inform]], [[The doctors, told, Dan 's parents], isAfter, [ Dan 's parents go to the hospital,  Dan 's parents go to the doctor,  PersonX calls PersonX's parents.,  Dan 's parents went to the hospital,  Dan 's parents went to the doctor,  PersonY calls PersonY's parents.,  PersonX tells PersonX's parents.,  PersonX calls PersonY's parents.,  Dan 's parents go to the ER,  PersonX calls PersonX's parents,  PersonX goes to the hospital.,  PersonX goes to the doctor.,  PersonY calls PersonY's parents,  PersonX calls PersonY's parents,  the doctor tells the parents what happened,  PersonX tells PersonX what happened,  PersonX goes to the hospital,  PersonX goes to the doctor,  the doctors told the parents,  the doctors tell the parents]], [[The doctors, told, Dan 's parents], xNeed, [ to go to the doctor,  to know what is going on,  to go to the hospital,  to go to the doctor.,  to find out what is wrong,  to have a conversation with them,  find out what is going on,  to talk to the doctor,  to go to the hospital.,  to find out what's wrong,  to go to the doctors,  to go to the doctors office,  to find out what was wrong,  to talk to the doctors,  to talk to the doctor.,  to get a doctor's note,  to be in the hospital,  to talk to the parents,  to find out what happened,  to see the doctor]], [[The doctors, told, it was unhealthy], xWant, [ go to the doctor,  to see a doctor,  to stop eating it,  to give up smoking,  go to the hospital,  to eat healthy food,  to take a pill,  to eat healthy foods,  to get better,  to be healthy,  to take medicine,  to eat healthy,  to eat healthier,  to get healthy,  to eat less,  to go home,  to stop eating,  to give up,  eat less,  take medicine]], [[The doctors, told, it was unhealthy], isBefore, [ the patient goes to the doctor,  the person goes to the doctor,  the patient goes to the hospital,  the person goes to the hospital,  the doctor told them to stop,  the doctor gave them a prescription,  the doctor tells them to stop,  the doctor gives them a prescription,  the doctor told them not to,  the doctor told him to stop,  the food to be healthy,  the food to be unhealthy,  the food was not healthy,  the doctor gave them medicine,  the food to be eaten,  the food was not good,  go to the doctor,  the diet was changed,  the patient goes home,  the patient takes medicine]], [[The doctors, told, it was unhealthy], xEffect, [ has to take medicine,  have to take medicine,  get a checkup,  get a new job,  get a check up,  has to eat less,  has to take medication,  have to eat less,  the person gets sick,  the patient gets sick,  get a new diet,  the person eats less,  have to take medication,  the food is unhealthy,  has to eat more,  eat unhealthy food,  eat unhealthy foods,  lose weight,  eat less food,  get a prescription]], [[The doctors, told, it was unhealthy], xIntent, [ to be healthy,  not to eat,  to get healthy,  to eat less,  to stop eating,  to prevent disease,  to be healthier,  to stop smoking,  to eat healthy,  lose weight,  be healthy,  no effect,  eat less,  get better,  not eat,  the food,  health,  unhealthy,  medicine]], [[The doctors, told, it was unhealthy], isAfter, [ the food to be unhealthy,  the food to be healthy,  the food to be eaten,  the food was not healthy,  the food to be healthier,  go to the doctor,  the patient was given medicine,  the food was not good,  the person ate the food,  the food was unhealthy,  go to the hospital,  the food was bad,  the diet was changed,  the food is unhealthy,  the patient gets sick,  go to doctor,  go to hospital,  lose weight,  take medicine,  eat less]], [[The doctors, told, it was unhealthy], xNeed, [ go to the doctor,  go to the hospital,  to eat junk food,  go to the doctors,  to eat unhealthy food,  to eat something unhealthy,  to eat unhealthy foods,  to go to doctor,  go to doctor,  to have been sick,  to get sick,  go to hospital,  to be sick,  to take medicine,  eat too much,  eat unhealthy food,  get checked out,  find out why,  to eat unhealthy,  take medicine]], [[it, was, unhealthy], xWant, [ eat too much,  eat junk food,  eat a lot,  go to doctor,  eat unhealthy food,  eat bad food,  lose weight,  eat unhealthy foods,  eat bad foods,  to eat less,  go to gym,  have a drink,  throw up,  take medicine,  get healthy,  stop eating,  eat less,  feel better,  eat junk,  eat food]], [[it, was, unhealthy], isBefore, [ eat too much,  eat junk food,  lose weight,  bad for health,  it was unhealthy,  drink too much,  eat a lot,  eat unhealthy food,  eat unhealthy foods,  go to doctor,  bad for you,  go to gym,  feel sick,  throw up,  food poisoning,  unhealthy food,  exercise more,  fall asleep,  eat junk,  exercise]], [[it, was, unhealthy], xEffect, [ eat too much,  eat junk food,  lose weight,  eat a lot,  go to doctor,  eat bad food,  eat unhealthy food,  go to hospital,  eat unhealthy foods,  eat bad foods,  eat junk foods,  get sick from,  get sick,  get sicker,  lost weight,  throw up,  get fat,  feel sick,  stop eating,  become sick]], [[it, was, unhealthy], xIntent, [ eat junk food,  eat too much,  nothing to eat,  not to eat,  bad for health,  eat a lot,  eat unhealthy food,  eat bad food,  lose weight,  eat unhealthy foods,  it was unhealthy,  unhealthy food.,  unhealthy food,  bad for you,  not eat enough,  unhealthy foods,  get fat,  be healthy,  feel sick]], [[it, was, unhealthy], isAfter, [ eat too much,  eat junk food,  drink too much,  lose weight,  bad for health,  eat a lot,  it was unhealthy,  eat unhealthy food,  eat unhealthy foods,  go to gym,  food was unhealthy,  food poisoning,  unhealthy food,  feel sick,  get fat,  weight loss,  exercise more,  food,  exercise,  diet]], [[it, was, unhealthy], xNeed, [ eat too much,  eat junk food,  eat a lot,  eat fatty foods,  eat bad food,  go to gym,  eat unhealthy food,  eat unhealthy foods,  lose weight,  eat bad foods,  eat meat,  throw up,  get fat,  not eat,  eat food,  make food,  eat junk,  exercise,  eat]]]</td>\n",
       "      <td>[[[Dan 's parents, decided, to make a change], xWant, [ to start a new life,  to get a new job,  to have a better life,  to find a new job,  to make a change themselves,  to see how it goes,  to make a good impression,  to see how they do,  to see what they think,  to start a new business,  to make a new life,  to go back to work,  to have a new life,  to try something new,  to go back to school,  to make a change,  to go to the gym,  to enjoy the change,  to go on vacation,  to make a plan]], [[Dan 's parents, decided, to make a change], isBefore, [ Dan and his parents move to a new city,  Dan and his parents move to a new house,  Dan and his parents move to a new town,  Dan and his parents move to a new home,  Dan and his parents get a new job,  Dan and his parents go to a new restaurant,  Dan 's parents get a new job,  Dan and his parents go to a new school,  Dan and his parents move to a new place,  Dan and his parents move to a new apartment,  Dan gets a new job at a new company,  Dan and his parents move to a new state,  Dan and his parents move to a new area,  Dan and his parents get a new job.,  Dan and his parents go to the new school,  Dan 's parents get a new job.,  Dan and his parents move to a new location,  Dan's parents decide to make a change,  Dan and his parents move to a new neighborhood,  Dan and his parents go to the new restaurant]], [[Dan 's parents, decided, to make a change], xEffect, [ gets a new job,  to make a change,  get a new job,  has a better life,  gets a new car,  has a new job,  makes a new decision,  makes a new friend,  has a new life,  has a new hobby,  get a new car,  has a new lifestyle,  gets a raise,  gets a promotion,  learns new skills,  has less money,  makes a change,  gets new job,  learns new things,  has less stress]], [[Dan 's parents, decided, to make a change], xIntent, [ to make a change,  to try something new,  to do something different,  to change their lifestyle,  to do something new,  to be in control,  to change their life,  to have a change,  to be more independent,  to make a difference,  to be happy,  to be healthier,  to be different,  to save money,  to be healthy,  to be independent,  make a change,  to be successful,  to feel better,  to be better]], [[Dan 's parents, decided, to make a change], isAfter, [ Dan 's parents decide to make a change,  Dan 's parents decided to make a change,  Dan 's parents get a new job,  Dan 's parents go to a new school,  Dan 's parents go to a new restaurant,  Dan 's parents go to a new job,  Dan 's parents decided to change their lifestyle,  Dan 's parents make a decision to change,  Dan 's parents decided to change their life,  Dan 's parents decide to change their life,  Dan 's parents decide to change their lifestyle,  Dan and his parents get a new job,  PersonX moves to a new city.,  Dan 's parents get a new car,  Dan 's parents go to the gym,  PersonX moves to a new town.,  PersonX gets a new job.,  PersonX moves to a new city,  PersonX moves to a new town,  PersonX moves to a new state]], [[Dan 's parents, decided, to make a change], xNeed, [ to talk to their parents,  to talk to his parents,  to listen to their parents,  to talk to the parents,  to talk with their parents,  to know what they want,  to talk to them,  to go to the meeting,  to go to the store,  to make a decision,  to talk to their parent,  to make a plan,  to talk to parents,  to make a change,  to think about it,  to understand the situation,  to tell their parents,  to have a change,  make a plan,  make a decision]], [[Dan 's parents, make, a change], xWant, [ to start a new life,  to get a new job,  to see how it goes,  to see how they do,  to make a change themselves,  to have a better life,  to see what they think,  to see if it works,  to see if it helps,  to make a new life,  to see how they did,  to try something new,  to see what they do,  to make a change,  to see how it works,  to see the results,  to have a change,  to be happy,  to be successful,  to help them]], [[Dan 's parents, make, a change], isBefore, [ Dan 's parents get a new job,  Dan and his parents get a new job,  Dan 's parents make a change,  Dan 's parents make a new change,  Dan's parents get a new job,  Dan 's parents make a change too,  Dan and his parents go on a date,  Dan 's parents make a new life,  Dan's parents make a new life plan,  Dan 's parents get a new car,  Dan 's parents have a new life,  Dan's parents make a change for him,  Dan and his parents make a new plan,  Dan 's parents make a new home,  Dan and his parents have a new life,  Dan 's parents go to the gym,  Dan and his parents make a new life,  Dan 's parents make the change,  Dan and his parents make a change,  Dan gets a new job]], [[Dan 's parents, make, a change], xEffect, [ learns a new skill,  gets a new job,  to make a change,  get a new job,  has a better life,  gets a new car,  has a new life,  makes a new decision,  has a new lifestyle,  has a new look,  makes a new plan,  gets a new look,  gets a raise,  gets a promotion,  makes a change,  learns new skills,  learns new things,  has less money,  gets new job,  has less stress]], [[Dan 's parents, make, a change], xIntent, [ to make a change,  to try something new,  to help their son,  to be in control,  to have a change,  to change their lifestyle,  to change their life,  to help their child,  to make a difference,  to be more responsible,  to be in charge,  to be happy,  to be successful,  to be different,  make a change,  to feel better,  to be better,  to be responsible,  to be healthy,  to help them]], [[Dan 's parents, make, a change], isAfter, [ Dan 's parents decide to make a change,  Dan 's parents want to make a change,  Dan 's parents decide to try something new,  Dan 's parents have to make a change,  Dan 's parents get a new job,  Dan asks his parents to make a change,  Dan 's parents make a change for him,  Dan 's parents make a decision to change,  Dan 's parents talk to Dan's parents,  Dan 's parents go to a new restaurant,  Dan 's parents have to make a decision,  Dan 's parents make a change,  Dan 's parents get a new car,  Dan 's parents go to the gym,  Dan 's parents go to the doctor,  Dan 's parents make a decision,  Dan 's parents ask for advice,  Dan 's parents talk to Dan,  Dan gets a new job,  Dan goes to a new school]], [[Dan 's parents, make, a change], xNeed, [ to talk to their parents,  to listen to their parents,  to talk to his parents,  to talk to the parents,  to ask for a change,  to know what they want,  to make a change,  to talk to them,  to make a decision,  to make a plan,  to talk to parents,  to convince their parents,  to ask for help,  to tell their parents,  to have a change,  to understand the situation,  to want to change,  talk to parents,  to convince them]]]</td>\n",
       "      <td>[[[Dan 's parents, got, Dan 's parents and Dan], xIntent, [ to spend time with them,  to be with their parents,  to be a good parent,  to have a good time,  to take care of them,  to be with their family,  to spend time with family,  to be with his parents,  to be a good friend,  to spend time with him,  to be close to them,  to spend time together,  to be with them,  to show their love,  to be with family,  to have a family,  to talk to them,  to be helpful,  to be nice,  to be together]], [[Dan 's parents, got, Dan 's parents and Dan], isAfter, [ PersonX asks PersonX to marry them.,  PersonX asks PersonY to marry them.,  PersonX calls PersonX's parents.,  PersonX wants to go to the movies.,  Dan and his parents go to the movie theater,  PersonX calls PersonY's parents.,  PersonX asks PersonX to marry them,  Dan and his parents go to the movies,  PersonX calls PersonX's parents,  PersonX asks PersonY to marry them,  Dan 's parents go to the party,  Dan 's parents went to the store,  Dan and his parents go to the movie,  Dan 's parents go to the store,  PersonX wants to go to the movies,  Dan 's parents go to the movies,  PersonX calls PersonY's parents,  Dan wants to go to the movies,  PersonX calls PersonX,  PersonX calls PersonY]], [[Dan 's parents, got, Dan 's parents and Dan], xNeed, [ to talk to their parents,  to go to the store,  to talk to the parents,  to talk to his parents,  to call their parents,  to go to their house,  to ask for a ride,  to know where they are,  to go to the mall,  to go to the party,  to talk to them,  to drive to the house,  to go to their parents,  to go to the restaurant,  to call his parents,  to call the parents,  to get their parents,  to ask for help,  to make a plan,  to get the parents]], [[Dan 's parents, got, on a diet], xIntent, [ to lose weight,  to be healthy,  to be healthier,  to eat healthier,  to look better,  to eat healthy,  to look good,  to eat less,  to feel better,  to stay healthy,  to get healthier,  to get healthy,  to be fit,  to eat better,  to become healthier,  eat healthy,  to exercise,  eat less,  eat healthier]], [[Dan 's parents, got, on a diet], isAfter, [ Dan 's parents go on a diet,  Dan goes to the gym with his parents,  Dan 's parents go to the gym,  Dan 's parents went on a diet,  Dan 's parents are on a diet,  Dan 's parents went to the gym,  PersonX eats a lot of junk food,  PersonY eats a lot of junk food,  PersonX wants to lose weight.,  Dan 's parents go to a gym,  PersonX goes on a diet too.,  PersonX eats a lot of sweets.,  PersonX eats a lot of food.,  PersonX goes on a diet.,  PersonX goes to the gym.,  Dan 's parents lose weight,  PersonX wants to lose weight,  PersonX eats a lot of sweets,  PersonX eats a lot of food,  PersonX goes on a diet too]], [[Dan 's parents, got, on a diet], xNeed, [ to go to the gym,  to make a diet plan,  to talk to their parents,  to talk to his parents,  to go to the doctor,  to have a diet plan,  to go to a gym,  to join a diet group,  to know how to diet,  to know what they like,  to join a diet club,  to join a gym,  go to the gym,  to buy healthy food,  to make a plan,  to talk to them,  to buy a scale,  to buy food,  to eat less,  to encourage them]]]</td>\n",
       "    </tr>\n",
       "  </tbody>\n",
       "</table>\n",
       "</div>"
      ],
      "text/plain": [
       "                                storyid  \\\n",
       "0  9a51198e-96f1-42c3-b09d-a3e1e067d803   \n",
       "\n",
       "                                                                                                                                                                                                                                                                                                                                                                                                                                                                                                                                                                                                                                                                                                                                                                                                                                                                                                                                                                                                                                                                                                                                                                                                                                                                                                                                                                                                                                                                                          sentence_1  \\\n",
       "0  [[[Dan 's parents, were, overweight], xWant, [ to buy new clothes,  to buy healthy food,  to eat less,  to lose weight,  to eat healthy,  to eat less food,  to eat healthier,  to eat healthy food,  to eat less.,  to lose weight.,  to work out more,  to buy healthy foods,  to work out,  to gain weight,  to be healthy,  to be healthier,  to eat more,  to get healthy,  to exercise,  eat less]], [[Dan 's parents, were, overweight], isBefore, [ Dan 's parents go on a diet,  Dan goes to the gym to lose weight,  Dan and his parents go on a diet,  Dan goes to the gym with his parents,  Dan 's parents went on a diet,  Dan 's parents go to the gym,  Dan and his parents go to the gym,  PersonX eats a lot of food.,  PersonX eats a lot of junk food,  Dan 's parents go to the doctor,  Dan 's parents went to the doctor,  Dan buys new clothes for his parents,  Dan 's parents went to the gym,  Dan eats a lot of junk food,  Dan's parents go to the gym,  PersonX eats a lot of food,  Dan 's parents lose weight,  Dan goes to the gym,  Dan gets a new job]], [[Dan 's parents, were, overweight], xEffect, [ goes to the doctor,  goes to the gym,  has to eat less,  has to lose weight,  gets a restraining order,  gets teased by parents,  has to exercise more,  has to eat more,  has to buy food,  to parents to eat,  eats too much,  eat too much,  goes to doctor,  goes to gym,  has to exercise,  loses weight,  gain weight,  gets fat,  eats less]]]   \n",
       "\n",
       "                                                                                                                                                                                                                                                                                                                                                                                                                                                                                                                                                                                                                                                                                                                                                                                                                                                                                                                                                                                                                                                                                                                                                                                                                                                                                                                                                                                                                                                                                                                                                                                                                                                                                                                                                                                                                                                                                                                                                                                                                                                                                                                                                                                                                                                                                                                                                                                                                                                                                                                                                                                                                                                                                                                                                                                                                                                                                                                                                                                                                                                                                                                                                                                                                                                                                                                                                                                                                                                                                                                                                                                                                                                                                                                                                                                                                                                                                                                                                                                                                                                                                                                                                                                                                                                                                                                                                                                                                                                                                                                                                                                                                                                                                                                                                                                                                                                                                                                                                                                                                                                                                                                                                                                                                                                                                                                                                                                                                                                                         sentence_2  \\\n",
       "0  [[[Dan, was, overweight], xWant, [ to lose weight,  go to the gym,  to lose the weight,  to lose some weight,  get a gym membership,  to work out more,  to lose weight.,  to eat less,  go to the doctor,  to eat less food,  to eat less.,  to eat more food,  to work out,  to get a trainer,  to go to gym,  to exercise more,  eat too much,  eat a lot,  to eat healthy,  to eat healthier]], [[Dan, was, overweight], isBefore, [ Dan goes to the gym everyday,  Dan goes to the gym,  Dan eats too much junk food,  Dan went on a diet,  Dan goes to the gym regularly,  Dan had to buy new clothes,  Dan went to the gym,  Dan goes on a diet,  Dan goes to the gym daily,  Dan eats a lot of food,  Dan decided to lose weight,  Dan went to the doctor,  Dan goes to a gym,  Dan had to lose weight,  Dan has to lose weight,  Dan goes to the doctor,  Dan started to lose weight,  Dan went to a gym,  Dan eats too much food,  Dan eats too much]], [[Dan, was, overweight], xEffect, [ goes to the gym,  goes to the doctor,  has to lose weight,  get a gym membership,  get a new job,  goes to a gym,  eats too much food,  gets in a fight,  eats too much,  eat too much food,  has to exercise more,  has to eat less,  eat too much,  eat too much.,  has to work out,  has to eat more,  eats too much.,  goes to a doctor,  get a new hobby,  goes to gym]], [[Dan, was, overweight], xIntent, [ to lose weight,  to be healthy,  to be thin,  to gain weight,  to be skinny,  to be fit,  eat too much,  to be thinner,  to eat more,  to be healthier,  to eat less,  not eat enough,  to be slim,  lose weight,  gain weight,  be healthy,  not fit,  to eat,  eat less]], [[Dan, was, overweight], isAfter, [ Dan goes to the gym everyday,  Dan eats too much junk food,  Dan goes to the gym,  Dan works out at the gym,  Dan ate too much junk food,  Dan goes to the gym regularly,  Dan went to the gym,  Dan tries to lose weight,  Dan eats a lot of food,  Dan goes to the gym daily,  Dan went on a diet,  Dan eats a lot of meat,  Dan went to the gym everyday,  Dan works out every day,  Dan goes to a gym,  Dan eats too much food,  Dan went to a gym,  Dan went to the doctor,  Dan eats too much,  Dan works out everyday]], [[Dan, was, overweight], xNeed, [ go to the gym,  to eat too much,  to eat a lot,  get a gym membership,  eat too much,  to eat junk food,  eat too much food,  go to a gym,  eat lots of food,  eat a lot,  go to gym,  eat lots of sweets,  eat too much.,  eat too much meat,  eat lots of meat,  eat junk food,  to work out,  not eat enough,  to be overweight]], [[Dan, was, as well], xWant, [ to spend time with Dan,  to have a good time,  to spend time with him,  to go on a date,  to have fun with Dan,  to go to the movies,  to be a good friend,  to go to the store,  to spend time with them,  to go to the bathroom,  to spend time with friends,  to go home and rest,  to go to the party,  to go to the doctor,  to go home and relax,  to go to bed,  to go to sleep,  to take a nap,  to talk to Dan,  to take a shower]], [[Dan, was, as well], isBefore, [ Dan buys a new car,  Dan goes back home to sleep,  Dan gets a new job,  Dan goes back to work,  Dan buys a new house,  Dan got a new job,  Dan goes home to sleep,  Dan buys a new bike,  Dan goes back to school,  Dan goes to the doctor,  Dan goes on a date,  Dan goes to the hospital,  Dan went to the doctor,  Dan goes to the movies,  Dan gets the job,  Dan takes a nap,  Dan goes to work,  Dan takes a shower,  Dan goes to sleep]], [[Dan, was, as well], xEffect, [ was in a car accident,  gets yelled at by others,  gets yelled at by Dan,  Dan gets a new job,  gets yelled at for it,  was in a car wreck,  Dan is in a coma,  gets yelled at by people,  Dan is a good person,  gets yelled at by friends,  Dan is in the hospital,  Dan is a good listener,  gets yelled at by person,  Dan is a good friend,  gets yelled at,  is in a wheelchair,  was in a fight,  is in the hospital,  is in a hurry,  is in a relationship]], [[Dan, was, as well], xIntent, [ to be sociable,  to be with someone,  have a good time,  to be happy.,  to be with person,  to have fun.,  to be with others,  to be in charge,  to be a leader,  to have a friend,  to have fun,  to be with him,  to be happy,  to be nice,  to be liked,  to be helpful,  to be friendly,  to be included,  to be together]], [[Dan, was, as well], isAfter, [ Dan was in a car accident,  Dan was in a car wreck,  Dan goes to work with Dan,  Dan went to work with Dan,  Dan was in a car crash,  Dan was in the same boat,  Dan gets a new job,  Dan is in the hospital,  Dan went to the doctor,  Dan was at the party,  Dan was in the hospital,  Dan goes to the doctor,  Dan goes to the gym,  Dan went to the movies,  Dan goes to the movies,  Dan went to the store,  Dan was in the car,  Dan was on a date,  Dan goes to the store,  Dan went to work]], [[Dan, was, as well], xNeed, [ to go to the store,  to be in a relationship,  make sure they are okay,  to want to do something,  make sure they are ok,  to want to do it,  to have been there before,  to know what Dan likes,  to be in a fight,  to be in the car,  to want to be there,  to be in a car,  to have met Dan,  to be with Dan,  to have a job,  go to the store,  to be at work,  to have been there,  to have been born]]]   \n",
       "\n",
       "                                                                                                                                                                                                                                                                                                                                                                                                                                                                                                                                                                                                                                                                                                                                                                                                                                                                                                                                                                                                                                                                                                                                                                                                                                                                                                                                                                                                                                                                                                                                                                                                                                                                                                                                                                                                                                                                                                                                                                                                                                                                                                                                                                                                                                                                                                                                                                                                                                                                                                                                                                                                                                                                                                                                                                                                                                                                                                                                                                                                                                                                                                                                                                                                                                                                                                                                                                                                                                                                                                                                                                                                                                                                                                                                                                                                                                                                                                                                                                                                                                                                                                                                                                                                                                                                                                                                                                                                                                                                                                                                                                                                                                                                                                                                                                                                                                                                                                                                                                                                                                                                                                                                                                                                                                                                                                                                                                                                                                                                                                                                                                                                                                                                                                                                                                                                                                                                                                                                                                                                                                                                                                                                                                                                                                                                                                                                                                                                                                                                                                                                                                                                                                                                                                                                                                                                                                                                                                                                                                                                                                                                                                                                                                                                                                                                                                                                                                                                                                                                                                                                                                                                                                                                                                                                                                                                                                                                                                                                                                                                                                                                                                                                                                                                                                                                                                                                                                                                                                                                                                                                                           sentence_3  \\\n",
       "0  [[[The doctors, told, Dan 's parents], xWant, [ to talk to the parents,  to talk to their parents,  to go to the doctor,  to go to the hospital,  to find out what happened,  to tell them what happened,  to talk to the doctor,  to talk to the doctors,  to thank the doctor,  to talk to them,  to thank the doctors,  to tell their parents,  to talk to Dan,  to explain the situation,  to talk to parents,  to go home,  to tell their children,  to ask questions,  to help him,  to cry]], [[The doctors, told, Dan 's parents], isBefore, [ Dan 's parents go to the hospital,  Dan 's parents go to the doctor,  the parents go to the doctor's office,  the doctors tell the parents what they know,  the doctors tell the parents what they think,  the doctors tell the parents they are fine,  Dan's parents go to the hospital.,  the doctor tells the parents they are fine,  the doctor tells the parents what they think,  the doctor tells the parents what they know,  Dan 's parents go to the ER,  Dan's parents go to the hospital,  the parents go to the hospital,  the parents go to the doctor,  the doctors tell the parents what happened,  Dan's parents go to the doctor,  PersonX goes to the hospital.,  the doctor tells the parents what happened,  the doctors tell the parents the news,  the doctor tells the parents the news]], [[The doctors, told, Dan 's parents], xEffect, [ the doctors tell the parents,  has to make a decision,  the doctor tells the parents,  is told to go home,  the parents know the truth,  the parents are informed.,  The parents are informed.,  the parents know what happened,  the parents are informed,  the parents go to court,  the family is informed,  the parents are told,  The parents are informed,  the parents to know,  learns something new,  gets told off,  gets a bill,  learns something,  cries]], [[The doctors, told, Dan 's parents], xIntent, [ to inform the parents,  to tell them something,  the parents to know,  to tell the truth,  to inform their parents,  to tell the parents,  to tell someone something,  to inform them,  to tell their parents,  to be informed,  to be helpful,  to be honest,  to inform parents,  to help him,  to help them,  to help someone,  to inform someone,  to tell them,  to inform]], [[The doctors, told, Dan 's parents], isAfter, [ Dan 's parents go to the hospital,  Dan 's parents go to the doctor,  PersonX calls PersonX's parents.,  Dan 's parents went to the hospital,  Dan 's parents went to the doctor,  PersonY calls PersonY's parents.,  PersonX tells PersonX's parents.,  PersonX calls PersonY's parents.,  Dan 's parents go to the ER,  PersonX calls PersonX's parents,  PersonX goes to the hospital.,  PersonX goes to the doctor.,  PersonY calls PersonY's parents,  PersonX calls PersonY's parents,  the doctor tells the parents what happened,  PersonX tells PersonX what happened,  PersonX goes to the hospital,  PersonX goes to the doctor,  the doctors told the parents,  the doctors tell the parents]], [[The doctors, told, Dan 's parents], xNeed, [ to go to the doctor,  to know what is going on,  to go to the hospital,  to go to the doctor.,  to find out what is wrong,  to have a conversation with them,  find out what is going on,  to talk to the doctor,  to go to the hospital.,  to find out what's wrong,  to go to the doctors,  to go to the doctors office,  to find out what was wrong,  to talk to the doctors,  to talk to the doctor.,  to get a doctor's note,  to be in the hospital,  to talk to the parents,  to find out what happened,  to see the doctor]], [[The doctors, told, it was unhealthy], xWant, [ go to the doctor,  to see a doctor,  to stop eating it,  to give up smoking,  go to the hospital,  to eat healthy food,  to take a pill,  to eat healthy foods,  to get better,  to be healthy,  to take medicine,  to eat healthy,  to eat healthier,  to get healthy,  to eat less,  to go home,  to stop eating,  to give up,  eat less,  take medicine]], [[The doctors, told, it was unhealthy], isBefore, [ the patient goes to the doctor,  the person goes to the doctor,  the patient goes to the hospital,  the person goes to the hospital,  the doctor told them to stop,  the doctor gave them a prescription,  the doctor tells them to stop,  the doctor gives them a prescription,  the doctor told them not to,  the doctor told him to stop,  the food to be healthy,  the food to be unhealthy,  the food was not healthy,  the doctor gave them medicine,  the food to be eaten,  the food was not good,  go to the doctor,  the diet was changed,  the patient goes home,  the patient takes medicine]], [[The doctors, told, it was unhealthy], xEffect, [ has to take medicine,  have to take medicine,  get a checkup,  get a new job,  get a check up,  has to eat less,  has to take medication,  have to eat less,  the person gets sick,  the patient gets sick,  get a new diet,  the person eats less,  have to take medication,  the food is unhealthy,  has to eat more,  eat unhealthy food,  eat unhealthy foods,  lose weight,  eat less food,  get a prescription]], [[The doctors, told, it was unhealthy], xIntent, [ to be healthy,  not to eat,  to get healthy,  to eat less,  to stop eating,  to prevent disease,  to be healthier,  to stop smoking,  to eat healthy,  lose weight,  be healthy,  no effect,  eat less,  get better,  not eat,  the food,  health,  unhealthy,  medicine]], [[The doctors, told, it was unhealthy], isAfter, [ the food to be unhealthy,  the food to be healthy,  the food to be eaten,  the food was not healthy,  the food to be healthier,  go to the doctor,  the patient was given medicine,  the food was not good,  the person ate the food,  the food was unhealthy,  go to the hospital,  the food was bad,  the diet was changed,  the food is unhealthy,  the patient gets sick,  go to doctor,  go to hospital,  lose weight,  take medicine,  eat less]], [[The doctors, told, it was unhealthy], xNeed, [ go to the doctor,  go to the hospital,  to eat junk food,  go to the doctors,  to eat unhealthy food,  to eat something unhealthy,  to eat unhealthy foods,  to go to doctor,  go to doctor,  to have been sick,  to get sick,  go to hospital,  to be sick,  to take medicine,  eat too much,  eat unhealthy food,  get checked out,  find out why,  to eat unhealthy,  take medicine]], [[it, was, unhealthy], xWant, [ eat too much,  eat junk food,  eat a lot,  go to doctor,  eat unhealthy food,  eat bad food,  lose weight,  eat unhealthy foods,  eat bad foods,  to eat less,  go to gym,  have a drink,  throw up,  take medicine,  get healthy,  stop eating,  eat less,  feel better,  eat junk,  eat food]], [[it, was, unhealthy], isBefore, [ eat too much,  eat junk food,  lose weight,  bad for health,  it was unhealthy,  drink too much,  eat a lot,  eat unhealthy food,  eat unhealthy foods,  go to doctor,  bad for you,  go to gym,  feel sick,  throw up,  food poisoning,  unhealthy food,  exercise more,  fall asleep,  eat junk,  exercise]], [[it, was, unhealthy], xEffect, [ eat too much,  eat junk food,  lose weight,  eat a lot,  go to doctor,  eat bad food,  eat unhealthy food,  go to hospital,  eat unhealthy foods,  eat bad foods,  eat junk foods,  get sick from,  get sick,  get sicker,  lost weight,  throw up,  get fat,  feel sick,  stop eating,  become sick]], [[it, was, unhealthy], xIntent, [ eat junk food,  eat too much,  nothing to eat,  not to eat,  bad for health,  eat a lot,  eat unhealthy food,  eat bad food,  lose weight,  eat unhealthy foods,  it was unhealthy,  unhealthy food.,  unhealthy food,  bad for you,  not eat enough,  unhealthy foods,  get fat,  be healthy,  feel sick]], [[it, was, unhealthy], isAfter, [ eat too much,  eat junk food,  drink too much,  lose weight,  bad for health,  eat a lot,  it was unhealthy,  eat unhealthy food,  eat unhealthy foods,  go to gym,  food was unhealthy,  food poisoning,  unhealthy food,  feel sick,  get fat,  weight loss,  exercise more,  food,  exercise,  diet]], [[it, was, unhealthy], xNeed, [ eat too much,  eat junk food,  eat a lot,  eat fatty foods,  eat bad food,  go to gym,  eat unhealthy food,  eat unhealthy foods,  lose weight,  eat bad foods,  eat meat,  throw up,  get fat,  not eat,  eat food,  make food,  eat junk,  exercise,  eat]]]   \n",
       "\n",
       "                                                                                                                                                                                                                                                                                                                                                                                                                                                                                                                                                                                                                                                                                                                                                                                                                                                                                                                                                                                                                                                                                                                                                                                                                                                                                                                                                                                                                                                                                                                                                                                                                                                                                                                                                                                                                                                                                                                                                                                                                                                                                                                                                                                                                                                                                                                                                                                                                                                                                                                                                                                                                                                                                                                                                                                                                                                                                                                                                                                                                                                                                                                                                                                                                                                                                                                                                                                                                                                                                                                                                                                                                                                                                                                                                                                                                                                                                                                                                                                                                                                                                                                                                                                                                                                                                                                                                                                                                                                                                                                                                                                                                                                                                                                                                                                                                                                                                                                                                                                                                                                                                                                                                                                                                                                                                                                                                                                                                                                                                                                                                                                                                                                                                                                                                                                                                                                                                                                                                                                                                                                                                                                                                                                                                                                                                                                                                                                                                                                                                                                                                                                                                                                                                                                                                                                                                                                                                                                                                                                                                                                                                       sentence_4  \\\n",
       "0  [[[Dan 's parents, decided, to make a change], xWant, [ to start a new life,  to get a new job,  to have a better life,  to find a new job,  to make a change themselves,  to see how it goes,  to make a good impression,  to see how they do,  to see what they think,  to start a new business,  to make a new life,  to go back to work,  to have a new life,  to try something new,  to go back to school,  to make a change,  to go to the gym,  to enjoy the change,  to go on vacation,  to make a plan]], [[Dan 's parents, decided, to make a change], isBefore, [ Dan and his parents move to a new city,  Dan and his parents move to a new house,  Dan and his parents move to a new town,  Dan and his parents move to a new home,  Dan and his parents get a new job,  Dan and his parents go to a new restaurant,  Dan 's parents get a new job,  Dan and his parents go to a new school,  Dan and his parents move to a new place,  Dan and his parents move to a new apartment,  Dan gets a new job at a new company,  Dan and his parents move to a new state,  Dan and his parents move to a new area,  Dan and his parents get a new job.,  Dan and his parents go to the new school,  Dan 's parents get a new job.,  Dan and his parents move to a new location,  Dan's parents decide to make a change,  Dan and his parents move to a new neighborhood,  Dan and his parents go to the new restaurant]], [[Dan 's parents, decided, to make a change], xEffect, [ gets a new job,  to make a change,  get a new job,  has a better life,  gets a new car,  has a new job,  makes a new decision,  makes a new friend,  has a new life,  has a new hobby,  get a new car,  has a new lifestyle,  gets a raise,  gets a promotion,  learns new skills,  has less money,  makes a change,  gets new job,  learns new things,  has less stress]], [[Dan 's parents, decided, to make a change], xIntent, [ to make a change,  to try something new,  to do something different,  to change their lifestyle,  to do something new,  to be in control,  to change their life,  to have a change,  to be more independent,  to make a difference,  to be happy,  to be healthier,  to be different,  to save money,  to be healthy,  to be independent,  make a change,  to be successful,  to feel better,  to be better]], [[Dan 's parents, decided, to make a change], isAfter, [ Dan 's parents decide to make a change,  Dan 's parents decided to make a change,  Dan 's parents get a new job,  Dan 's parents go to a new school,  Dan 's parents go to a new restaurant,  Dan 's parents go to a new job,  Dan 's parents decided to change their lifestyle,  Dan 's parents make a decision to change,  Dan 's parents decided to change their life,  Dan 's parents decide to change their life,  Dan 's parents decide to change their lifestyle,  Dan and his parents get a new job,  PersonX moves to a new city.,  Dan 's parents get a new car,  Dan 's parents go to the gym,  PersonX moves to a new town.,  PersonX gets a new job.,  PersonX moves to a new city,  PersonX moves to a new town,  PersonX moves to a new state]], [[Dan 's parents, decided, to make a change], xNeed, [ to talk to their parents,  to talk to his parents,  to listen to their parents,  to talk to the parents,  to talk with their parents,  to know what they want,  to talk to them,  to go to the meeting,  to go to the store,  to make a decision,  to talk to their parent,  to make a plan,  to talk to parents,  to make a change,  to think about it,  to understand the situation,  to tell their parents,  to have a change,  make a plan,  make a decision]], [[Dan 's parents, make, a change], xWant, [ to start a new life,  to get a new job,  to see how it goes,  to see how they do,  to make a change themselves,  to have a better life,  to see what they think,  to see if it works,  to see if it helps,  to make a new life,  to see how they did,  to try something new,  to see what they do,  to make a change,  to see how it works,  to see the results,  to have a change,  to be happy,  to be successful,  to help them]], [[Dan 's parents, make, a change], isBefore, [ Dan 's parents get a new job,  Dan and his parents get a new job,  Dan 's parents make a change,  Dan 's parents make a new change,  Dan's parents get a new job,  Dan 's parents make a change too,  Dan and his parents go on a date,  Dan 's parents make a new life,  Dan's parents make a new life plan,  Dan 's parents get a new car,  Dan 's parents have a new life,  Dan's parents make a change for him,  Dan and his parents make a new plan,  Dan 's parents make a new home,  Dan and his parents have a new life,  Dan 's parents go to the gym,  Dan and his parents make a new life,  Dan 's parents make the change,  Dan and his parents make a change,  Dan gets a new job]], [[Dan 's parents, make, a change], xEffect, [ learns a new skill,  gets a new job,  to make a change,  get a new job,  has a better life,  gets a new car,  has a new life,  makes a new decision,  has a new lifestyle,  has a new look,  makes a new plan,  gets a new look,  gets a raise,  gets a promotion,  makes a change,  learns new skills,  learns new things,  has less money,  gets new job,  has less stress]], [[Dan 's parents, make, a change], xIntent, [ to make a change,  to try something new,  to help their son,  to be in control,  to have a change,  to change their lifestyle,  to change their life,  to help their child,  to make a difference,  to be more responsible,  to be in charge,  to be happy,  to be successful,  to be different,  make a change,  to feel better,  to be better,  to be responsible,  to be healthy,  to help them]], [[Dan 's parents, make, a change], isAfter, [ Dan 's parents decide to make a change,  Dan 's parents want to make a change,  Dan 's parents decide to try something new,  Dan 's parents have to make a change,  Dan 's parents get a new job,  Dan asks his parents to make a change,  Dan 's parents make a change for him,  Dan 's parents make a decision to change,  Dan 's parents talk to Dan's parents,  Dan 's parents go to a new restaurant,  Dan 's parents have to make a decision,  Dan 's parents make a change,  Dan 's parents get a new car,  Dan 's parents go to the gym,  Dan 's parents go to the doctor,  Dan 's parents make a decision,  Dan 's parents ask for advice,  Dan 's parents talk to Dan,  Dan gets a new job,  Dan goes to a new school]], [[Dan 's parents, make, a change], xNeed, [ to talk to their parents,  to listen to their parents,  to talk to his parents,  to talk to the parents,  to ask for a change,  to know what they want,  to make a change,  to talk to them,  to make a decision,  to make a plan,  to talk to parents,  to convince their parents,  to ask for help,  to tell their parents,  to have a change,  to understand the situation,  to want to change,  talk to parents,  to convince them]]]   \n",
       "\n",
       "                                                                                                                                                                                                                                                                                                                                                                                                                                                                                                                                                                                                                                                                                                                                                                                                                                                                                                                                                                                                                                                                                                                                                                                                                                                                                                                                                                                                                                                                                                                                                                                                                                                                                                                                                                                                                                                                                                                                                                                                                                                                                                                                                                                                                                                                                                                                                                                                                                                                                                                                                                                                                                                                                                                                                                                                                                                                                                                                                                                                                                                                                                                                                                                                                                                                                                                                                   sentence_5  \n",
       "0  [[[Dan 's parents, got, Dan 's parents and Dan], xIntent, [ to spend time with them,  to be with their parents,  to be a good parent,  to have a good time,  to take care of them,  to be with their family,  to spend time with family,  to be with his parents,  to be a good friend,  to spend time with him,  to be close to them,  to spend time together,  to be with them,  to show their love,  to be with family,  to have a family,  to talk to them,  to be helpful,  to be nice,  to be together]], [[Dan 's parents, got, Dan 's parents and Dan], isAfter, [ PersonX asks PersonX to marry them.,  PersonX asks PersonY to marry them.,  PersonX calls PersonX's parents.,  PersonX wants to go to the movies.,  Dan and his parents go to the movie theater,  PersonX calls PersonY's parents.,  PersonX asks PersonX to marry them,  Dan and his parents go to the movies,  PersonX calls PersonX's parents,  PersonX asks PersonY to marry them,  Dan 's parents go to the party,  Dan 's parents went to the store,  Dan and his parents go to the movie,  Dan 's parents go to the store,  PersonX wants to go to the movies,  Dan 's parents go to the movies,  PersonX calls PersonY's parents,  Dan wants to go to the movies,  PersonX calls PersonX,  PersonX calls PersonY]], [[Dan 's parents, got, Dan 's parents and Dan], xNeed, [ to talk to their parents,  to go to the store,  to talk to the parents,  to talk to his parents,  to call their parents,  to go to their house,  to ask for a ride,  to know where they are,  to go to the mall,  to go to the party,  to talk to them,  to drive to the house,  to go to their parents,  to go to the restaurant,  to call his parents,  to call the parents,  to get their parents,  to ask for help,  to make a plan,  to get the parents]], [[Dan 's parents, got, on a diet], xIntent, [ to lose weight,  to be healthy,  to be healthier,  to eat healthier,  to look better,  to eat healthy,  to look good,  to eat less,  to feel better,  to stay healthy,  to get healthier,  to get healthy,  to be fit,  to eat better,  to become healthier,  eat healthy,  to exercise,  eat less,  eat healthier]], [[Dan 's parents, got, on a diet], isAfter, [ Dan 's parents go on a diet,  Dan goes to the gym with his parents,  Dan 's parents go to the gym,  Dan 's parents went on a diet,  Dan 's parents are on a diet,  Dan 's parents went to the gym,  PersonX eats a lot of junk food,  PersonY eats a lot of junk food,  PersonX wants to lose weight.,  Dan 's parents go to a gym,  PersonX goes on a diet too.,  PersonX eats a lot of sweets.,  PersonX eats a lot of food.,  PersonX goes on a diet.,  PersonX goes to the gym.,  Dan 's parents lose weight,  PersonX wants to lose weight,  PersonX eats a lot of sweets,  PersonX eats a lot of food,  PersonX goes on a diet too]], [[Dan 's parents, got, on a diet], xNeed, [ to go to the gym,  to make a diet plan,  to talk to their parents,  to talk to his parents,  to go to the doctor,  to have a diet plan,  to go to a gym,  to join a diet group,  to know how to diet,  to know what they like,  to join a diet club,  to join a gym,  go to the gym,  to buy healthy food,  to make a plan,  to talk to them,  to buy a scale,  to buy food,  to eat less,  to encourage them]]]  "
      ]
     },
     "execution_count": 17,
     "metadata": {},
     "output_type": "execute_result"
    }
   ],
   "source": [
    "res"
   ]
  },
  {
   "cell_type": "code",
   "execution_count": 18,
   "id": "32c57a58",
   "metadata": {},
   "outputs": [],
   "source": [
    "def forward_filter(triple):\n",
    "    return triple[1] in forward_rels"
   ]
  },
  {
   "cell_type": "code",
   "execution_count": 19,
   "id": "b5ab4632",
   "metadata": {},
   "outputs": [],
   "source": [
    "def backward_filter(triple):\n",
    "    return triple[1] in backward_rels"
   ]
  },
  {
   "cell_type": "code",
   "execution_count": 20,
   "id": "5b48f98e",
   "metadata": {},
   "outputs": [],
   "source": [
    "def get_forward_triples(triples, index):\n",
    "    forward_events = []\n",
    "    for triple in triples:\n",
    "        if triple[1] == forward_rels[index]:\n",
    "            forward_events.append(triple)\n",
    "    return forward_events"
   ]
  },
  {
   "cell_type": "code",
   "execution_count": 21,
   "id": "7e8f8832",
   "metadata": {},
   "outputs": [],
   "source": [
    "def get_backward_events(triples, index):\n",
    "    backward_events = []\n",
    "    for triple in triples:\n",
    "        if triple[1] == backward_rels[index]:\n",
    "            backward_events += triple[2]\n",
    "    return [a.strip() for a in backward_events]"
   ]
  },
  {
   "cell_type": "code",
   "execution_count": 22,
   "id": "ba9fb416",
   "metadata": {},
   "outputs": [
    {
     "name": "stderr",
     "output_type": "stream",
     "text": [
      "1it [00:00, 313.29it/s]"
     ]
    },
    {
     "name": "stdout",
     "output_type": "stream",
     "text": [
      "row 0\n",
      "row 0, sentence 1\n",
      "row 0, sentence 1, relation xWant\n",
      "[[\"Dan 's parents\", 'were', 'overweight'], 'xWant', ['to eat less', 'to lose weight', 'to eat healthy', 'to eat healthier', 'to gain weight', 'to be healthy', 'to be healthier', 'to eat more', 'to get healthy', 'to exercise', 'eat less']]\n",
      "row 0, sentence 1, relation isBefore\n",
      "[[\"Dan 's parents\", 'were', 'overweight'], 'isBefore', [\"Dan 's parents go on a diet\", 'Dan goes to the gym with his parents', \"Dan 's parents went on a diet\", \"Dan 's parents go to the gym\", 'PersonX eats a lot of food.', 'PersonX eats a lot of junk food', \"Dan 's parents go to the doctor\", \"Dan 's parents went to the doctor\", \"Dan 's parents went to the gym\", 'PersonX eats a lot of food', \"Dan 's parents lose weight\", 'Dan goes to the gym', 'Dan gets a new job']]\n",
      "row 0, sentence 1, relation xEffect\n",
      "[[\"Dan 's parents\", 'were', 'overweight'], 'xEffect', ['eat too much']]\n",
      "row 0, sentence 2\n",
      "row 0, sentence 2, relation xWant\n",
      "[['Dan', 'was', 'overweight'], 'xWant', ['to lose weight', 'to eat less', 'eat too much', 'eat a lot', 'to eat healthy', 'to eat healthier']]\n",
      "[['Dan', 'was', 'as well'], 'xWant', ['to have a good time', 'to spend time with him', 'to be a good friend', 'to spend time with them']]\n",
      "row 0, sentence 2, relation isBefore\n",
      "[['Dan', 'was', 'overweight'], 'isBefore', []]\n",
      "[['Dan', 'was', 'as well'], 'isBefore', ['Dan gets a new job']]\n",
      "row 0, sentence 2, relation xEffect\n",
      "[['Dan', 'was', 'overweight'], 'xEffect', ['eat too much']]\n",
      "[['Dan', 'was', 'as well'], 'xEffect', []]\n",
      "row 0, sentence 3\n",
      "row 0, sentence 3, relation xWant\n",
      "[['The doctors', 'told', \"Dan 's parents\"], 'xWant', ['to talk to them']]\n",
      "[['The doctors', 'told', 'it was unhealthy'], 'xWant', ['to be healthy', 'to eat healthy', 'to eat healthier', 'to get healthy', 'to eat less', 'eat less']]\n",
      "[['it', 'was', 'unhealthy'], 'xWant', ['to eat less', 'eat less']]\n",
      "row 0, sentence 3, relation isBefore\n",
      "[['The doctors', 'told', \"Dan 's parents\"], 'isBefore', [\"Dan 's parents go to the doctor\"]]\n",
      "[['The doctors', 'told', 'it was unhealthy'], 'isBefore', []]\n",
      "[['it', 'was', 'unhealthy'], 'isBefore', []]\n",
      "row 0, sentence 3, relation xEffect\n",
      "[['The doctors', 'told', \"Dan 's parents\"], 'xEffect', []]\n",
      "[['The doctors', 'told', 'it was unhealthy'], 'xEffect', []]\n",
      "[['it', 'was', 'unhealthy'], 'xEffect', []]\n",
      "row 0, sentence 4\n",
      "row 0, sentence 4, relation xWant\n",
      "[[\"Dan 's parents\", 'decided', 'to make a change'], 'xWant', []]\n",
      "[[\"Dan 's parents\", 'make', 'a change'], 'xWant', []]\n",
      "row 0, sentence 4, relation isBefore\n",
      "[[\"Dan 's parents\", 'decided', 'to make a change'], 'isBefore', []]\n",
      "[[\"Dan 's parents\", 'make', 'a change'], 'isBefore', [\"Dan 's parents go to the gym\"]]\n",
      "row 0, sentence 4, relation xEffect\n",
      "[[\"Dan 's parents\", 'decided', 'to make a change'], 'xEffect', []]\n",
      "[[\"Dan 's parents\", 'make', 'a change'], 'xEffect', []]\n"
     ]
    },
    {
     "name": "stderr",
     "output_type": "stream",
     "text": [
      "\n"
     ]
    }
   ],
   "source": [
    "n_rels = len(forward_rels)\n",
    "for idx, row in tqdm(res.iterrows()):\n",
    "    print(f'row {idx}')\n",
    "    for f in range(1,5):\n",
    "        print(f'row {idx}, sentence {f}')\n",
    "        triples_f = row[f'sentence_{f}']\n",
    "        forward_events = list(filter(forward_filter, triples_f))\n",
    "        backward_events = []\n",
    "        for b in range(f+1,6):\n",
    "            triples_b = row[f'sentence_{b}']\n",
    "            backward_events += list(filter(backward_filter, triples_b))\n",
    "        pruned_triples_f = []\n",
    "#         print(backward_events)\n",
    "        for rel in range(n_rels):\n",
    "            print(f'row {idx}, sentence {f}, relation {forward_rels[rel]}')\n",
    "            ft = get_forward_triples(forward_events, rel)\n",
    "#             print(ft)\n",
    "            be = get_backward_events(backward_events, rel)\n",
    "#             print(be)\n",
    "            new_ft = []\n",
    "            for triple in ft:\n",
    "#                 print(triple)\n",
    "#                 print(triple)\n",
    "#                 print(type(triple[2]))\n",
    "                triple_copy = [a for a in triple]\n",
    "                triple_copy[2] = [event.strip() for event in triple[2] if event.strip() in be]\n",
    "                print(triple_copy)\n",
    "                if triple_copy[2]:\n",
    "                    new_ft.append(triple_copy)\n",
    "#             print(new_ft)\n",
    "            pruned_triples_f += ft"
   ]
  },
  {
   "cell_type": "code",
   "execution_count": null,
   "id": "cc9308a9",
   "metadata": {},
   "outputs": [],
   "source": []
  }
 ],
 "metadata": {
  "kernelspec": {
   "display_name": "Python 3",
   "language": "python",
   "name": "python3"
  },
  "language_info": {
   "codemirror_mode": {
    "name": "ipython",
    "version": 3
   },
   "file_extension": ".py",
   "mimetype": "text/x-python",
   "name": "python",
   "nbconvert_exporter": "python",
   "pygments_lexer": "ipython3",
   "version": "3.6.13"
  }
 },
 "nbformat": 4,
 "nbformat_minor": 5
}
