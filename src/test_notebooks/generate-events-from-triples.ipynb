{
 "cells": [
  {
   "cell_type": "code",
   "execution_count": 29,
   "id": "bdb97ddb",
   "metadata": {},
   "outputs": [
    {
     "name": "stdout",
     "output_type": "stream",
     "text": [
      "model loading ...\n",
      "model loaded\n"
     ]
    }
   ],
   "source": [
    "import sys\n",
    "\n",
    "sys.path.insert(0,'..')\n",
    "\n",
    "from utils.comet_class import Comet\n",
    "import pandas as pd\n",
    "import ast\n",
    "pd.set_option('display.max_colwidth', None)\n",
    "pd.set_option('display.max_rows', None)\n",
    "pd.set_option('display.max_columns', None)\n",
    "pd.options.mode.chained_assignment = None\n",
    "\n",
    "\n",
    "print(\"model loading ...\")\n",
    "comet = Comet('../../lib/comet-atomic-2020/models/comet_atomic2020_bart/comet-atomic_2020_BART')\n",
    "comet.model.zero_grad()\n",
    "print(\"model loaded\")\n"
   ]
  },
  {
   "cell_type": "code",
   "execution_count": 30,
   "id": "83dcb49b",
   "metadata": {},
   "outputs": [
    {
     "name": "stdout",
     "output_type": "stream",
     "text": [
      "['PersonX went to the Hospital xWant ']\n",
      "[[' to go home', ' to be treated at the hospital', ' to get a bandaid on their wound.', ' to be treated for their ailment', ' to be taken to the hospital by a doctor.', ' to get better', ' to be taken to the hospital by a doctor.', ' to get a good report from the doctor.', ' to be taken to the hospital by a doctor.', ' to get checked out by the doctor']]\n"
     ]
    }
   ],
   "source": [
    "queries = []\n",
    "head = \"PersonX went to the Hospital\"\n",
    "rel = \"xWant\"\n",
    "query = \"{} {} \".format(head, rel)\n",
    "queries.append(query)\n",
    "print(queries)\n",
    "results = comet.generate(queries, decode_method=\"top_k\", num_generate=10)\n",
    "print(results)"
   ]
  },
  {
   "cell_type": "code",
   "execution_count": 31,
   "id": "022a358c",
   "metadata": {},
   "outputs": [],
   "source": [
    "roc_stories_triples_csv = '../../generated/knowledge-triple-extraction/ROCStories_resolved_with_knowledge_triples.csv'\n",
    "roc_stories_triples_df = pd.read_csv(roc_stories_triples_csv, sep='\\t', header=0)"
   ]
  },
  {
   "cell_type": "code",
   "execution_count": 32,
   "id": "e922d9b7",
   "metadata": {},
   "outputs": [],
   "source": [
    "roc_stories_triples_df = roc_stories_triples_df.iloc[:1]"
   ]
  },
  {
   "cell_type": "code",
   "execution_count": 33,
   "id": "79fd2109",
   "metadata": {},
   "outputs": [],
   "source": [
    "del roc_stories_triples_df['Unnamed: 0']\n",
    "del roc_stories_triples_df['Unnamed: 0.1']\n",
    "del roc_stories_triples_df['Unnamed: 0.1.1']\n",
    "del roc_stories_triples_df['Unnamed: 0.1.1.1']"
   ]
  },
  {
   "cell_type": "code",
   "execution_count": 34,
   "id": "00bcd5ed",
   "metadata": {},
   "outputs": [],
   "source": [
    "del roc_stories_triples_df['srl_r1']"
   ]
  },
  {
   "cell_type": "code",
   "execution_count": 8,
   "id": "eacf56d9",
   "metadata": {},
   "outputs": [],
   "source": [
    "from itertools import chain\n",
    "import multiprocessing as mp\n",
    "from tqdm import tqdm"
   ]
  },
  {
   "cell_type": "code",
   "execution_count": 9,
   "id": "4c4b1488",
   "metadata": {},
   "outputs": [],
   "source": [
    "forward_rels = [\"xWant\", \"isBefore\", \"xEffect\"]\n",
    "backward_rels = [\"xIntent\", \"isAfter\", \"xNeed\"]"
   ]
  },
  {
   "cell_type": "code",
   "execution_count": 10,
   "id": "26130009",
   "metadata": {
    "scrolled": false
   },
   "outputs": [
    {
     "name": "stdout",
     "output_type": "stream",
     "text": [
      "n = 1\n"
     ]
    },
    {
     "name": "stderr",
     "output_type": "stream",
     "text": [
      "1it [00:00, 2110.87it/s]"
     ]
    },
    {
     "name": "stdout",
     "output_type": "stream",
     "text": [
      "Genrating events...\n"
     ]
    },
    {
     "name": "stderr",
     "output_type": "stream",
     "text": [
      "\n"
     ]
    },
    {
     "name": "stdout",
     "output_type": "stream",
     "text": [
      "3\n",
      "3\n",
      "n = 2\n"
     ]
    },
    {
     "name": "stderr",
     "output_type": "stream",
     "text": [
      "1it [00:00, 2407.75it/s]"
     ]
    },
    {
     "name": "stdout",
     "output_type": "stream",
     "text": [
      "Genrating events...\n"
     ]
    },
    {
     "name": "stderr",
     "output_type": "stream",
     "text": [
      "\n"
     ]
    },
    {
     "name": "stdout",
     "output_type": "stream",
     "text": [
      "12\n",
      "15\n",
      "n = 3\n"
     ]
    },
    {
     "name": "stderr",
     "output_type": "stream",
     "text": [
      "1it [00:00, 1972.86it/s]"
     ]
    },
    {
     "name": "stdout",
     "output_type": "stream",
     "text": [
      "Genrating events...\n"
     ]
    },
    {
     "name": "stderr",
     "output_type": "stream",
     "text": [
      "\n"
     ]
    },
    {
     "name": "stdout",
     "output_type": "stream",
     "text": [
      "18\n",
      "33\n",
      "n = 4\n"
     ]
    },
    {
     "name": "stderr",
     "output_type": "stream",
     "text": [
      "1it [00:00, 1026.76it/s]"
     ]
    },
    {
     "name": "stdout",
     "output_type": "stream",
     "text": [
      "Genrating events...\n"
     ]
    },
    {
     "name": "stderr",
     "output_type": "stream",
     "text": [
      "\n"
     ]
    },
    {
     "name": "stdout",
     "output_type": "stream",
     "text": [
      "12\n",
      "45\n",
      "n = 5\n"
     ]
    },
    {
     "name": "stderr",
     "output_type": "stream",
     "text": [
      "1it [00:00, 914.19it/s]"
     ]
    },
    {
     "name": "stdout",
     "output_type": "stream",
     "text": [
      "Genrating events...\n"
     ]
    },
    {
     "name": "stderr",
     "output_type": "stream",
     "text": [
      "\n"
     ]
    },
    {
     "name": "stdout",
     "output_type": "stream",
     "text": [
      "6\n",
      "51\n",
      "CPU times: user 40.9 s, sys: 5.38 s, total: 46.2 s\n",
      "Wall time: 36.6 s\n"
     ]
    }
   ],
   "source": [
    "%%time\n",
    "result_df = pd.DataFrame()\n",
    "story_ids = []\n",
    "sentence_ids = []\n",
    "results_final = []\n",
    "for n in range(1,6):\n",
    "    print(f\"n = {n}\")\n",
    "    tmp_df = pd.DataFrame()\n",
    "    new_events_rows = []\n",
    "    queries = []\n",
    "    relations = []\n",
    "    triples_res = []\n",
    "\n",
    "    for index, row in tqdm(roc_stories_triples_df.iterrows()):\n",
    "        story_id = row['storyid']\n",
    "        sentence_id = f'sentence_{n}'\n",
    "        triples = ast.literal_eval(row[f'triples{n}']) \n",
    "        for idx, triple in enumerate(triples):\n",
    "            comet_head = ' '.join(triple)\n",
    "#             print(comet_head)\n",
    "            if n < 5:\n",
    "                for rel in forward_rels:\n",
    "                    query = \"{} {} \".format(comet_head, rel)\n",
    "                    queries.append(query)\n",
    "                    relations.append(rel)\n",
    "                    triples_res.append(triple)\n",
    "                    # for pivot\n",
    "                    story_ids.append(story_id)\n",
    "                    sentence_ids.append(sentence_id)\n",
    "            if n > 1:\n",
    "                for rel in backward_rels:\n",
    "                    query = \"{} {} \".format(comet_head, rel)\n",
    "                    queries.append(query)\n",
    "                    relations.append(rel)\n",
    "                    triples_res.append(triple)\n",
    "                    # for pivot\n",
    "                    story_ids.append(story_id)\n",
    "                    sentence_ids.append(sentence_id)\n",
    "    \n",
    "    print('Genrating events...')\n",
    "    results = comet.generate(queries, decode_method=\"beam\", num_generate=10)\n",
    "    results = [list(filter(lambda x: x.strip() != 'none', r)) for r in results]\n",
    "    new_events = [list(a) for a in zip(triples_res,relations, results)]\n",
    "    \n",
    "    print(len(new_events))\n",
    "    results_final += new_events\n",
    "\n",
    "    print(len(results_final))\n",
    "    \n",
    "result_df['storyid'] = story_ids\n",
    "result_df['sentence_id'] = sentence_ids\n",
    "result_df[f'new_events'] = results_final\n",
    "    \n",
    "#     result_df.to_csv()"
   ]
  },
  {
   "cell_type": "code",
   "execution_count": 11,
   "id": "8e453b4b",
   "metadata": {
    "scrolled": false
   },
   "outputs": [],
   "source": [
    "# result_df"
   ]
  },
  {
   "cell_type": "code",
   "execution_count": 12,
   "id": "f7804a7d",
   "metadata": {},
   "outputs": [],
   "source": [
    "tmp = result_df.groupby(['storyid', 'sentence_id']).new_events.apply(list).to_frame().reset_index()"
   ]
  },
  {
   "cell_type": "code",
   "execution_count": 13,
   "id": "876135a0",
   "metadata": {},
   "outputs": [],
   "source": [
    "res = tmp.pivot(index='storyid', columns='sentence_id', values='new_events').reset_index()"
   ]
  },
  {
   "cell_type": "code",
   "execution_count": 14,
   "id": "e982bcf4",
   "metadata": {},
   "outputs": [],
   "source": [
    "res.columns.name = None"
   ]
  },
  {
   "cell_type": "code",
   "execution_count": 35,
   "id": "124095b6",
   "metadata": {},
   "outputs": [
    {
     "data": {
      "text/html": [
       "<div>\n",
       "<style scoped>\n",
       "    .dataframe tbody tr th:only-of-type {\n",
       "        vertical-align: middle;\n",
       "    }\n",
       "\n",
       "    .dataframe tbody tr th {\n",
       "        vertical-align: top;\n",
       "    }\n",
       "\n",
       "    .dataframe thead th {\n",
       "        text-align: right;\n",
       "    }\n",
       "</style>\n",
       "<table border=\"1\" class=\"dataframe\">\n",
       "  <thead>\n",
       "    <tr style=\"text-align: right;\">\n",
       "      <th></th>\n",
       "      <th>storyid</th>\n",
       "      <th>sentence_1</th>\n",
       "      <th>sentence_2</th>\n",
       "      <th>sentence_3</th>\n",
       "      <th>sentence_4</th>\n",
       "      <th>sentence_5</th>\n",
       "      <th>pruned_comet1</th>\n",
       "      <th>pruned_comet2</th>\n",
       "      <th>pruned_comet3</th>\n",
       "      <th>pruned_comet4</th>\n",
       "    </tr>\n",
       "  </thead>\n",
       "  <tbody>\n",
       "  </tbody>\n",
       "</table>\n",
       "</div>"
      ],
      "text/plain": [
       "Empty DataFrame\n",
       "Columns: [storyid, sentence_1, sentence_2, sentence_3, sentence_4, sentence_5, pruned_comet1, pruned_comet2, pruned_comet3, pruned_comet4]\n",
       "Index: []"
      ]
     },
     "execution_count": 35,
     "metadata": {},
     "output_type": "execute_result"
    }
   ],
   "source": [
    "res[res['storyid']=='000d05af-5db1-4d9d-b4e2-6c01b108b0b1']"
   ]
  },
  {
   "cell_type": "code",
   "execution_count": 16,
   "id": "32c57a58",
   "metadata": {},
   "outputs": [],
   "source": [
    "def forward_filter(triple):\n",
    "    return triple[1] in forward_rels"
   ]
  },
  {
   "cell_type": "code",
   "execution_count": 17,
   "id": "b5ab4632",
   "metadata": {},
   "outputs": [],
   "source": [
    "def backward_filter(triple):\n",
    "    return triple[1] in backward_rels"
   ]
  },
  {
   "cell_type": "code",
   "execution_count": 18,
   "id": "5b48f98e",
   "metadata": {},
   "outputs": [],
   "source": [
    "def get_forward_triples(triples, index):\n",
    "    forward_events = []\n",
    "    for triple in triples:\n",
    "        if triple[1] == forward_rels[index]:\n",
    "            forward_events.append(triple)\n",
    "    return forward_events"
   ]
  },
  {
   "cell_type": "code",
   "execution_count": 19,
   "id": "7e8f8832",
   "metadata": {},
   "outputs": [],
   "source": [
    "def get_backward_events(triples, index):\n",
    "    backward_events = []\n",
    "    for triple in triples:\n",
    "        if triple[1] == backward_rels[index]:\n",
    "            backward_events += triple[2]\n",
    "    return [a.strip() for a in backward_events]"
   ]
  },
  {
   "cell_type": "code",
   "execution_count": 25,
   "id": "a5f79012",
   "metadata": {},
   "outputs": [],
   "source": [
    "pruned_triples = [[] for _ in range(4)]"
   ]
  },
  {
   "cell_type": "code",
   "execution_count": 28,
   "id": "ba9fb416",
   "metadata": {},
   "outputs": [
    {
     "name": "stderr",
     "output_type": "stream",
     "text": [
      "1it [00:00, 392.61it/s]"
     ]
    },
    {
     "name": "stdout",
     "output_type": "stream",
     "text": [
      "row 0\n",
      "row 0, sentence 1\n",
      "row 0, sentence 1, relation xWant\n",
      "[[\"Dan 's parents\", 'were', 'overweight'], 'xWant', ['to eat less', 'to lose weight', 'to eat healthy', 'to eat healthier', 'to eat more']]\n",
      "row 0, sentence 1, relation isBefore\n",
      "[[\"Dan 's parents\", 'were', 'overweight'], 'isBefore', [\"Dan 's parents go on a diet\", \"Dan 's parents go to the gym\", 'PersonX eats a lot of junk food', 'PersonX eats a lot of food', \"Dan 's parents lose weight\"]]\n",
      "row 0, sentence 1, relation xEffect\n",
      "[[\"Dan 's parents\", 'were', 'overweight'], 'xEffect', []]\n",
      "[[[[\"Dan 's parents\", 'were', 'overweight'], 'xWant', [' to buy new clothes', ' to eat less', ' to lose weight', ' to eat healthy', ' to eat less food', ' to eat healthier', ' to eat healthy food', ' to eat less.', ' to lose weight.', ' to eat more']], [[\"Dan 's parents\", 'were', 'overweight'], 'isBefore', [' PersonX eats a lot of junk food.', \" Dan's parents go to the gym every day\", \" Dan 's parents go on a diet\", \" Dan 's parents go to the gym everyday\", \" Dan 's parents go to the gym\", ' PersonX eats a lot of food.', ' PersonX eats a lot of junk food', \" Dan's parents go to the gym\", ' PersonX eats a lot of food', \" Dan 's parents lose weight\"]], [[\"Dan 's parents\", 'were', 'overweight'], 'xEffect', [' has to buy new clothes', ' is told to lose weight', ' is told to eat less', \" Dan's parents are overweight\", \" Dan's parents are obese\", ' is told to eat more', \" Dan's parents were overweight\", ' has to eat less', ' has to lose weight', ' gets teased by parents']]], [[[\"Dan 's parents\", 'were', 'overweight'], 'xWant', ['to eat less', 'to lose weight', 'to eat healthy', 'to eat healthier', 'to eat more']], [[\"Dan 's parents\", 'were', 'overweight'], 'isBefore', [\"Dan 's parents go on a diet\", \"Dan 's parents go to the gym\", 'PersonX eats a lot of junk food', 'PersonX eats a lot of food', \"Dan 's parents lose weight\"]]]]\n",
      "row 0, sentence 2\n",
      "row 0, sentence 2, relation xWant\n",
      "[['Dan', 'was', 'overweight'], 'xWant', ['to lose weight', 'to eat less', 'to eat healthy', 'to eat healthier', 'lose weight']]\n",
      "[['Dan', 'was', 'as well'], 'xWant', ['to have fun']]\n",
      "row 0, sentence 2, relation isBefore\n",
      "[['Dan', 'was', 'overweight'], 'isBefore', []]\n",
      "[['Dan', 'was', 'as well'], 'isBefore', ['Dan gets a new job']]\n",
      "row 0, sentence 2, relation xEffect\n",
      "[['Dan', 'was', 'overweight'], 'xEffect', ['eat too much']]\n",
      "[['Dan', 'was', 'as well'], 'xEffect', []]\n",
      "[[[['Dan', 'was', 'overweight'], 'xWant', [' to lose weight', ' to eat less', ' to exercise more', ' to eat healthy', ' to eat healthier', ' to get healthy', ' to eat more', ' lose weight', ' eat less', ' to exercise']], [['Dan', 'was', 'as well'], 'xWant', [' to go to bed', ' to go to sleep', ' to take a nap', ' to talk to Dan', ' to take a shower', ' to talk to someone', ' to have fun', ' to go home', ' to get married', ' to go out']], [['Dan', 'was', 'overweight'], 'isBefore', [' Dan goes to the gym every day', ' Dan went to the gym every day', ' Dan had to go to the gym', ' Dan had to go to the doctor', ' Dan goes to the gym everyday', ' Dan goes to the gym', ' Dan went to the gym', ' Dan went to the doctor', ' Dan goes to a gym', ' Dan had to lose weight']], [['Dan', 'was', 'as well'], 'isBefore', [' Dan goes to the movies with Dan', ' Dan went to the movies with Dan', \" Dan and Dan's wife get married\", ' Dan gets a new job', ' Dan goes to the doctor', ' Dan goes to the hospital', ' Dan went to the doctor', ' Dan goes to the movies', ' Dan gets the job', ' Dan goes to work']], [['Dan', 'was', 'overweight'], 'xEffect', [' has to lose weight', ' get a gym membership', ' get a new job', ' eats too much food', ' eats too much', ' eat too much food', ' has to exercise more', ' has to eat less', ' eat too much', ' eat too much.']], [['Dan', 'was', 'as well'], 'xEffect', [' gets yelled at by other people', ' gets yelled at for being rude', ' gets yelled at for being late', ' Dan gets a new job.', ' gets yelled at by his friends', ' Dan is in a coma.', ' Dan is a good person.', ' Dan is in the hospital.', ' gets yelled at by other person', ' gets yelled at by others']]], [[['Dan', 'was', 'overweight'], 'xWant', ['to lose weight', 'to eat less', 'to eat healthy', 'to eat healthier', 'lose weight']], [['Dan', 'was', 'as well'], 'xWant', ['to have fun']], [['Dan', 'was', 'as well'], 'isBefore', ['Dan gets a new job']], [['Dan', 'was', 'overweight'], 'xEffect', ['eat too much']]]]\n",
      "row 0, sentence 3\n",
      "row 0, sentence 3, relation xWant\n",
      "[['The doctors', 'told', \"Dan 's parents\"], 'xWant', []]\n",
      "[['The doctors', 'told', 'it was unhealthy'], 'xWant', ['to be healthy', 'to eat healthy', 'to eat less']]\n",
      "[['it', 'was', 'unhealthy'], 'xWant', ['to eat less']]\n",
      "row 0, sentence 3, relation isBefore\n",
      "[['The doctors', 'told', \"Dan 's parents\"], 'isBefore', []]\n",
      "[['The doctors', 'told', 'it was unhealthy'], 'isBefore', []]\n",
      "[['it', 'was', 'unhealthy'], 'isBefore', []]\n",
      "row 0, sentence 3, relation xEffect\n",
      "[['The doctors', 'told', \"Dan 's parents\"], 'xEffect', []]\n",
      "[['The doctors', 'told', 'it was unhealthy'], 'xEffect', []]\n",
      "[['it', 'was', 'unhealthy'], 'xEffect', []]\n",
      "[[[['The doctors', 'told', \"Dan 's parents\"], 'xWant', [\" to talk to Dan's parents\", ' to make sure Dan is ok', ' to make sure Dan is okay', ' to make sure they are ok', ' to make sure they are okay', ' to talk to the parents', ' to talk to their parents', ' to tell their parents what happened', ' to tell the parents what happened', ' to tell them what they think']], [['The doctors', 'told', 'it was unhealthy'], 'xWant', [' go to the doctor', ' to stop eating it', ' to give up smoking', ' go to the hospital', ' to eat healthy food', ' to get better', ' to be healthy', ' to take medicine', ' to eat healthy', ' to eat less']], [['it', 'was', 'unhealthy'], 'xWant', [' eat too much', ' eat junk food', ' eat a lot', ' go to doctor', ' lose weight', ' to eat less', ' throw up', ' eat less', ' eat junk', ' eat']], [['The doctors', 'told', \"Dan 's parents\"], 'isBefore', [' the parents go to the hospital', ' the parents go to the doctor', ' the doctors tell the parents what happened', ' the doctor tells the parents what happened', ' the doctors tell the parents the news', ' the doctors tell the parents', ' the doctors told the parents', ' the doctor tells the parents', ' the doctor told the parents']], [['The doctors', 'told', 'it was unhealthy'], 'isBefore', [' the patient goes to the doctor', ' the doctor told them to stop eating', ' the doctor told them it was unhealthy', ' the doctor told them to stop smoking', ' the doctor tells them to stop eating', ' the doctor told them not to eat', ' the patient goes to the hospital', ' the doctor told them to eat less', ' the doctor told them to stop', ' the doctor gave them a prescription']], [['it', 'was', 'unhealthy'], 'isBefore', [' eat too much', ' eat junk food', ' lose weight', ' bad for health', ' it was unhealthy', ' bad for you', ' feel sick', ' food poisoning', ' unhealthy food', ' exercise more']], [['The doctors', 'told', \"Dan 's parents\"], 'xEffect', [' the parents know what is going on', ' the parents are informed of the diagnosis', ' the parents are informed of the situation', ' the parents go to the hospital.', ' the parents go to the doctor.', ' the parents are informed of the news', ' the doctor tells the parents the news', ' the doctors tell the parents the news', ' the parents go to the doctor', ' the parents go to the hospital']], [['The doctors', 'told', 'it was unhealthy'], 'xEffect', [' has to take medicine', ' get a new job', ' has to eat less', ' has to take medication', ' the patient gets sick', ' get a new diet', ' the person eats less', ' has to eat more', ' lose weight', ' eat less food']], [['it', 'was', 'unhealthy'], 'xEffect', [' eat too much', ' eat junk food', ' lose weight', ' eat a lot', ' eat unhealthy food', ' eat unhealthy foods', ' eat junk foods', ' get sick', ' get fat', ' feel sick']]], [[['The doctors', 'told', 'it was unhealthy'], 'xWant', ['to be healthy', 'to eat healthy', 'to eat less']], [['it', 'was', 'unhealthy'], 'xWant', ['to eat less']]]]\n",
      "row 0, sentence 4\n",
      "row 0, sentence 4, relation xWant\n",
      "[[\"Dan 's parents\", 'decided', 'to make a change'], 'xWant', []]\n",
      "[[\"Dan 's parents\", 'make', 'a change'], 'xWant', []]\n",
      "row 0, sentence 4, relation isBefore\n",
      "[[\"Dan 's parents\", 'decided', 'to make a change'], 'isBefore', []]\n",
      "[[\"Dan 's parents\", 'make', 'a change'], 'isBefore', []]\n",
      "row 0, sentence 4, relation xEffect\n",
      "[[\"Dan 's parents\", 'decided', 'to make a change'], 'xEffect', []]\n",
      "[[\"Dan 's parents\", 'make', 'a change'], 'xEffect', []]\n",
      "[[[[\"Dan 's parents\", 'decided', 'to make a change'], 'xWant', [' to start a new life', ' to get a new job', ' to make a change themselves', ' to see how they do', ' to start a new business', ' to make a new life', ' to have a new life', ' to try something new', ' to make a change', ' to go to the gym']], [[\"Dan 's parents\", 'make', 'a change'], 'xWant', [' to see if they like it', ' to see how it works out', ' to make a change for themselves', ' to get a new job', ' to see if it works out', ' to see how it goes', ' to see how they do', ' to make a change themselves', ' to see what they think', ' to see if it works']], [[\"Dan 's parents\", 'decided', 'to make a change'], 'isBefore', [' Dan and his parents move to a new city', ' Dan and his parents move to a new house', ' Dan and his parents move to a new town', ' Dan and his parents move to a new home', ' Dan and his parents get a new job', ' Dan and his parents go to a new restaurant', \" Dan 's parents get a new job\", ' Dan and his parents go to a new school', ' Dan and his parents move to a new place', ' Dan and his parents move to a new apartment']], [[\"Dan 's parents\", 'make', 'a change'], 'isBefore', [\" Dan 's parents get a new job\", ' Dan and his parents get a new job', \" Dan 's parents make a change\", \" Dan 's parents make a new change\", \" Dan's parents get a new job\", \" Dan 's parents make a change too\", ' Dan and his parents go on a date', \" Dan 's parents make a new life\", \" Dan's parents make a new life plan\", ' Dan gets a new job']], [[\"Dan 's parents\", 'decided', 'to make a change'], 'xEffect', [' gets a new job', ' to make a change', ' get a new job', ' has a better life', ' gets a new car', ' has a new job', ' gets a raise', ' gets a promotion', ' has less money']], [[\"Dan 's parents\", 'make', 'a change'], 'xEffect', [' gets a new job', ' get a new job', ' has a better life', ' gets a new car', ' gets a raise', ' gets a promotion', ' has less money', ' has less stress', ' to change']]], []]\n"
     ]
    },
    {
     "name": "stderr",
     "output_type": "stream",
     "text": [
      "\n"
     ]
    },
    {
     "ename": "ValueError",
     "evalue": "Length of values (2) does not match length of index (1)",
     "output_type": "error",
     "traceback": [
      "\u001b[0;31m---------------------------------------------------------------------------\u001b[0m",
      "\u001b[0;31mValueError\u001b[0m                                Traceback (most recent call last)",
      "\u001b[0;32m<ipython-input-28-99695f7827db>\u001b[0m in \u001b[0;36m<module>\u001b[0;34m\u001b[0m\n\u001b[1;32m     34\u001b[0m \u001b[0;34m\u001b[0m\u001b[0m\n\u001b[1;32m     35\u001b[0m \u001b[0;32mfor\u001b[0m \u001b[0mf\u001b[0m \u001b[0;32min\u001b[0m \u001b[0mrange\u001b[0m\u001b[0;34m(\u001b[0m\u001b[0;36m1\u001b[0m\u001b[0;34m,\u001b[0m \u001b[0;36m5\u001b[0m\u001b[0;34m)\u001b[0m\u001b[0;34m:\u001b[0m\u001b[0;34m\u001b[0m\u001b[0;34m\u001b[0m\u001b[0m\n\u001b[0;32m---> 36\u001b[0;31m     \u001b[0mres\u001b[0m\u001b[0;34m[\u001b[0m\u001b[0;34mf'pruned_comet{f}'\u001b[0m\u001b[0;34m]\u001b[0m \u001b[0;34m=\u001b[0m \u001b[0mpruned_triples\u001b[0m\u001b[0;34m[\u001b[0m\u001b[0mf\u001b[0m\u001b[0;34m-\u001b[0m\u001b[0;36m1\u001b[0m\u001b[0;34m]\u001b[0m\u001b[0;34m\u001b[0m\u001b[0;34m\u001b[0m\u001b[0m\n\u001b[0m",
      "\u001b[0;32m/opt/anaconda3/envs/storygen/lib/python3.6/site-packages/pandas/core/frame.py\u001b[0m in \u001b[0;36m__setitem__\u001b[0;34m(self, key, value)\u001b[0m\n\u001b[1;32m   3042\u001b[0m         \u001b[0;32melse\u001b[0m\u001b[0;34m:\u001b[0m\u001b[0;34m\u001b[0m\u001b[0;34m\u001b[0m\u001b[0m\n\u001b[1;32m   3043\u001b[0m             \u001b[0;31m# set column\u001b[0m\u001b[0;34m\u001b[0m\u001b[0;34m\u001b[0m\u001b[0;34m\u001b[0m\u001b[0m\n\u001b[0;32m-> 3044\u001b[0;31m             \u001b[0mself\u001b[0m\u001b[0;34m.\u001b[0m\u001b[0m_set_item\u001b[0m\u001b[0;34m(\u001b[0m\u001b[0mkey\u001b[0m\u001b[0;34m,\u001b[0m \u001b[0mvalue\u001b[0m\u001b[0;34m)\u001b[0m\u001b[0;34m\u001b[0m\u001b[0;34m\u001b[0m\u001b[0m\n\u001b[0m\u001b[1;32m   3045\u001b[0m \u001b[0;34m\u001b[0m\u001b[0m\n\u001b[1;32m   3046\u001b[0m     \u001b[0;32mdef\u001b[0m \u001b[0m_setitem_slice\u001b[0m\u001b[0;34m(\u001b[0m\u001b[0mself\u001b[0m\u001b[0;34m,\u001b[0m \u001b[0mkey\u001b[0m\u001b[0;34m:\u001b[0m \u001b[0mslice\u001b[0m\u001b[0;34m,\u001b[0m \u001b[0mvalue\u001b[0m\u001b[0;34m)\u001b[0m\u001b[0;34m:\u001b[0m\u001b[0;34m\u001b[0m\u001b[0;34m\u001b[0m\u001b[0m\n",
      "\u001b[0;32m/opt/anaconda3/envs/storygen/lib/python3.6/site-packages/pandas/core/frame.py\u001b[0m in \u001b[0;36m_set_item\u001b[0;34m(self, key, value)\u001b[0m\n\u001b[1;32m   3118\u001b[0m         \"\"\"\n\u001b[1;32m   3119\u001b[0m         \u001b[0mself\u001b[0m\u001b[0;34m.\u001b[0m\u001b[0m_ensure_valid_index\u001b[0m\u001b[0;34m(\u001b[0m\u001b[0mvalue\u001b[0m\u001b[0;34m)\u001b[0m\u001b[0;34m\u001b[0m\u001b[0;34m\u001b[0m\u001b[0m\n\u001b[0;32m-> 3120\u001b[0;31m         \u001b[0mvalue\u001b[0m \u001b[0;34m=\u001b[0m \u001b[0mself\u001b[0m\u001b[0;34m.\u001b[0m\u001b[0m_sanitize_column\u001b[0m\u001b[0;34m(\u001b[0m\u001b[0mkey\u001b[0m\u001b[0;34m,\u001b[0m \u001b[0mvalue\u001b[0m\u001b[0;34m)\u001b[0m\u001b[0;34m\u001b[0m\u001b[0;34m\u001b[0m\u001b[0m\n\u001b[0m\u001b[1;32m   3121\u001b[0m         \u001b[0mNDFrame\u001b[0m\u001b[0;34m.\u001b[0m\u001b[0m_set_item\u001b[0m\u001b[0;34m(\u001b[0m\u001b[0mself\u001b[0m\u001b[0;34m,\u001b[0m \u001b[0mkey\u001b[0m\u001b[0;34m,\u001b[0m \u001b[0mvalue\u001b[0m\u001b[0;34m)\u001b[0m\u001b[0;34m\u001b[0m\u001b[0;34m\u001b[0m\u001b[0m\n\u001b[1;32m   3122\u001b[0m \u001b[0;34m\u001b[0m\u001b[0m\n",
      "\u001b[0;32m/opt/anaconda3/envs/storygen/lib/python3.6/site-packages/pandas/core/frame.py\u001b[0m in \u001b[0;36m_sanitize_column\u001b[0;34m(self, key, value, broadcast)\u001b[0m\n\u001b[1;32m   3766\u001b[0m \u001b[0;34m\u001b[0m\u001b[0m\n\u001b[1;32m   3767\u001b[0m             \u001b[0;31m# turn me into an ndarray\u001b[0m\u001b[0;34m\u001b[0m\u001b[0;34m\u001b[0m\u001b[0;34m\u001b[0m\u001b[0m\n\u001b[0;32m-> 3768\u001b[0;31m             \u001b[0mvalue\u001b[0m \u001b[0;34m=\u001b[0m \u001b[0msanitize_index\u001b[0m\u001b[0;34m(\u001b[0m\u001b[0mvalue\u001b[0m\u001b[0;34m,\u001b[0m \u001b[0mself\u001b[0m\u001b[0;34m.\u001b[0m\u001b[0mindex\u001b[0m\u001b[0;34m)\u001b[0m\u001b[0;34m\u001b[0m\u001b[0;34m\u001b[0m\u001b[0m\n\u001b[0m\u001b[1;32m   3769\u001b[0m             \u001b[0;32mif\u001b[0m \u001b[0;32mnot\u001b[0m \u001b[0misinstance\u001b[0m\u001b[0;34m(\u001b[0m\u001b[0mvalue\u001b[0m\u001b[0;34m,\u001b[0m \u001b[0;34m(\u001b[0m\u001b[0mnp\u001b[0m\u001b[0;34m.\u001b[0m\u001b[0mndarray\u001b[0m\u001b[0;34m,\u001b[0m \u001b[0mIndex\u001b[0m\u001b[0;34m)\u001b[0m\u001b[0;34m)\u001b[0m\u001b[0;34m:\u001b[0m\u001b[0;34m\u001b[0m\u001b[0;34m\u001b[0m\u001b[0m\n\u001b[1;32m   3770\u001b[0m                 \u001b[0;32mif\u001b[0m \u001b[0misinstance\u001b[0m\u001b[0;34m(\u001b[0m\u001b[0mvalue\u001b[0m\u001b[0;34m,\u001b[0m \u001b[0mlist\u001b[0m\u001b[0;34m)\u001b[0m \u001b[0;32mand\u001b[0m \u001b[0mlen\u001b[0m\u001b[0;34m(\u001b[0m\u001b[0mvalue\u001b[0m\u001b[0;34m)\u001b[0m \u001b[0;34m>\u001b[0m \u001b[0;36m0\u001b[0m\u001b[0;34m:\u001b[0m\u001b[0;34m\u001b[0m\u001b[0;34m\u001b[0m\u001b[0m\n",
      "\u001b[0;32m/opt/anaconda3/envs/storygen/lib/python3.6/site-packages/pandas/core/internals/construction.py\u001b[0m in \u001b[0;36msanitize_index\u001b[0;34m(data, index)\u001b[0m\n\u001b[1;32m    746\u001b[0m     \u001b[0;32mif\u001b[0m \u001b[0mlen\u001b[0m\u001b[0;34m(\u001b[0m\u001b[0mdata\u001b[0m\u001b[0;34m)\u001b[0m \u001b[0;34m!=\u001b[0m \u001b[0mlen\u001b[0m\u001b[0;34m(\u001b[0m\u001b[0mindex\u001b[0m\u001b[0;34m)\u001b[0m\u001b[0;34m:\u001b[0m\u001b[0;34m\u001b[0m\u001b[0;34m\u001b[0m\u001b[0m\n\u001b[1;32m    747\u001b[0m         raise ValueError(\n\u001b[0;32m--> 748\u001b[0;31m             \u001b[0;34m\"Length of values \"\u001b[0m\u001b[0;34m\u001b[0m\u001b[0;34m\u001b[0m\u001b[0m\n\u001b[0m\u001b[1;32m    749\u001b[0m             \u001b[0;34mf\"({len(data)}) \"\u001b[0m\u001b[0;34m\u001b[0m\u001b[0;34m\u001b[0m\u001b[0m\n\u001b[1;32m    750\u001b[0m             \u001b[0;34m\"does not match length of index \"\u001b[0m\u001b[0;34m\u001b[0m\u001b[0;34m\u001b[0m\u001b[0m\n",
      "\u001b[0;31mValueError\u001b[0m: Length of values (2) does not match length of index (1)"
     ]
    }
   ],
   "source": [
    "n_rels = len(forward_rels)\n",
    "for idx, row in tqdm(res.iterrows()):\n",
    "    print(f'row {idx}')\n",
    "    for f in range(1,5):\n",
    "        print(f'row {idx}, sentence {f}')\n",
    "        triples_f = row[f'sentence_{f}']\n",
    "        forward_events = list(filter(forward_filter, triples_f))\n",
    "        backward_events = []\n",
    "        for b in range(f+1,6):\n",
    "            triples_b = row[f'sentence_{b}']\n",
    "            backward_events += list(filter(backward_filter, triples_b))\n",
    "        pruned_triples_f = []\n",
    "#         print(backward_events)\n",
    "        for rel in range(n_rels):\n",
    "            print(f'row {idx}, sentence {f}, relation {forward_rels[rel]}')\n",
    "            ft = get_forward_triples(forward_events, rel)\n",
    "#             print(ft)\n",
    "            be = get_backward_events(backward_events, rel)\n",
    "#             print(be)\n",
    "            new_ft = []\n",
    "            for triple in ft:\n",
    "#                 print(triple)\n",
    "#                 print(triple)\n",
    "#                 print(type(triple[2]))\n",
    "                triple_copy = [a for a in triple]\n",
    "                triple_copy[2] = [event.strip() for event in triple[2] if event.strip() in be]\n",
    "                print(triple_copy)\n",
    "                if triple_copy[2]:\n",
    "                    new_ft.append(triple_copy)\n",
    "#             print(new_ft)\n",
    "            pruned_triples_f += new_ft\n",
    "        pruned_triples[f-1].append(pruned_triples_f)\n",
    "        print(pruned_triples[f-1])\n",
    "        \n",
    "for f in range(1, 5):\n",
    "    res[f'pruned_comet{f}'] = pruned_triples[f-1]"
   ]
  },
  {
   "cell_type": "code",
   "execution_count": 27,
   "id": "b1c5d10a",
   "metadata": {},
   "outputs": [
    {
     "data": {
      "text/html": [
       "<div>\n",
       "<style scoped>\n",
       "    .dataframe tbody tr th:only-of-type {\n",
       "        vertical-align: middle;\n",
       "    }\n",
       "\n",
       "    .dataframe tbody tr th {\n",
       "        vertical-align: top;\n",
       "    }\n",
       "\n",
       "    .dataframe thead th {\n",
       "        text-align: right;\n",
       "    }\n",
       "</style>\n",
       "<table border=\"1\" class=\"dataframe\">\n",
       "  <thead>\n",
       "    <tr style=\"text-align: right;\">\n",
       "      <th></th>\n",
       "      <th>storyid</th>\n",
       "      <th>sentence_1</th>\n",
       "      <th>sentence_2</th>\n",
       "      <th>sentence_3</th>\n",
       "      <th>sentence_4</th>\n",
       "      <th>sentence_5</th>\n",
       "      <th>pruned_comet1</th>\n",
       "      <th>pruned_comet2</th>\n",
       "      <th>pruned_comet3</th>\n",
       "      <th>pruned_comet4</th>\n",
       "    </tr>\n",
       "  </thead>\n",
       "  <tbody>\n",
       "    <tr>\n",
       "      <th>0</th>\n",
       "      <td>9a51198e-96f1-42c3-b09d-a3e1e067d803</td>\n",
       "      <td>[[[Dan 's parents, were, overweight], xWant, [ to buy new clothes,  to eat less,  to lose weight,  to eat healthy,  to eat less food,  to eat healthier,  to eat healthy food,  to eat less.,  to lose weight.,  to eat more]], [[Dan 's parents, were, overweight], isBefore, [ PersonX eats a lot of junk food.,  Dan's parents go to the gym every day,  Dan 's parents go on a diet,  Dan 's parents go to the gym everyday,  Dan 's parents go to the gym,  PersonX eats a lot of food.,  PersonX eats a lot of junk food,  Dan's parents go to the gym,  PersonX eats a lot of food,  Dan 's parents lose weight]], [[Dan 's parents, were, overweight], xEffect, [ has to buy new clothes,  is told to lose weight,  is told to eat less,  Dan's parents are overweight,  Dan's parents are obese,  is told to eat more,  Dan's parents were overweight,  has to eat less,  has to lose weight,  gets teased by parents]]]</td>\n",
       "      <td>[[[Dan, was, overweight], xWant, [ to lose weight,  to eat less,  to exercise more,  to eat healthy,  to eat healthier,  to get healthy,  to eat more,  lose weight,  eat less,  to exercise]], [[Dan, was, overweight], isBefore, [ Dan goes to the gym every day,  Dan went to the gym every day,  Dan had to go to the gym,  Dan had to go to the doctor,  Dan goes to the gym everyday,  Dan goes to the gym,  Dan went to the gym,  Dan went to the doctor,  Dan goes to a gym,  Dan had to lose weight]], [[Dan, was, overweight], xEffect, [ has to lose weight,  get a gym membership,  get a new job,  eats too much food,  eats too much,  eat too much food,  has to exercise more,  has to eat less,  eat too much,  eat too much.]], [[Dan, was, overweight], xIntent, [ to lose weight,  to be healthy,  to be thin,  to gain weight,  to be skinny,  to be fit,  to be thinner,  to eat more,  to eat less]], [[Dan, was, overweight], isAfter, [ Dan goes to the gym everyday,  Dan eats too much junk food,  Dan goes to the gym,  Dan ate too much junk food,  Dan goes to the gym regularly,  Dan goes to a gym,  Dan eats too much food,  Dan eats too much,  Dan eats a lot,  Dan lost weight]], [[Dan, was, overweight], xNeed, [ go to the gym,  to eat too much,  to eat a lot,  get a gym membership,  eat too much,  to eat junk food,  eat too much food,  eat lots of food,  eat a lot,  go to gym]], [[Dan, was, as well], xWant, [ to go to bed,  to go to sleep,  to take a nap,  to talk to Dan,  to take a shower,  to talk to someone,  to have fun,  to go home,  to get married,  to go out]], [[Dan, was, as well], isBefore, [ Dan goes to the movies with Dan,  Dan went to the movies with Dan,  Dan and Dan's wife get married,  Dan gets a new job,  Dan goes to the doctor,  Dan goes to the hospital,  Dan went to the doctor,  Dan goes to the movies,  Dan gets the job,  Dan goes to work]], [[Dan, was, as well], xEffect, [ gets yelled at by other people,  gets yelled at for being rude,  gets yelled at for being late,  Dan gets a new job.,  gets yelled at by his friends,  Dan is in a coma.,  Dan is a good person.,  Dan is in the hospital.,  gets yelled at by other person,  gets yelled at by others]], [[Dan, was, as well], xIntent, [ to be with someone,  to be happy.,  to be with person,  to have fun.,  to have fun,  to be happy,  to be nice,  to be liked,  to be helpful]], [[Dan, was, as well], isAfter, [ Dan was in a car accident,  Dan was in a car wreck,  Dan was in a car crash,  Dan is in the hospital,  Dan went to the doctor,  Dan goes to the gym,  Dan went to the movies,  Dan goes to the movies,  Dan went to the store,  Dan went to work]], [[Dan, was, as well], xNeed, [ to have been in a fight,  to be in a car accident,  to have gone to the store,  to have gone to the movies,  to be in the same place,  to be in the same boat,  to be in a relationship,  make sure they are okay,  make sure they are ok,  to have been there before]]]</td>\n",
       "      <td>[[[The doctors, told, Dan 's parents], xWant, [ to talk to Dan's parents,  to make sure Dan is ok,  to make sure Dan is okay,  to make sure they are ok,  to make sure they are okay,  to talk to the parents,  to talk to their parents,  to tell their parents what happened,  to tell the parents what happened,  to tell them what they think]], [[The doctors, told, Dan 's parents], isBefore, [ the parents go to the hospital,  the parents go to the doctor,  the doctors tell the parents what happened,  the doctor tells the parents what happened,  the doctors tell the parents the news,  the doctors tell the parents,  the doctors told the parents,  the doctor tells the parents,  the doctor told the parents]], [[The doctors, told, Dan 's parents], xEffect, [ the parents know what is going on,  the parents are informed of the diagnosis,  the parents are informed of the situation,  the parents go to the hospital.,  the parents go to the doctor.,  the parents are informed of the news,  the doctor tells the parents the news,  the doctors tell the parents the news,  the parents go to the doctor,  the parents go to the hospital]], [[The doctors, told, Dan 's parents], xIntent, [ to inform the parents,  to tell them something,  the parents to know,  to tell the truth,  to tell the parents,  to inform them,  to be informed,  to be helpful,  to be honest,  to inform parents]], [[The doctors, told, Dan 's parents], isAfter, [ PersonX calls PersonX's parents,  PersonX goes to the hospital.,  PersonX goes to the doctor.,  PersonX calls PersonY's parents,  the doctor tells the parents what happened,  PersonX goes to the hospital,  PersonX goes to the doctor,  PersonX goes to the ER,  the doctor tells the parents,  the doctor told the parents]], [[The doctors, told, Dan 's parents], xNeed, [ to go to the doctor,  to go to the hospital,  to talk to the doctor,  to go to the doctors,  to talk to the doctors,  to talk to the parents,  to see the doctor,  to talk to them,  to see the doctors]], [[The doctors, told, it was unhealthy], xWant, [ go to the doctor,  to stop eating it,  to give up smoking,  go to the hospital,  to eat healthy food,  to get better,  to be healthy,  to take medicine,  to eat healthy,  to eat less]], [[The doctors, told, it was unhealthy], isBefore, [ the patient goes to the doctor,  the doctor told them to stop eating,  the doctor told them it was unhealthy,  the doctor told them to stop smoking,  the doctor tells them to stop eating,  the doctor told them not to eat,  the patient goes to the hospital,  the doctor told them to eat less,  the doctor told them to stop,  the doctor gave them a prescription]], [[The doctors, told, it was unhealthy], xEffect, [ has to take medicine,  get a new job,  has to eat less,  has to take medication,  the patient gets sick,  get a new diet,  the person eats less,  has to eat more,  lose weight,  eat less food]], [[The doctors, told, it was unhealthy], xIntent, [ the food to be unhealthy,  the food to be healthy,  to get rid of it,  to get rid of something,  the person to be healthy,  not to eat the food,  the food to be healthier,  not to eat it,  the food was unhealthy]], [[The doctors, told, it was unhealthy], isAfter, [ the doctor told them to stop,  the doctor told them not to,  the food to be unhealthy,  the doctor told him to stop,  the food to be healthy,  the food to be eaten,  the food was not healthy,  the food was unhealthy,  the food was bad,  eat less]], [[The doctors, told, it was unhealthy], xNeed, [ go to the doctor,  go to the hospital,  go to the doctors,  to go to doctor,  go to doctor,  to get sick,  go to hospital,  to be sick,  take medicine,  get sick]], [[it, was, unhealthy], xWant, [ eat too much,  eat junk food,  eat a lot,  go to doctor,  lose weight,  to eat less,  throw up,  eat less,  eat junk,  eat]], [[it, was, unhealthy], isBefore, [ eat too much,  eat junk food,  lose weight,  bad for health,  it was unhealthy,  bad for you,  feel sick,  food poisoning,  unhealthy food,  exercise more]], [[it, was, unhealthy], xEffect, [ eat too much,  eat junk food,  lose weight,  eat a lot,  eat unhealthy food,  eat unhealthy foods,  eat junk foods,  get sick,  get fat,  feel sick]], [[it, was, unhealthy], xIntent, [ eat junk food,  eat too much,  not to eat,  lose weight,  it was unhealthy,  unhealthy food.,  unhealthy food,  unhealthy foods,  not eat]], [[it, was, unhealthy], isAfter, [ eat too much,  eat junk food,  drink too much,  lose weight,  bad for health,  it was unhealthy,  food poisoning,  get fat,  food,  exercise]], [[it, was, unhealthy], xNeed, [ eat too much,  eat junk food,  eat a lot,  eat bad food,  go to gym,  eat unhealthy food,  eat unhealthy foods,  lose weight,  eat meat]]]</td>\n",
       "      <td>[[[Dan 's parents, decided, to make a change], xWant, [ to start a new life,  to get a new job,  to make a change themselves,  to see how they do,  to start a new business,  to make a new life,  to have a new life,  to try something new,  to make a change,  to go to the gym]], [[Dan 's parents, decided, to make a change], isBefore, [ Dan and his parents move to a new city,  Dan and his parents move to a new house,  Dan and his parents move to a new town,  Dan and his parents move to a new home,  Dan and his parents get a new job,  Dan and his parents go to a new restaurant,  Dan 's parents get a new job,  Dan and his parents go to a new school,  Dan and his parents move to a new place,  Dan and his parents move to a new apartment]], [[Dan 's parents, decided, to make a change], xEffect, [ gets a new job,  to make a change,  get a new job,  has a better life,  gets a new car,  has a new job,  gets a raise,  gets a promotion,  has less money]], [[Dan 's parents, decided, to make a change], xIntent, [ to make a change,  to try something new,  to change their lifestyle,  to change their life,  to have a change,  to be happy,  to be healthier,  to be different,  to save money]], [[Dan 's parents, decided, to make a change], isAfter, [ Dan 's parents make a decision to make a change,  Dan 's parents decide to make a change,  Dan 's parents decided to make a change,  Dan 's parents make a decision to change their life,  Dan 's parents get a new job,  Dan 's parents get a new car,  PersonX gets a new job.,  Dan 's parents make a change,  PersonX gets a new job,  Dan goes to a new school]], [[Dan 's parents, decided, to make a change], xNeed, [ to talk to their parents,  to talk to them about it,  to talk to their parents.,  to have a change in mind,  to talk to his parents,  to ask their parents for help,  to talk to the parents,  to talk to them,  to make a decision,  to make a plan]], [[Dan 's parents, make, a change], xWant, [ to see if they like it,  to see how it works out,  to make a change for themselves,  to get a new job,  to see if it works out,  to see how it goes,  to see how they do,  to make a change themselves,  to see what they think,  to see if it works]], [[Dan 's parents, make, a change], isBefore, [ Dan 's parents get a new job,  Dan and his parents get a new job,  Dan 's parents make a change,  Dan 's parents make a new change,  Dan's parents get a new job,  Dan 's parents make a change too,  Dan and his parents go on a date,  Dan 's parents make a new life,  Dan's parents make a new life plan,  Dan gets a new job]], [[Dan 's parents, make, a change], xEffect, [ gets a new job,  get a new job,  has a better life,  gets a new car,  gets a raise,  gets a promotion,  has less money,  has less stress,  to change]], [[Dan 's parents, make, a change], xIntent, [ to make a change,  to help their son,  to have a change,  to help their child,  to be happy,  to be successful,  to feel better,  to be better,  to change,  to help]], [[Dan 's parents, make, a change], isAfter, [ Dan 's parents decide to make a change,  Dan 's parents get a new job,  Dan 's parents make a change for him,  Dan 's parents make a decision to change,  Dan 's parents make a change,  Dan 's parents get a new car,  Dan 's parents make a decision,  Dan 's parents ask for advice,  Dan gets a new job,  Dan's parents make a change]], [[Dan 's parents, make, a change], xNeed, [ to talk to their parents,  to talk to his parents,  to make a change,  to talk to them,  to make a decision,  to make a plan,  to talk to parents,  to tell their parents,  to have a change]]]</td>\n",
       "      <td>[[[Dan 's parents, got, Dan 's parents and Dan], xIntent, [ to spend time together,  to be with them,  to be with family,  to be helpful,  to be nice,  to be together,  to help them,  to have fun,  to help]], [[Dan 's parents, got, Dan 's parents and Dan], isAfter, [ PersonX calls PersonX's parents.,  PersonX calls PersonY's parents.,  PersonX asks PersonX to marry them,  Dan and his parents go to the movies,  PersonX calls PersonX's parents,  Dan 's parents went to the store,  Dan and his parents go to the movie,  PersonX calls PersonY's parents,  PersonX calls PersonX,  PersonX calls PersonY]], [[Dan 's parents, got, Dan 's parents and Dan], xNeed, [ to talk to their parents,  to go to the store,  to talk to the parents,  to talk to his parents,  to call their parents,  to go to their house,  to ask for a ride,  to go to the mall,  to talk to them,  to go to their parents]], [[Dan 's parents, got, on a diet], xIntent, [ to lose weight,  to be healthy,  to be healthier,  to eat healthier,  to look better,  to eat healthy,  to look good,  to eat less,  to feel better,  eat healthy]], [[Dan 's parents, got, on a diet], isAfter, [ Dan 's parents go on a diet,  Dan 's parents go to the gym,  Dan 's parents are on a diet,  PersonX eats a lot of junk food,  PersonY eats a lot of junk food,  Dan 's parents go to a gym,  Dan 's parents lose weight,  PersonX eats a lot of sweets,  PersonX eats a lot of food,  PersonY eats a lot of food]], [[Dan 's parents, got, on a diet], xNeed, [ to go to the gym,  to make a diet plan,  to talk to their parents,  to talk to his parents,  to go to the doctor,  to have a diet plan,  to go to a gym,  to make a plan,  to talk to them,  to buy a scale]]]</td>\n",
       "      <td>[[[Dan 's parents, were, overweight], xWant, [ to buy new clothes,  to eat less,  to lose weight,  to eat healthy,  to eat less food,  to eat healthier,  to eat healthy food,  to eat less.,  to lose weight.,  to eat more]], [[Dan 's parents, were, overweight], isBefore, [ PersonX eats a lot of junk food.,  Dan's parents go to the gym every day,  Dan 's parents go on a diet,  Dan 's parents go to the gym everyday,  Dan 's parents go to the gym,  PersonX eats a lot of food.,  PersonX eats a lot of junk food,  Dan's parents go to the gym,  PersonX eats a lot of food,  Dan 's parents lose weight]], [[Dan 's parents, were, overweight], xEffect, [ has to buy new clothes,  is told to lose weight,  is told to eat less,  Dan's parents are overweight,  Dan's parents are obese,  is told to eat more,  Dan's parents were overweight,  has to eat less,  has to lose weight,  gets teased by parents]]]</td>\n",
       "      <td>[[[Dan, was, overweight], xWant, [ to lose weight,  to eat less,  to exercise more,  to eat healthy,  to eat healthier,  to get healthy,  to eat more,  lose weight,  eat less,  to exercise]], [[Dan, was, as well], xWant, [ to go to bed,  to go to sleep,  to take a nap,  to talk to Dan,  to take a shower,  to talk to someone,  to have fun,  to go home,  to get married,  to go out]], [[Dan, was, overweight], isBefore, [ Dan goes to the gym every day,  Dan went to the gym every day,  Dan had to go to the gym,  Dan had to go to the doctor,  Dan goes to the gym everyday,  Dan goes to the gym,  Dan went to the gym,  Dan went to the doctor,  Dan goes to a gym,  Dan had to lose weight]], [[Dan, was, as well], isBefore, [ Dan goes to the movies with Dan,  Dan went to the movies with Dan,  Dan and Dan's wife get married,  Dan gets a new job,  Dan goes to the doctor,  Dan goes to the hospital,  Dan went to the doctor,  Dan goes to the movies,  Dan gets the job,  Dan goes to work]], [[Dan, was, overweight], xEffect, [ has to lose weight,  get a gym membership,  get a new job,  eats too much food,  eats too much,  eat too much food,  has to exercise more,  has to eat less,  eat too much,  eat too much.]], [[Dan, was, as well], xEffect, [ gets yelled at by other people,  gets yelled at for being rude,  gets yelled at for being late,  Dan gets a new job.,  gets yelled at by his friends,  Dan is in a coma.,  Dan is a good person.,  Dan is in the hospital.,  gets yelled at by other person,  gets yelled at by others]]]</td>\n",
       "      <td>[[[The doctors, told, Dan 's parents], xWant, [ to talk to Dan's parents,  to make sure Dan is ok,  to make sure Dan is okay,  to make sure they are ok,  to make sure they are okay,  to talk to the parents,  to talk to their parents,  to tell their parents what happened,  to tell the parents what happened,  to tell them what they think]], [[The doctors, told, it was unhealthy], xWant, [ go to the doctor,  to stop eating it,  to give up smoking,  go to the hospital,  to eat healthy food,  to get better,  to be healthy,  to take medicine,  to eat healthy,  to eat less]], [[it, was, unhealthy], xWant, [ eat too much,  eat junk food,  eat a lot,  go to doctor,  lose weight,  to eat less,  throw up,  eat less,  eat junk,  eat]], [[The doctors, told, Dan 's parents], isBefore, [ the parents go to the hospital,  the parents go to the doctor,  the doctors tell the parents what happened,  the doctor tells the parents what happened,  the doctors tell the parents the news,  the doctors tell the parents,  the doctors told the parents,  the doctor tells the parents,  the doctor told the parents]], [[The doctors, told, it was unhealthy], isBefore, [ the patient goes to the doctor,  the doctor told them to stop eating,  the doctor told them it was unhealthy,  the doctor told them to stop smoking,  the doctor tells them to stop eating,  the doctor told them not to eat,  the patient goes to the hospital,  the doctor told them to eat less,  the doctor told them to stop,  the doctor gave them a prescription]], [[it, was, unhealthy], isBefore, [ eat too much,  eat junk food,  lose weight,  bad for health,  it was unhealthy,  bad for you,  feel sick,  food poisoning,  unhealthy food,  exercise more]], [[The doctors, told, Dan 's parents], xEffect, [ the parents know what is going on,  the parents are informed of the diagnosis,  the parents are informed of the situation,  the parents go to the hospital.,  the parents go to the doctor.,  the parents are informed of the news,  the doctor tells the parents the news,  the doctors tell the parents the news,  the parents go to the doctor,  the parents go to the hospital]], [[The doctors, told, it was unhealthy], xEffect, [ has to take medicine,  get a new job,  has to eat less,  has to take medication,  the patient gets sick,  get a new diet,  the person eats less,  has to eat more,  lose weight,  eat less food]], [[it, was, unhealthy], xEffect, [ eat too much,  eat junk food,  lose weight,  eat a lot,  eat unhealthy food,  eat unhealthy foods,  eat junk foods,  get sick,  get fat,  feel sick]]]</td>\n",
       "      <td>[[[Dan 's parents, decided, to make a change], xWant, [ to start a new life,  to get a new job,  to make a change themselves,  to see how they do,  to start a new business,  to make a new life,  to have a new life,  to try something new,  to make a change,  to go to the gym]], [[Dan 's parents, make, a change], xWant, [ to see if they like it,  to see how it works out,  to make a change for themselves,  to get a new job,  to see if it works out,  to see how it goes,  to see how they do,  to make a change themselves,  to see what they think,  to see if it works]], [[Dan 's parents, decided, to make a change], isBefore, [ Dan and his parents move to a new city,  Dan and his parents move to a new house,  Dan and his parents move to a new town,  Dan and his parents move to a new home,  Dan and his parents get a new job,  Dan and his parents go to a new restaurant,  Dan 's parents get a new job,  Dan and his parents go to a new school,  Dan and his parents move to a new place,  Dan and his parents move to a new apartment]], [[Dan 's parents, make, a change], isBefore, [ Dan 's parents get a new job,  Dan and his parents get a new job,  Dan 's parents make a change,  Dan 's parents make a new change,  Dan's parents get a new job,  Dan 's parents make a change too,  Dan and his parents go on a date,  Dan 's parents make a new life,  Dan's parents make a new life plan,  Dan gets a new job]], [[Dan 's parents, decided, to make a change], xEffect, [ gets a new job,  to make a change,  get a new job,  has a better life,  gets a new car,  has a new job,  gets a raise,  gets a promotion,  has less money]], [[Dan 's parents, make, a change], xEffect, [ gets a new job,  get a new job,  has a better life,  gets a new car,  gets a raise,  gets a promotion,  has less money,  has less stress,  to change]]]</td>\n",
       "    </tr>\n",
       "  </tbody>\n",
       "</table>\n",
       "</div>"
      ],
      "text/plain": [
       "                                storyid  \\\n",
       "0  9a51198e-96f1-42c3-b09d-a3e1e067d803   \n",
       "\n",
       "                                                                                                                                                                                                                                                                                                                                                                                                                                                                                                                                                                                                                                                                                                                                                                                                                                                                                                                          sentence_1  \\\n",
       "0  [[[Dan 's parents, were, overweight], xWant, [ to buy new clothes,  to eat less,  to lose weight,  to eat healthy,  to eat less food,  to eat healthier,  to eat healthy food,  to eat less.,  to lose weight.,  to eat more]], [[Dan 's parents, were, overweight], isBefore, [ PersonX eats a lot of junk food.,  Dan's parents go to the gym every day,  Dan 's parents go on a diet,  Dan 's parents go to the gym everyday,  Dan 's parents go to the gym,  PersonX eats a lot of food.,  PersonX eats a lot of junk food,  Dan's parents go to the gym,  PersonX eats a lot of food,  Dan 's parents lose weight]], [[Dan 's parents, were, overweight], xEffect, [ has to buy new clothes,  is told to lose weight,  is told to eat less,  Dan's parents are overweight,  Dan's parents are obese,  is told to eat more,  Dan's parents were overweight,  has to eat less,  has to lose weight,  gets teased by parents]]]   \n",
       "\n",
       "                                                                                                                                                                                                                                                                                                                                                                                                                                                                                                                                                                                                                                                                                                                                                                                                                                                                                                                                                                                                                                                                                                                                                                                                                                                                                                                                                                                                                                                                                                                                                                                                                                                                                                                                                                                                                                                                                                                                                                                                                                                                                                                                                                                                                                                                                                                                                                                                                                                                                                                                                                                                                                                                                                                                                                                                                                                                                                                                                                                                                                            sentence_2  \\\n",
       "0  [[[Dan, was, overweight], xWant, [ to lose weight,  to eat less,  to exercise more,  to eat healthy,  to eat healthier,  to get healthy,  to eat more,  lose weight,  eat less,  to exercise]], [[Dan, was, overweight], isBefore, [ Dan goes to the gym every day,  Dan went to the gym every day,  Dan had to go to the gym,  Dan had to go to the doctor,  Dan goes to the gym everyday,  Dan goes to the gym,  Dan went to the gym,  Dan went to the doctor,  Dan goes to a gym,  Dan had to lose weight]], [[Dan, was, overweight], xEffect, [ has to lose weight,  get a gym membership,  get a new job,  eats too much food,  eats too much,  eat too much food,  has to exercise more,  has to eat less,  eat too much,  eat too much.]], [[Dan, was, overweight], xIntent, [ to lose weight,  to be healthy,  to be thin,  to gain weight,  to be skinny,  to be fit,  to be thinner,  to eat more,  to eat less]], [[Dan, was, overweight], isAfter, [ Dan goes to the gym everyday,  Dan eats too much junk food,  Dan goes to the gym,  Dan ate too much junk food,  Dan goes to the gym regularly,  Dan goes to a gym,  Dan eats too much food,  Dan eats too much,  Dan eats a lot,  Dan lost weight]], [[Dan, was, overweight], xNeed, [ go to the gym,  to eat too much,  to eat a lot,  get a gym membership,  eat too much,  to eat junk food,  eat too much food,  eat lots of food,  eat a lot,  go to gym]], [[Dan, was, as well], xWant, [ to go to bed,  to go to sleep,  to take a nap,  to talk to Dan,  to take a shower,  to talk to someone,  to have fun,  to go home,  to get married,  to go out]], [[Dan, was, as well], isBefore, [ Dan goes to the movies with Dan,  Dan went to the movies with Dan,  Dan and Dan's wife get married,  Dan gets a new job,  Dan goes to the doctor,  Dan goes to the hospital,  Dan went to the doctor,  Dan goes to the movies,  Dan gets the job,  Dan goes to work]], [[Dan, was, as well], xEffect, [ gets yelled at by other people,  gets yelled at for being rude,  gets yelled at for being late,  Dan gets a new job.,  gets yelled at by his friends,  Dan is in a coma.,  Dan is a good person.,  Dan is in the hospital.,  gets yelled at by other person,  gets yelled at by others]], [[Dan, was, as well], xIntent, [ to be with someone,  to be happy.,  to be with person,  to have fun.,  to have fun,  to be happy,  to be nice,  to be liked,  to be helpful]], [[Dan, was, as well], isAfter, [ Dan was in a car accident,  Dan was in a car wreck,  Dan was in a car crash,  Dan is in the hospital,  Dan went to the doctor,  Dan goes to the gym,  Dan went to the movies,  Dan goes to the movies,  Dan went to the store,  Dan went to work]], [[Dan, was, as well], xNeed, [ to have been in a fight,  to be in a car accident,  to have gone to the store,  to have gone to the movies,  to be in the same place,  to be in the same boat,  to be in a relationship,  make sure they are okay,  make sure they are ok,  to have been there before]]]   \n",
       "\n",
       "                                                                                                                                                                                                                                                                                                                                                                                                                                                                                                                                                                                                                                                                                                                                                                                                                                                                                                                                                                                                                                                                                                                                                                                                                                                                                                                                                                                                                                                                                                                                                                                                                                                                                                                                                                                                                                                                                                                                                                                                                                                                                                                                                                                                                                                                                                                                                                                                                                                                                                                                                                                                                                                                                                                                                                                                                                                                                                                                                                                                                                                                                                                                                                                                                                                                                                                                                                                                                                                                                                                                                                                                                                                                                                                                                                                                                                                                                                                                                                                                                                                                                                                                                                                                                                                                                                                                                                                                                                                                                                                                                                                                                                                                                                                                                                                                                                                                                                                         sentence_3  \\\n",
       "0  [[[The doctors, told, Dan 's parents], xWant, [ to talk to Dan's parents,  to make sure Dan is ok,  to make sure Dan is okay,  to make sure they are ok,  to make sure they are okay,  to talk to the parents,  to talk to their parents,  to tell their parents what happened,  to tell the parents what happened,  to tell them what they think]], [[The doctors, told, Dan 's parents], isBefore, [ the parents go to the hospital,  the parents go to the doctor,  the doctors tell the parents what happened,  the doctor tells the parents what happened,  the doctors tell the parents the news,  the doctors tell the parents,  the doctors told the parents,  the doctor tells the parents,  the doctor told the parents]], [[The doctors, told, Dan 's parents], xEffect, [ the parents know what is going on,  the parents are informed of the diagnosis,  the parents are informed of the situation,  the parents go to the hospital.,  the parents go to the doctor.,  the parents are informed of the news,  the doctor tells the parents the news,  the doctors tell the parents the news,  the parents go to the doctor,  the parents go to the hospital]], [[The doctors, told, Dan 's parents], xIntent, [ to inform the parents,  to tell them something,  the parents to know,  to tell the truth,  to tell the parents,  to inform them,  to be informed,  to be helpful,  to be honest,  to inform parents]], [[The doctors, told, Dan 's parents], isAfter, [ PersonX calls PersonX's parents,  PersonX goes to the hospital.,  PersonX goes to the doctor.,  PersonX calls PersonY's parents,  the doctor tells the parents what happened,  PersonX goes to the hospital,  PersonX goes to the doctor,  PersonX goes to the ER,  the doctor tells the parents,  the doctor told the parents]], [[The doctors, told, Dan 's parents], xNeed, [ to go to the doctor,  to go to the hospital,  to talk to the doctor,  to go to the doctors,  to talk to the doctors,  to talk to the parents,  to see the doctor,  to talk to them,  to see the doctors]], [[The doctors, told, it was unhealthy], xWant, [ go to the doctor,  to stop eating it,  to give up smoking,  go to the hospital,  to eat healthy food,  to get better,  to be healthy,  to take medicine,  to eat healthy,  to eat less]], [[The doctors, told, it was unhealthy], isBefore, [ the patient goes to the doctor,  the doctor told them to stop eating,  the doctor told them it was unhealthy,  the doctor told them to stop smoking,  the doctor tells them to stop eating,  the doctor told them not to eat,  the patient goes to the hospital,  the doctor told them to eat less,  the doctor told them to stop,  the doctor gave them a prescription]], [[The doctors, told, it was unhealthy], xEffect, [ has to take medicine,  get a new job,  has to eat less,  has to take medication,  the patient gets sick,  get a new diet,  the person eats less,  has to eat more,  lose weight,  eat less food]], [[The doctors, told, it was unhealthy], xIntent, [ the food to be unhealthy,  the food to be healthy,  to get rid of it,  to get rid of something,  the person to be healthy,  not to eat the food,  the food to be healthier,  not to eat it,  the food was unhealthy]], [[The doctors, told, it was unhealthy], isAfter, [ the doctor told them to stop,  the doctor told them not to,  the food to be unhealthy,  the doctor told him to stop,  the food to be healthy,  the food to be eaten,  the food was not healthy,  the food was unhealthy,  the food was bad,  eat less]], [[The doctors, told, it was unhealthy], xNeed, [ go to the doctor,  go to the hospital,  go to the doctors,  to go to doctor,  go to doctor,  to get sick,  go to hospital,  to be sick,  take medicine,  get sick]], [[it, was, unhealthy], xWant, [ eat too much,  eat junk food,  eat a lot,  go to doctor,  lose weight,  to eat less,  throw up,  eat less,  eat junk,  eat]], [[it, was, unhealthy], isBefore, [ eat too much,  eat junk food,  lose weight,  bad for health,  it was unhealthy,  bad for you,  feel sick,  food poisoning,  unhealthy food,  exercise more]], [[it, was, unhealthy], xEffect, [ eat too much,  eat junk food,  lose weight,  eat a lot,  eat unhealthy food,  eat unhealthy foods,  eat junk foods,  get sick,  get fat,  feel sick]], [[it, was, unhealthy], xIntent, [ eat junk food,  eat too much,  not to eat,  lose weight,  it was unhealthy,  unhealthy food.,  unhealthy food,  unhealthy foods,  not eat]], [[it, was, unhealthy], isAfter, [ eat too much,  eat junk food,  drink too much,  lose weight,  bad for health,  it was unhealthy,  food poisoning,  get fat,  food,  exercise]], [[it, was, unhealthy], xNeed, [ eat too much,  eat junk food,  eat a lot,  eat bad food,  go to gym,  eat unhealthy food,  eat unhealthy foods,  lose weight,  eat meat]]]   \n",
       "\n",
       "                                                                                                                                                                                                                                                                                                                                                                                                                                                                                                                                                                                                                                                                                                                                                                                                                                                                                                                                                                                                                                                                                                                                                                                                                                                                                                                                                                                                                                                                                                                                                                                                                                                                                                                                                                                                                                                                                                                                                                                                                                                                                                                                                                                                                                                                                                                                                                                                                                                                                                                                                                                                                                                                                                                                                                                                                                                                                                                                                                                                                                                                                                                                                                                                                                                                                                                                                                                                                                                                                                                                                                                                                                                                                                                                           sentence_4  \\\n",
       "0  [[[Dan 's parents, decided, to make a change], xWant, [ to start a new life,  to get a new job,  to make a change themselves,  to see how they do,  to start a new business,  to make a new life,  to have a new life,  to try something new,  to make a change,  to go to the gym]], [[Dan 's parents, decided, to make a change], isBefore, [ Dan and his parents move to a new city,  Dan and his parents move to a new house,  Dan and his parents move to a new town,  Dan and his parents move to a new home,  Dan and his parents get a new job,  Dan and his parents go to a new restaurant,  Dan 's parents get a new job,  Dan and his parents go to a new school,  Dan and his parents move to a new place,  Dan and his parents move to a new apartment]], [[Dan 's parents, decided, to make a change], xEffect, [ gets a new job,  to make a change,  get a new job,  has a better life,  gets a new car,  has a new job,  gets a raise,  gets a promotion,  has less money]], [[Dan 's parents, decided, to make a change], xIntent, [ to make a change,  to try something new,  to change their lifestyle,  to change their life,  to have a change,  to be happy,  to be healthier,  to be different,  to save money]], [[Dan 's parents, decided, to make a change], isAfter, [ Dan 's parents make a decision to make a change,  Dan 's parents decide to make a change,  Dan 's parents decided to make a change,  Dan 's parents make a decision to change their life,  Dan 's parents get a new job,  Dan 's parents get a new car,  PersonX gets a new job.,  Dan 's parents make a change,  PersonX gets a new job,  Dan goes to a new school]], [[Dan 's parents, decided, to make a change], xNeed, [ to talk to their parents,  to talk to them about it,  to talk to their parents.,  to have a change in mind,  to talk to his parents,  to ask their parents for help,  to talk to the parents,  to talk to them,  to make a decision,  to make a plan]], [[Dan 's parents, make, a change], xWant, [ to see if they like it,  to see how it works out,  to make a change for themselves,  to get a new job,  to see if it works out,  to see how it goes,  to see how they do,  to make a change themselves,  to see what they think,  to see if it works]], [[Dan 's parents, make, a change], isBefore, [ Dan 's parents get a new job,  Dan and his parents get a new job,  Dan 's parents make a change,  Dan 's parents make a new change,  Dan's parents get a new job,  Dan 's parents make a change too,  Dan and his parents go on a date,  Dan 's parents make a new life,  Dan's parents make a new life plan,  Dan gets a new job]], [[Dan 's parents, make, a change], xEffect, [ gets a new job,  get a new job,  has a better life,  gets a new car,  gets a raise,  gets a promotion,  has less money,  has less stress,  to change]], [[Dan 's parents, make, a change], xIntent, [ to make a change,  to help their son,  to have a change,  to help their child,  to be happy,  to be successful,  to feel better,  to be better,  to change,  to help]], [[Dan 's parents, make, a change], isAfter, [ Dan 's parents decide to make a change,  Dan 's parents get a new job,  Dan 's parents make a change for him,  Dan 's parents make a decision to change,  Dan 's parents make a change,  Dan 's parents get a new car,  Dan 's parents make a decision,  Dan 's parents ask for advice,  Dan gets a new job,  Dan's parents make a change]], [[Dan 's parents, make, a change], xNeed, [ to talk to their parents,  to talk to his parents,  to make a change,  to talk to them,  to make a decision,  to make a plan,  to talk to parents,  to tell their parents,  to have a change]]]   \n",
       "\n",
       "                                                                                                                                                                                                                                                                                                                                                                                                                                                                                                                                                                                                                                                                                                                                                                                                                                                                                                                                                                                                                                                                                                                                                                                                                                                                                                                                                                                                                                                                                                                                                                                                                                                                                                                                                                  sentence_5  \\\n",
       "0  [[[Dan 's parents, got, Dan 's parents and Dan], xIntent, [ to spend time together,  to be with them,  to be with family,  to be helpful,  to be nice,  to be together,  to help them,  to have fun,  to help]], [[Dan 's parents, got, Dan 's parents and Dan], isAfter, [ PersonX calls PersonX's parents.,  PersonX calls PersonY's parents.,  PersonX asks PersonX to marry them,  Dan and his parents go to the movies,  PersonX calls PersonX's parents,  Dan 's parents went to the store,  Dan and his parents go to the movie,  PersonX calls PersonY's parents,  PersonX calls PersonX,  PersonX calls PersonY]], [[Dan 's parents, got, Dan 's parents and Dan], xNeed, [ to talk to their parents,  to go to the store,  to talk to the parents,  to talk to his parents,  to call their parents,  to go to their house,  to ask for a ride,  to go to the mall,  to talk to them,  to go to their parents]], [[Dan 's parents, got, on a diet], xIntent, [ to lose weight,  to be healthy,  to be healthier,  to eat healthier,  to look better,  to eat healthy,  to look good,  to eat less,  to feel better,  eat healthy]], [[Dan 's parents, got, on a diet], isAfter, [ Dan 's parents go on a diet,  Dan 's parents go to the gym,  Dan 's parents are on a diet,  PersonX eats a lot of junk food,  PersonY eats a lot of junk food,  Dan 's parents go to a gym,  Dan 's parents lose weight,  PersonX eats a lot of sweets,  PersonX eats a lot of food,  PersonY eats a lot of food]], [[Dan 's parents, got, on a diet], xNeed, [ to go to the gym,  to make a diet plan,  to talk to their parents,  to talk to his parents,  to go to the doctor,  to have a diet plan,  to go to a gym,  to make a plan,  to talk to them,  to buy a scale]]]   \n",
       "\n",
       "                                                                                                                                                                                                                                                                                                                                                                                                                                                                                                                                                                                                                                                                                                                                                                                                                                                                                                                       pruned_comet1  \\\n",
       "0  [[[Dan 's parents, were, overweight], xWant, [ to buy new clothes,  to eat less,  to lose weight,  to eat healthy,  to eat less food,  to eat healthier,  to eat healthy food,  to eat less.,  to lose weight.,  to eat more]], [[Dan 's parents, were, overweight], isBefore, [ PersonX eats a lot of junk food.,  Dan's parents go to the gym every day,  Dan 's parents go on a diet,  Dan 's parents go to the gym everyday,  Dan 's parents go to the gym,  PersonX eats a lot of food.,  PersonX eats a lot of junk food,  Dan's parents go to the gym,  PersonX eats a lot of food,  Dan 's parents lose weight]], [[Dan 's parents, were, overweight], xEffect, [ has to buy new clothes,  is told to lose weight,  is told to eat less,  Dan's parents are overweight,  Dan's parents are obese,  is told to eat more,  Dan's parents were overweight,  has to eat less,  has to lose weight,  gets teased by parents]]]   \n",
       "\n",
       "                                                                                                                                                                                                                                                                                                                                                                                                                                                                                                                                                                                                                                                                                                                                                                                                                                                                                                                                                                                                                                                                                                                                                                                                                                                                                                                                                                                                                                                                                                                                                                            pruned_comet2  \\\n",
       "0  [[[Dan, was, overweight], xWant, [ to lose weight,  to eat less,  to exercise more,  to eat healthy,  to eat healthier,  to get healthy,  to eat more,  lose weight,  eat less,  to exercise]], [[Dan, was, as well], xWant, [ to go to bed,  to go to sleep,  to take a nap,  to talk to Dan,  to take a shower,  to talk to someone,  to have fun,  to go home,  to get married,  to go out]], [[Dan, was, overweight], isBefore, [ Dan goes to the gym every day,  Dan went to the gym every day,  Dan had to go to the gym,  Dan had to go to the doctor,  Dan goes to the gym everyday,  Dan goes to the gym,  Dan went to the gym,  Dan went to the doctor,  Dan goes to a gym,  Dan had to lose weight]], [[Dan, was, as well], isBefore, [ Dan goes to the movies with Dan,  Dan went to the movies with Dan,  Dan and Dan's wife get married,  Dan gets a new job,  Dan goes to the doctor,  Dan goes to the hospital,  Dan went to the doctor,  Dan goes to the movies,  Dan gets the job,  Dan goes to work]], [[Dan, was, overweight], xEffect, [ has to lose weight,  get a gym membership,  get a new job,  eats too much food,  eats too much,  eat too much food,  has to exercise more,  has to eat less,  eat too much,  eat too much.]], [[Dan, was, as well], xEffect, [ gets yelled at by other people,  gets yelled at for being rude,  gets yelled at for being late,  Dan gets a new job.,  gets yelled at by his friends,  Dan is in a coma.,  Dan is a good person.,  Dan is in the hospital.,  gets yelled at by other person,  gets yelled at by others]]]   \n",
       "\n",
       "                                                                                                                                                                                                                                                                                                                                                                                                                                                                                                                                                                                                                                                                                                                                                                                                                                                                                                                                                                                                                                                                                                                                                                                                                                                                                                                                                                                                                                                                                                                                                                                                                                                                                                                                                                                                                                                                                                                                                                                                                                                                                                                                                                                                                                                                                                                                                                                                                                                                                                                                                                                                                                                         pruned_comet3  \\\n",
       "0  [[[The doctors, told, Dan 's parents], xWant, [ to talk to Dan's parents,  to make sure Dan is ok,  to make sure Dan is okay,  to make sure they are ok,  to make sure they are okay,  to talk to the parents,  to talk to their parents,  to tell their parents what happened,  to tell the parents what happened,  to tell them what they think]], [[The doctors, told, it was unhealthy], xWant, [ go to the doctor,  to stop eating it,  to give up smoking,  go to the hospital,  to eat healthy food,  to get better,  to be healthy,  to take medicine,  to eat healthy,  to eat less]], [[it, was, unhealthy], xWant, [ eat too much,  eat junk food,  eat a lot,  go to doctor,  lose weight,  to eat less,  throw up,  eat less,  eat junk,  eat]], [[The doctors, told, Dan 's parents], isBefore, [ the parents go to the hospital,  the parents go to the doctor,  the doctors tell the parents what happened,  the doctor tells the parents what happened,  the doctors tell the parents the news,  the doctors tell the parents,  the doctors told the parents,  the doctor tells the parents,  the doctor told the parents]], [[The doctors, told, it was unhealthy], isBefore, [ the patient goes to the doctor,  the doctor told them to stop eating,  the doctor told them it was unhealthy,  the doctor told them to stop smoking,  the doctor tells them to stop eating,  the doctor told them not to eat,  the patient goes to the hospital,  the doctor told them to eat less,  the doctor told them to stop,  the doctor gave them a prescription]], [[it, was, unhealthy], isBefore, [ eat too much,  eat junk food,  lose weight,  bad for health,  it was unhealthy,  bad for you,  feel sick,  food poisoning,  unhealthy food,  exercise more]], [[The doctors, told, Dan 's parents], xEffect, [ the parents know what is going on,  the parents are informed of the diagnosis,  the parents are informed of the situation,  the parents go to the hospital.,  the parents go to the doctor.,  the parents are informed of the news,  the doctor tells the parents the news,  the doctors tell the parents the news,  the parents go to the doctor,  the parents go to the hospital]], [[The doctors, told, it was unhealthy], xEffect, [ has to take medicine,  get a new job,  has to eat less,  has to take medication,  the patient gets sick,  get a new diet,  the person eats less,  has to eat more,  lose weight,  eat less food]], [[it, was, unhealthy], xEffect, [ eat too much,  eat junk food,  lose weight,  eat a lot,  eat unhealthy food,  eat unhealthy foods,  eat junk foods,  get sick,  get fat,  feel sick]]]   \n",
       "\n",
       "                                                                                                                                                                                                                                                                                                                                                                                                                                                                                                                                                                                                                                                                                                                                                                                                                                                                                                                                                                                                                                                                                                                                                                                                                                                                                                                                                                                                                                                                                                                                                                                                                                                                                                                                                                                                                                                                                pruned_comet4  \n",
       "0  [[[Dan 's parents, decided, to make a change], xWant, [ to start a new life,  to get a new job,  to make a change themselves,  to see how they do,  to start a new business,  to make a new life,  to have a new life,  to try something new,  to make a change,  to go to the gym]], [[Dan 's parents, make, a change], xWant, [ to see if they like it,  to see how it works out,  to make a change for themselves,  to get a new job,  to see if it works out,  to see how it goes,  to see how they do,  to make a change themselves,  to see what they think,  to see if it works]], [[Dan 's parents, decided, to make a change], isBefore, [ Dan and his parents move to a new city,  Dan and his parents move to a new house,  Dan and his parents move to a new town,  Dan and his parents move to a new home,  Dan and his parents get a new job,  Dan and his parents go to a new restaurant,  Dan 's parents get a new job,  Dan and his parents go to a new school,  Dan and his parents move to a new place,  Dan and his parents move to a new apartment]], [[Dan 's parents, make, a change], isBefore, [ Dan 's parents get a new job,  Dan and his parents get a new job,  Dan 's parents make a change,  Dan 's parents make a new change,  Dan's parents get a new job,  Dan 's parents make a change too,  Dan and his parents go on a date,  Dan 's parents make a new life,  Dan's parents make a new life plan,  Dan gets a new job]], [[Dan 's parents, decided, to make a change], xEffect, [ gets a new job,  to make a change,  get a new job,  has a better life,  gets a new car,  has a new job,  gets a raise,  gets a promotion,  has less money]], [[Dan 's parents, make, a change], xEffect, [ gets a new job,  get a new job,  has a better life,  gets a new car,  gets a raise,  gets a promotion,  has less money,  has less stress,  to change]]]  "
      ]
     },
     "execution_count": 27,
     "metadata": {},
     "output_type": "execute_result"
    }
   ],
   "source": [
    "res"
   ]
  },
  {
   "cell_type": "code",
   "execution_count": null,
   "id": "cc9308a9",
   "metadata": {},
   "outputs": [],
   "source": []
  }
 ],
 "metadata": {
  "kernelspec": {
   "display_name": "Python 3",
   "language": "python",
   "name": "python3"
  },
  "language_info": {
   "codemirror_mode": {
    "name": "ipython",
    "version": 3
   },
   "file_extension": ".py",
   "mimetype": "text/x-python",
   "name": "python",
   "nbconvert_exporter": "python",
   "pygments_lexer": "ipython3",
   "version": "3.6.13"
  }
 },
 "nbformat": 4,
 "nbformat_minor": 5
}
