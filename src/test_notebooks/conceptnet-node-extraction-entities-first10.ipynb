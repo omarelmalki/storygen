{
 "cells": [
  {
   "cell_type": "markdown",
   "id": "9e69d407",
   "metadata": {},
   "source": [
    "Author: Omar El Malki (omar.elmalki@epfl.ch)"
   ]
  },
  {
   "cell_type": "markdown",
   "id": "3da7215a",
   "metadata": {},
   "source": [
    "### ConceptNet Node extraction from first 10 ROCStories"
   ]
  },
  {
   "cell_type": "code",
   "execution_count": null,
   "id": "20ab4834",
   "metadata": {},
   "outputs": [],
   "source": [
    "import pandas as pd\n",
    "import os\n",
    "from tqdm import tqdm\n",
    "import ast\n",
    "\n",
    "tqdm.pandas()\n",
    "\n",
    "pd.set_option('display.max_colwidth', None)\n",
    "pd.set_option('display.max_rows', None)\n",
    "pd.set_option('display.max_columns', None)\n",
    "pd.options.mode.chained_assignment = None"
   ]
  },
  {
   "cell_type": "code",
   "execution_count": null,
   "id": "8f1180f6",
   "metadata": {},
   "outputs": [],
   "source": [
    "os.chdir('../../src/')"
   ]
  },
  {
   "cell_type": "code",
   "execution_count": null,
   "id": "b791b1d5",
   "metadata": {},
   "outputs": [],
   "source": [
    "# Read ROCStories into pandas DataFrame\n",
    "roc_stories_path_csv = \"../generated/concepnet-node-extraction/ROCStories_resolved_with_entities_first10.csv\"\n",
    "roc_stories_df = pd.read_csv(roc_stories_path_csv, sep='\\t', header=0)"
   ]
  },
  {
   "cell_type": "code",
   "execution_count": null,
   "id": "e6d25e4d",
   "metadata": {},
   "outputs": [],
   "source": [
    "roc_stories_df.head(10)"
   ]
  },
  {
   "cell_type": "markdown",
   "id": "682100d1",
   "metadata": {},
   "source": [
    "#### Turn entity list into strings before applying CoCo-Ex"
   ]
  },
  {
   "cell_type": "code",
   "execution_count": null,
   "id": "d3921ab9",
   "metadata": {},
   "outputs": [],
   "source": [
    "def entities_to_string(entities):\n",
    "    \"\"\"\n",
    "    Transform list of entities into a single string\n",
    "    :param triples:\n",
    "    :return: str\n",
    "    \"\"\"\n",
    "    s = \"\"\n",
    "    l = ast.literal_eval(entities)\n",
    "    for entity in l:\n",
    "        s += entity + \", \"\n",
    "    return s"
   ]
  },
  {
   "cell_type": "code",
   "execution_count": null,
   "id": "231afba0",
   "metadata": {},
   "outputs": [],
   "source": [
    "roc_stories_entities_df = roc_stories_df[['storyid', 'srl_entities1', 'srl_entities2', 'srl_entities3', 'srl_entities4', 'srl_entities5']]"
   ]
  },
  {
   "cell_type": "code",
   "execution_count": null,
   "id": "ddc1f348",
   "metadata": {},
   "outputs": [],
   "source": [
    "roc_stories_entities_df.head(10)"
   ]
  },
  {
   "cell_type": "code",
   "execution_count": null,
   "id": "54187c72",
   "metadata": {},
   "outputs": [],
   "source": [
    "for n in range(1, 6):\n",
    "    roc_stories_entities_df[f'entities_str_t{n}'] = roc_stories_entities_df[f'srl_entities{n}'] \\\n",
    "        .progress_apply(lambda t: entities_to_string(t))"
   ]
  },
  {
   "cell_type": "code",
   "execution_count": null,
   "id": "e1a9a27c",
   "metadata": {},
   "outputs": [],
   "source": [
    "roc_stories_entities_string_df = roc_stories_entities_df[\n",
    "    ['storyid', 'entities_str_t1', 'entities_str_t2', 'entities_str_t3', 'entities_str_t4', 'entities_str_t5']]"
   ]
  },
  {
   "cell_type": "code",
   "execution_count": null,
   "id": "1ce1b1bb",
   "metadata": {},
   "outputs": [],
   "source": [
    "roc_stories_entities_string_df.to_csv(\n",
    "    '../generated/conceptnet-node-extraction/ROCStories_resolved_entities_entity_extraction_input.csv', sep='\\t', header=None, index=False)"
   ]
  },
  {
   "cell_type": "code",
   "execution_count": null,
   "id": "11f8b3e3",
   "metadata": {
    "scrolled": true
   },
   "outputs": [],
   "source": [
    "roc_stories_entities_string_df.head(10)"
   ]
  },
  {
   "cell_type": "code",
   "execution_count": null,
   "id": "1320a3d0",
   "metadata": {},
   "outputs": [],
   "source": [
    "os.chdir('../lib/CoCo-Ex/')"
   ]
  },
  {
   "cell_type": "code",
   "execution_count": null,
   "id": "4398aa09",
   "metadata": {},
   "outputs": [],
   "source": [
    "%%time\n",
    "entity_extraction_script_name = 'CoCo-Ex_entity_extraction.py'\n",
    "input_csv = \"../../generated/conceptnet-node-extraction/ROCStories_resolved_entities_entity_extraction_input_first10.csv\"\n",
    "output_tsv = \"../../generated/conceptnet-node-extraction/ROCStories_resolved_entities_entity_extraction_output_first10.tsv\"\n",
    "os.system(f'python3 {entity_extraction_script_name} {input_csv} {output_tsv}')"
   ]
  },
  {
   "cell_type": "code",
   "execution_count": null,
   "id": "3e2a18fd",
   "metadata": {},
   "outputs": [],
   "source": [
    "ezdf = pd.read_csv(output_tsv, sep='\\t', header=0)"
   ]
  },
  {
   "cell_type": "code",
   "execution_count": null,
   "id": "204ad381",
   "metadata": {},
   "outputs": [],
   "source": [
    "ezdf.head(10)"
   ]
  },
  {
   "cell_type": "code",
   "execution_count": null,
   "id": "12d87000",
   "metadata": {},
   "outputs": [],
   "source": [
    "output_filtered_tsv = \"../../generated/conceptnet-node-extraction/ROCStories_resolved_entities_conceptnet_nodes_filtered_first10.tsv\"\n",
    "overhead_filter_script_name = 'CoCo-Ex_overhead_filter.py'\n",
    "len_diff_tokenlevel = 1\n",
    "len_diff_charlevel = 10\n",
    "dice_coefficient = 0.8"
   ]
  },
  {
   "cell_type": "code",
   "execution_count": null,
   "id": "b0569496",
   "metadata": {},
   "outputs": [],
   "source": [
    "os.system(f'python3 {overhead_filter_script_name} '\n",
    "          f'--inputfile {output_tsv} '\n",
    "          f'--outputfile {output_filtered_tsv} '\n",
    "          f'--len_diff_tokenlevel {len_diff_tokenlevel} '\n",
    "          f'--len_diff_charlevel {len_diff_charlevel} '\n",
    "          f'--dice_coefficient {dice_coefficient}')"
   ]
  },
  {
   "cell_type": "code",
   "execution_count": null,
   "id": "8970741c",
   "metadata": {},
   "outputs": [],
   "source": [
    "roc_stories_extracted_nodes_df = pd.read_csv(output_filtered_tsv, sep='\\t', header=None,\n",
    "                                             names=['storyid', 'sentence_index', 'sentence', 'nodes'])"
   ]
  },
  {
   "cell_type": "code",
   "execution_count": null,
   "id": "b300a8ba",
   "metadata": {},
   "outputs": [],
   "source": [
    "roc_stories_extracted_nodes_df"
   ]
  },
  {
   "cell_type": "code",
   "execution_count": null,
   "id": "c3385dab",
   "metadata": {},
   "outputs": [],
   "source": [
    "roc_stories_pivoted_df = roc_stories_extracted_nodes_df.pivot(index='storyid', columns='sentence_index', values='nodes').reset_index()"
   ]
  },
  {
   "cell_type": "code",
   "execution_count": null,
   "id": "7ded11c1",
   "metadata": {},
   "outputs": [],
   "source": [
    "roc_stories_pivoted_df.columns.name = None"
   ]
  },
  {
   "cell_type": "code",
   "execution_count": null,
   "id": "f28fdfd3",
   "metadata": {},
   "outputs": [],
   "source": [
    "roc_stories_pivoted_df.columns = ['storyid', 'cn_nodes1', 'cn_nodes2', 'cn_nodes3', 'cn_nodes4', 'cn_nodes5']"
   ]
  },
  {
   "cell_type": "code",
   "execution_count": null,
   "id": "d34686cf",
   "metadata": {},
   "outputs": [],
   "source": [
    "roc_stories_pivoted_df"
   ]
  },
  {
   "cell_type": "code",
   "execution_count": null,
   "id": "d609660a",
   "metadata": {},
   "outputs": [],
   "source": []
  }
 ],
 "metadata": {
  "kernelspec": {
   "display_name": "Python 3",
   "language": "python",
   "name": "python3"
  },
  "language_info": {
   "codemirror_mode": {
    "name": "ipython",
    "version": 3
   },
   "file_extension": ".py",
   "mimetype": "text/x-python",
   "name": "python",
   "nbconvert_exporter": "python",
   "pygments_lexer": "ipython3",
   "version": "3.6.13"
  }
 },
 "nbformat": 4,
 "nbformat_minor": 5
}
