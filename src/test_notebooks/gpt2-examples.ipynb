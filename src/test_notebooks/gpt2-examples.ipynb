{
 "cells": [
  {
   "cell_type": "code",
   "execution_count": 3,
   "id": "83d18ea9",
   "metadata": {},
   "outputs": [],
   "source": [
    "from transformers import GPT2Tokenizer, TrainingArguments, Trainer, GPT2LMHeadModel\n",
    "import torch"
   ]
  },
  {
   "cell_type": "code",
   "execution_count": 4,
   "id": "d32301ce",
   "metadata": {},
   "outputs": [
    {
     "data": {
      "text/plain": [
       "<torch._C.Generator at 0x7f7de68669f0>"
      ]
     },
     "execution_count": 4,
     "metadata": {},
     "output_type": "execute_result"
    }
   ],
   "source": [
    "seed_val = 42\n",
    "torch.manual_seed(seed_val)"
   ]
  },
  {
   "cell_type": "code",
   "execution_count": 5,
   "id": "ab21321e",
   "metadata": {},
   "outputs": [],
   "source": [
    "tokenizer = GPT2Tokenizer.from_pretrained('gpt2')\n",
    "model = GPT2LMHeadModel.from_pretrained('gpt2', pad_token_id=tokenizer.eos_token_id)"
   ]
  },
  {
   "cell_type": "code",
   "execution_count": 26,
   "id": "171ff795",
   "metadata": {},
   "outputs": [],
   "source": [
    "prompt = \"Dave was in the Bahamas on vacation.,He decided to go snorkeling on his second day.\""
   ]
  },
  {
   "cell_type": "code",
   "execution_count": 27,
   "id": "be141bd0",
   "metadata": {},
   "outputs": [],
   "source": [
    "input_ids = tokenizer.encode(prompt, return_tensors='pt')"
   ]
  },
  {
   "cell_type": "code",
   "execution_count": 28,
   "id": "fdac723c",
   "metadata": {},
   "outputs": [],
   "source": [
    "beam_output = model.generate(\n",
    "    input_ids, \n",
    "    max_length=200, \n",
    "    num_beams=5, \n",
    "    no_repeat_ngram_size=2, \n",
    "    early_stopping=True\n",
    ")"
   ]
  },
  {
   "cell_type": "code",
   "execution_count": 29,
   "id": "5b96e248",
   "metadata": {},
   "outputs": [
    {
     "name": "stdout",
     "output_type": "stream",
     "text": [
      "Dave was in the Bahamas on vacation.,He decided to go snorkeling on his second day. He had no idea what he was going to do with his life, he said.\n",
      "\n",
      "\"I was like, 'I don't know what I'm gonna do,'\" he recalled. \"I didn't even know if I was gonna be able to get out of there. I just knew that I wasn't going anywhere. It was just a matter of time.\"\n"
     ]
    }
   ],
   "source": [
    "print(tokenizer.decode(beam_output[0], skip_special_tokens=True))"
   ]
  },
  {
   "cell_type": "code",
   "execution_count": 30,
   "id": "533b9ce0",
   "metadata": {},
   "outputs": [],
   "source": [
    "sample_output = model.generate(\n",
    "    input_ids, \n",
    "    do_sample=True, \n",
    "    max_length=200, \n",
    "    top_p=0.9, \n",
    "    top_k=50\n",
    ")"
   ]
  },
  {
   "cell_type": "code",
   "execution_count": 31,
   "id": "856ef321",
   "metadata": {},
   "outputs": [
    {
     "name": "stdout",
     "output_type": "stream",
     "text": [
      "Dave was in the Bahamas on vacation.,He decided to go snorkeling on his second day. He didn't expect to see any problems until about 9.30am when he heard about a new sighting. He called his local ABC affiliate and said, \"Wow, that's amazing.\" Then he looked at a photo on Facebook of a guy, apparently the same man with the same face, holding a gun to his head and smiling. He also said, \"I didn't expect this from someone who looked like my best friend. It's just a story I just want to share.\"I just wanted to say thank you so much for stopping by and I'm happy to announce that I have become a member of the Board of Directors of The National Geographic Society, which means my entire world is about to see a spectacular event at its largest in 30 years! I love the idea of meeting like-minded people to discuss, share ideas, learn and share information. Thank you so much for the\n"
     ]
    }
   ],
   "source": [
    "print(tokenizer.decode(sample_output[0], skip_special_tokens=True))"
   ]
  },
  {
   "cell_type": "code",
   "execution_count": 32,
   "id": "8f327c49",
   "metadata": {},
   "outputs": [],
   "source": [
    "prompt = \"I love my cat. She is adorable.\""
   ]
  },
  {
   "cell_type": "code",
   "execution_count": 33,
   "id": "17df4190",
   "metadata": {},
   "outputs": [],
   "source": [
    "input_ids = tokenizer.encode(prompt, return_tensors='pt')"
   ]
  },
  {
   "cell_type": "code",
   "execution_count": 39,
   "id": "cb761113",
   "metadata": {},
   "outputs": [],
   "source": [
    "beam_output = model.generate(\n",
    "    input_ids, \n",
    "    max_length=200, \n",
    "    num_beams=5, \n",
    "    no_repeat_ngram_size=2, \n",
    ")"
   ]
  },
  {
   "cell_type": "code",
   "execution_count": 40,
   "id": "42604c36",
   "metadata": {},
   "outputs": [
    {
     "name": "stdout",
     "output_type": "stream",
     "text": [
      "Dave was in the Bahamas on vacation.,He decided to go snorkeling on his second day. He had no idea what he was going to do with his life, he said.\n",
      "\n",
      "\"I was like, 'I don't know what I'm gonna do,'\" he recalled. \"I didn't even know if I was gonna be able to get out of there. I just knew that I wasn't going anywhere. It was just a matter of time.\"\n"
     ]
    }
   ],
   "source": [
    "print(tokenizer.decode(beam_output[0], skip_special_tokens=True))"
   ]
  },
  {
   "cell_type": "code",
   "execution_count": 36,
   "id": "d164ea80",
   "metadata": {},
   "outputs": [],
   "source": [
    "sample_output = model.generate(\n",
    "    input_ids, \n",
    "    do_sample=True, \n",
    "    max_length=200, \n",
    "    top_p=0.9, \n",
    "    top_k=50\n",
    ")"
   ]
  },
  {
   "cell_type": "code",
   "execution_count": 37,
   "id": "23d6dfe8",
   "metadata": {},
   "outputs": [
    {
     "name": "stdout",
     "output_type": "stream",
     "text": [
      "I love my cat. She is adorable. She has my favorite pet. She has a huge heart, which makes for a really happy and fulfilled life.\n",
      "\n",
      "\n",
      "I'm an atheist and don't know anyone who believes in the Trinity. It's like they don't believe in something. I like my cat. She is adorable. She has my favorite pet. She has a huge heart, which makes for a really happy and fulfilled life.\n",
      "\n",
      "\n",
      "I love my cat. She is adorable. She has my favorite pet. She has a huge heart, which makes for a really happy and fulfilled life.\n",
      "\n",
      "\n",
      "I love my cat. She is adorable. She has my favorite pet. She has a huge heart, which makes for a really happy and fulfilled life.\n",
      "\n",
      "\n",
      "I love my cat. She is adorable. She has my favorite pet. She has a huge heart, which makes for a really happy and fulfilled life.\n",
      "\n",
      "\n",
      "I love my cat. She is adorable. She\n"
     ]
    }
   ],
   "source": [
    "print(tokenizer.decode(sample_output[0], skip_special_tokens=True))"
   ]
  },
  {
   "cell_type": "code",
   "execution_count": 43,
   "id": "142b93ae",
   "metadata": {},
   "outputs": [
    {
     "name": "stdout",
     "output_type": "stream",
     "text": [
      "beam: Morgan enjoyed long walks on the beach. She and her boyfriend decided to go for a long walk.\n",
      "\n",
      "\"I'm not going to lie,\" she said. \"I didn't know what to do. I just wanted to get out of there.\"\n",
      "sample: Morgan enjoyed long walks on the beach. She and her boyfriend decided to go for a long walk.\n",
      "\n",
      "I found them sitting on their laps at a spot on the beach, chatting about the beach. I watched them walk away from me, but before I could say anything, I noticed the water was beginning to warm up and slowly begin to fall. A few seconds later, I heard a man screaming outside the door. A female friend and I looked out of the window and saw the sun go down, and she was looking out to sea. We heard a man yelling to the ground, \"I'm here!\"\n",
      "\n",
      "I watched her cry as the sun shot down on the side of the beach, her mouth closed, her breathing quick and shallow. As she cried, I heard her say, \"I am here!\"\n",
      "\n",
      "She was just like me, and we looked through the window and there was no one there. I was a little worried that she would be there with her friend\n"
     ]
    }
   ],
   "source": [
    "prompt = \"Morgan enjoyed long walks on the beach. She and her boyfriend decided to go for a long walk.\"\n",
    "\n",
    "input_ids = tokenizer.encode(prompt, return_tensors='pt')\n",
    "\n",
    "beam_output = model.generate(\n",
    "    input_ids, \n",
    "    max_length=200, \n",
    "    num_beams=5, \n",
    "    no_repeat_ngram_size=2, \n",
    "    early_stopping=True\n",
    ")\n",
    "\n",
    "print(f'beam: {tokenizer.decode(beam_output[0], skip_special_tokens=True)}')\n",
    "\n",
    "sample_output = model.generate(\n",
    "    input_ids, \n",
    "    do_sample=True, \n",
    "    max_length=200, \n",
    "    top_p=0.9, \n",
    "    top_k=50\n",
    ")\n",
    "\n",
    "print(f'sample: {tokenizer.decode(sample_output[0], skip_special_tokens=True)}')\n",
    "\n"
   ]
  },
  {
   "cell_type": "code",
   "execution_count": 45,
   "id": "889571db",
   "metadata": {},
   "outputs": [
    {
     "name": "stdout",
     "output_type": "stream",
     "text": [
      "beam: Fred had a job as a tree cutter. One day, Fred wasn't paying attention when cutting a tree.\n",
      "\n",
      "\"I thought I was going to die,\" he says. \"I was like, 'Oh my God, I can't believe I'm doing this. I've never done anything like this before.' And then I realized that I could do it. And that's when I started to realize that this is what I want to do with my life.\"\n",
      "sample: Fred had a job as a tree cutter. One day, Fred wasn't paying attention when cutting a tree.\n",
      "\n",
      "\"Fred and I would always be together on the edge of the trees, he was kind of always watching us,\" his dad said. \"It was the first time I saw him coming out of a tree. I remember my dad looking at Fred and saying 'Fred, what do you want to do?'\n",
      "\n",
      "\"He looked at me in disbelief. I didn't understand what I was doing, but I had him out. He was going to be an artist, and I would be my next painter.\n",
      "\n",
      "\"I don't think he was even on his own yet. His mother was a little embarrassed because she felt she was having an affair with Fred.\"\n",
      "\n",
      "Frightened by the prospect of what might be considered to be a \"big deal\" for them, Fred turned to painting, and was immediately drawn to the work of painter John Diefenb\n"
     ]
    }
   ],
   "source": [
    "prompt = \"Fred had a job as a tree cutter. One day, Fred wasn't paying attention when cutting a tree.\"\n",
    "\n",
    "input_ids = tokenizer.encode(prompt, return_tensors='pt')\n",
    "\n",
    "beam_output = model.generate(\n",
    "    input_ids, \n",
    "    max_length=200, \n",
    "    num_beams=5, \n",
    "    no_repeat_ngram_size=2, \n",
    "    early_stopping=True\n",
    ")\n",
    "\n",
    "print(f'beam: {tokenizer.decode(beam_output[0], skip_special_tokens=True)}')\n",
    "\n",
    "sample_output = model.generate(\n",
    "    input_ids, \n",
    "    do_sample=True, \n",
    "    max_length=200, \n",
    "    top_p=0.9, \n",
    "    top_k=50\n",
    ")\n",
    "\n",
    "print(f'sample: {tokenizer.decode(sample_output[0], skip_special_tokens=True)}')"
   ]
  },
  {
   "cell_type": "code",
   "execution_count": null,
   "id": "d522e297",
   "metadata": {},
   "outputs": [],
   "source": []
  }
 ],
 "metadata": {
  "kernelspec": {
   "display_name": "Python 3",
   "language": "python",
   "name": "python3"
  },
  "language_info": {
   "codemirror_mode": {
    "name": "ipython",
    "version": 3
   },
   "file_extension": ".py",
   "mimetype": "text/x-python",
   "name": "python",
   "nbconvert_exporter": "python",
   "pygments_lexer": "ipython3",
   "version": "3.6.13"
  }
 },
 "nbformat": 4,
 "nbformat_minor": 5
}
