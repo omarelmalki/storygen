{
 "cells": [
  {
   "cell_type": "markdown",
   "id": "a3708fce",
   "metadata": {},
   "source": [
    "Author: Omar El Malki (omar.elmalki@epfl.ch)"
   ]
  },
  {
   "cell_type": "markdown",
   "id": "0a8458f7",
   "metadata": {},
   "source": [
    "### Coreference resolution on ROCStories"
   ]
  },
  {
   "cell_type": "code",
   "execution_count": 1,
   "id": "9ce6cfd3",
   "metadata": {},
   "outputs": [],
   "source": [
    "import pandas as pd\n",
    "import spacy\n",
    "import neuralcoref\n",
    "from tqdm import tqdm\n",
    "\n",
    "tqdm.pandas()\n",
    "\n",
    "pd.set_option('display.max_colwidth', None)\n",
    "pd.set_option('display.max_rows', None)\n",
    "pd.options.mode.chained_assignment = None"
   ]
  },
  {
   "cell_type": "code",
   "execution_count": 3,
   "id": "503c026c",
   "metadata": {},
   "outputs": [],
   "source": [
    "# Read ROCStories into pandas DataFrame\n",
    "roc_stories_2017_path_csv = \"../../data/rocstories/ROCStories_winter2017.csv\"\n",
    "roc_stories_2016_path_csv = \"../../data/rocstories/ROCStories_spring2016.csv\"\n",
    "roc_stories_2017_df = pd.read_csv(roc_stories_2017_path_csv, sep=',', header=0)\n",
    "roc_stories_2016_df = pd.read_csv(roc_stories_2016_path_csv, sep=',', header=0)\n",
    "\n",
    "roc_stories_df = pd.concat([roc_stories_2016_df, roc_stories_2017_df])"
   ]
  },
  {
   "cell_type": "code",
   "execution_count": 4,
   "id": "e1e1367a",
   "metadata": {},
   "outputs": [
    {
     "data": {
      "text/plain": [
       "<spacy.lang.en.English at 0x7ff4d94e6ef0>"
      ]
     },
     "execution_count": 4,
     "metadata": {},
     "output_type": "execute_result"
    }
   ],
   "source": [
    "# # Read ROCStories into pandas DataFrame\n",
    "# roc_stories_path_csv = \"../data/rocstories-2017/ROCStories_winter2017.csv\"\n",
    "# roc_stories_df = pd.read_csv(roc_stories_path_csv, sep=',', header=0)\n",
    "\n",
    "nlp = spacy.load('en')\n",
    "neuralcoref.add_to_pipe(nlp)"
   ]
  },
  {
   "cell_type": "code",
   "execution_count": 5,
   "id": "9e8bee7d",
   "metadata": {},
   "outputs": [],
   "source": [
    "# Example story\n",
    "s1 = \"David noticed he had put on a lot of weight recently.\"\n",
    "s2 = \"He examined his habits to try and figure out the reason.\"\n",
    "s3 = \"He realized he'd been eating too much fast food lately.\"\n",
    "s4 = \"He stopped going to burger places and started a vegetarian diet.\"\n",
    "s5 = \"After a few weeks, he started to feel much better.\""
   ]
  },
  {
   "cell_type": "code",
   "execution_count": 6,
   "id": "e6914f08",
   "metadata": {},
   "outputs": [],
   "source": [
    "def resolve_story(*args: str):\n",
    "    \"\"\"\n",
    "    Return coreference clusters and resolved list of sentences from a list oof input sentences\n",
    "\n",
    "    :param args: input sentences\n",
    "    :return: coreference clusters\n",
    "    :return: resolved sentences\n",
    "    \"\"\"\n",
    "    story = \"\"\n",
    "    n = len(args)\n",
    "\n",
    "    for i in range(n):\n",
    "        story += args[i] \n",
    "        if i != n-1:\n",
    "            story += \"\\t\"\n",
    "\n",
    "    coref_res = nlp(story)\n",
    "    result = [x for x in coref_res._.coref_resolved.split(\"\\t\")]\n",
    "    return coref_res, result"
   ]
  },
  {
   "cell_type": "code",
   "execution_count": 7,
   "id": "b53922da",
   "metadata": {},
   "outputs": [
    {
     "data": {
      "text/plain": [
       "(David noticed he had put on a lot of weight recently.\tHe examined his habits to try and figure out the reason.\tHe realized he'd been eating too much fast food lately.\tHe stopped going to burger places and started a vegetarian diet.\tAfter a few weeks, he started to feel much better.,\n",
       " ['David noticed David had put on a lot of weight recently.',\n",
       "  'David examined David habits to try and figure out the reason.',\n",
       "  \"David realized David'd been eating too much fast food lately.\",\n",
       "  'David stopped going to burger places and started a vegetarian diet.',\n",
       "  'After a few weeks, David started to feel much better.'])"
      ]
     },
     "execution_count": 7,
     "metadata": {},
     "output_type": "execute_result"
    }
   ],
   "source": [
    "resolve_story(s1, s2, s3, s4, s5)"
   ]
  },
  {
   "cell_type": "code",
   "execution_count": 22,
   "id": "0138741f",
   "metadata": {},
   "outputs": [],
   "source": [
    "# Another example\n",
    "t1 = \"Joe was really excited for Christmas.\"\n",
    "t2 = \"Joe has never seen Santa Claus before.\"\n",
    "t3 = \"He decided to hide on top of the staircase to try to catch Santa.\"\n",
    "t4 = \"Joe waited as long as he could before he fell asleep.\"\n",
    "t5 = \"He woke up to many presents under the tree, and no Santa in sight!\""
   ]
  },
  {
   "cell_type": "code",
   "execution_count": 23,
   "id": "64589422",
   "metadata": {},
   "outputs": [
    {
     "data": {
      "text/plain": [
       "(Joe was really excited for Christmas.\tJoe has never seen Santa Claus before.\tHe decided to hide on top of the staircase to try to catch Santa.\tJoe waited as long as he could before he fell asleep.\tHe woke up to many presents under the tree, and no Santa in sight!,\n",
       " ['Joe was really excited for Christmas.',\n",
       "  'Joe has never seen Santa Claus before.',\n",
       "  'Joe decided to hide on top of the staircase to try to catch Santa.',\n",
       "  'Joe waited as long as Joe could before Joe fell asleep.',\n",
       "  'Joe woke up to many presents under the tree, and no Santa in sight!'])"
      ]
     },
     "execution_count": 23,
     "metadata": {},
     "output_type": "execute_result"
    }
   ],
   "source": [
    "resolve_story(t1, t2, t3, t4, t5)"
   ]
  },
  {
   "cell_type": "code",
   "execution_count": 8,
   "id": "1ea68035",
   "metadata": {},
   "outputs": [],
   "source": [
    "def coref_res_to_resolved_sentence(coref_res, index):\n",
    "    \"\"\"\n",
    "    Return resolved sentence for sentence indexed by index in story with coreference resolution result coref_res\n",
    "\n",
    "    :param coref_res: coreference resolution result of story\n",
    "    :param index: index of sentence in story\n",
    "    :return: resolved sentence or \"\" if resolution failed\n",
    "    \"\"\"\n",
    "    n = len(coref_res[1])\n",
    "    if n < 5:\n",
    "        print(f\"Resolved sentence list has only {n} elements:\\n{coref_res}\\n\")\n",
    "        # ideally, to be handled manually\n",
    "        return \"\"\n",
    "    if index > 5:\n",
    "        raise IndexError(f\"Index {index} out of bounds for stories of 5 sentences\")\n",
    "    else:\n",
    "        return coref_res[1][index-1]"
   ]
  },
  {
   "cell_type": "code",
   "execution_count": 58,
   "id": "3132484b",
   "metadata": {},
   "outputs": [],
   "source": [
    "coref_df = roc_stories_df.head(5000)"
   ]
  },
  {
   "cell_type": "code",
   "execution_count": 59,
   "id": "6d63ba36",
   "metadata": {},
   "outputs": [
    {
     "name": "stdout",
     "output_type": "stream",
     "text": [
      "Apply resolution to all rows:\n",
      "\n"
     ]
    },
    {
     "name": "stderr",
     "output_type": "stream",
     "text": [
      "100%|██████████| 5000/5000 [02:22<00:00, 35.01it/s]\n"
     ]
    },
    {
     "name": "stdout",
     "output_type": "stream",
     "text": [
      "Add coreference clusters to dataframe:\n",
      "\n"
     ]
    },
    {
     "name": "stderr",
     "output_type": "stream",
     "text": [
      "100%|██████████| 5000/5000 [00:00<00:00, 133487.29it/s]\n"
     ]
    },
    {
     "name": "stdout",
     "output_type": "stream",
     "text": [
      "Add Resolved sentence to Dataframe for each sentence in the dataset:\n",
      "\n"
     ]
    },
    {
     "name": "stderr",
     "output_type": "stream",
     "text": [
      "100%|██████████| 5000/5000 [00:00<00:00, 513768.59it/s]\n"
     ]
    },
    {
     "name": "stdout",
     "output_type": "stream",
     "text": [
      "Resolved sentence list has only 4 elements:\n",
      "(A minivan parked in the middle of the driveway in our building.\tThe driver loaded some luggage.\tHe kept the minivan in the driveway.\tAnother car came behind the minivan and waited.\tAfter the driver beeped, the minivan drove off., ['the minivanThe driver loaded some luggage.', 'The driver kept the minivan in the driveway in our building.', 'Another car came behind the minivan and waited.', 'After The driver beeped, the minivan drove off.'])\n",
      "\n",
      "Resolved sentence list has only 4 elements:\n",
      "(The delivery man handed a box to Gen.\tShe was excited since her new shoes were inside of it.\tOnce she tried the shoes on, she couldn't make them fit.\tShe spent hours trying to fix it but made no improvements.\tAs a result, she returned the shoes the next day., ['The delivery man handed a box to The delivery man was excited since The delivery man new shoes were inside of The delivery man.', \"Once The delivery man tried her new shoes on, The delivery man couldn't make her new shoes fit.\", 'The delivery man spent hours trying to fix it but made no improvements.', 'As a result, The delivery man returned her new shoes the next day.'])\n",
      "\n"
     ]
    },
    {
     "name": "stderr",
     "output_type": "stream",
     "text": [
      "100%|██████████| 5000/5000 [00:00<00:00, 457244.52it/s]\n"
     ]
    },
    {
     "name": "stdout",
     "output_type": "stream",
     "text": [
      "Resolved sentence list has only 4 elements:\n",
      "(A minivan parked in the middle of the driveway in our building.\tThe driver loaded some luggage.\tHe kept the minivan in the driveway.\tAnother car came behind the minivan and waited.\tAfter the driver beeped, the minivan drove off., ['the minivanThe driver loaded some luggage.', 'The driver kept the minivan in the driveway in our building.', 'Another car came behind the minivan and waited.', 'After The driver beeped, the minivan drove off.'])\n",
      "\n",
      "Resolved sentence list has only 4 elements:\n",
      "(The delivery man handed a box to Gen.\tShe was excited since her new shoes were inside of it.\tOnce she tried the shoes on, she couldn't make them fit.\tShe spent hours trying to fix it but made no improvements.\tAs a result, she returned the shoes the next day., ['The delivery man handed a box to The delivery man was excited since The delivery man new shoes were inside of The delivery man.', \"Once The delivery man tried her new shoes on, The delivery man couldn't make her new shoes fit.\", 'The delivery man spent hours trying to fix it but made no improvements.', 'As a result, The delivery man returned her new shoes the next day.'])\n",
      "\n"
     ]
    },
    {
     "name": "stderr",
     "output_type": "stream",
     "text": [
      "100%|██████████| 5000/5000 [00:00<00:00, 434561.84it/s]\n"
     ]
    },
    {
     "name": "stdout",
     "output_type": "stream",
     "text": [
      "Resolved sentence list has only 4 elements:\n",
      "(A minivan parked in the middle of the driveway in our building.\tThe driver loaded some luggage.\tHe kept the minivan in the driveway.\tAnother car came behind the minivan and waited.\tAfter the driver beeped, the minivan drove off., ['the minivanThe driver loaded some luggage.', 'The driver kept the minivan in the driveway in our building.', 'Another car came behind the minivan and waited.', 'After The driver beeped, the minivan drove off.'])\n",
      "\n",
      "Resolved sentence list has only 4 elements:\n",
      "(The delivery man handed a box to Gen.\tShe was excited since her new shoes were inside of it.\tOnce she tried the shoes on, she couldn't make them fit.\tShe spent hours trying to fix it but made no improvements.\tAs a result, she returned the shoes the next day., ['The delivery man handed a box to The delivery man was excited since The delivery man new shoes were inside of The delivery man.', \"Once The delivery man tried her new shoes on, The delivery man couldn't make her new shoes fit.\", 'The delivery man spent hours trying to fix it but made no improvements.', 'As a result, The delivery man returned her new shoes the next day.'])\n",
      "\n"
     ]
    },
    {
     "name": "stderr",
     "output_type": "stream",
     "text": [
      "100%|██████████| 5000/5000 [00:00<00:00, 491055.80it/s]\n"
     ]
    },
    {
     "name": "stdout",
     "output_type": "stream",
     "text": [
      "Resolved sentence list has only 4 elements:\n",
      "(A minivan parked in the middle of the driveway in our building.\tThe driver loaded some luggage.\tHe kept the minivan in the driveway.\tAnother car came behind the minivan and waited.\tAfter the driver beeped, the minivan drove off., ['the minivanThe driver loaded some luggage.', 'The driver kept the minivan in the driveway in our building.', 'Another car came behind the minivan and waited.', 'After The driver beeped, the minivan drove off.'])\n",
      "\n",
      "Resolved sentence list has only 4 elements:\n",
      "(The delivery man handed a box to Gen.\tShe was excited since her new shoes were inside of it.\tOnce she tried the shoes on, she couldn't make them fit.\tShe spent hours trying to fix it but made no improvements.\tAs a result, she returned the shoes the next day., ['The delivery man handed a box to The delivery man was excited since The delivery man new shoes were inside of The delivery man.', \"Once The delivery man tried her new shoes on, The delivery man couldn't make her new shoes fit.\", 'The delivery man spent hours trying to fix it but made no improvements.', 'As a result, The delivery man returned her new shoes the next day.'])\n",
      "\n"
     ]
    },
    {
     "name": "stderr",
     "output_type": "stream",
     "text": [
      "100%|██████████| 5000/5000 [00:00<00:00, 473975.50it/s]"
     ]
    },
    {
     "name": "stdout",
     "output_type": "stream",
     "text": [
      "Resolved sentence list has only 4 elements:\n",
      "(A minivan parked in the middle of the driveway in our building.\tThe driver loaded some luggage.\tHe kept the minivan in the driveway.\tAnother car came behind the minivan and waited.\tAfter the driver beeped, the minivan drove off., ['the minivanThe driver loaded some luggage.', 'The driver kept the minivan in the driveway in our building.', 'Another car came behind the minivan and waited.', 'After The driver beeped, the minivan drove off.'])\n",
      "\n",
      "Resolved sentence list has only 4 elements:\n",
      "(The delivery man handed a box to Gen.\tShe was excited since her new shoes were inside of it.\tOnce she tried the shoes on, she couldn't make them fit.\tShe spent hours trying to fix it but made no improvements.\tAs a result, she returned the shoes the next day., ['The delivery man handed a box to The delivery man was excited since The delivery man new shoes were inside of The delivery man.', \"Once The delivery man tried her new shoes on, The delivery man couldn't make her new shoes fit.\", 'The delivery man spent hours trying to fix it but made no improvements.', 'As a result, The delivery man returned her new shoes the next day.'])\n",
      "\n"
     ]
    },
    {
     "name": "stderr",
     "output_type": "stream",
     "text": [
      "\n"
     ]
    }
   ],
   "source": [
    "# Apply resolution to all rows\n",
    "print(\"Apply resolution to all rows:\\n\")\n",
    "coref_df['coref_result'] = coref_df.progress_apply(lambda row: resolve_story(row.sentence1, row.sentence2, row.sentence3, row.sentence4, row.sentence5), axis=1)\n",
    "\n",
    "# Add coreference clusters to dataframe\n",
    "print(\"Add coreference clusters to dataframe:\\n\")\n",
    "coref_df['coref_clusters'] = coref_df['coref_result'].progress_apply(lambda x: x[0]._.coref_clusters)\n",
    "\n",
    "# Add Resolved sentence to Dataframe for each sentence in the dataset\n",
    "print(\"Add Resolved sentence to Dataframe for each sentence in the dataset:\\n\")\n",
    "for i in range(1,6):\n",
    "    coref_df[f'resolved{i}'] = coref_df['coref_result'].progress_apply(lambda x: coref_res_to_resolved_sentence(x, i))\n",
    "del coref_df['coref_result']"
   ]
  },
  {
   "cell_type": "code",
   "execution_count": 83,
   "id": "b9c71d69",
   "metadata": {},
   "outputs": [],
   "source": [
    "# Manually add resolved sentences for the few stories with failing coreferences\n",
    "story_ids = ['08f13294-29ea-412b-ad0d-e05ff9662003', '1382f6a2-459f-417d-9d7e-83e6d0e02e74']\n",
    "\n",
    "story1_resolved = ['the minivan parked in the middle of the driveway in our building.', 'The driver loaded some luggage.', 'The driver kept the minivan in the driveway in our building.', 'Another car came behind the minivan and waited.', 'After the driver beeped, the minivan drove off.']\n",
    "story2_resolved = ['The delivery man handed a box to Gen.', \"Gen was excited since Gen's new shoes were inside of a box.\", \"Once Gen tried Gen's new shoes on, Gen couldn't make Gen's new shoes fit.\", \"Gen spent hours trying to fix it but made no improvements.\", \"As a result, Gen returned Gen's new shoes the next day.\"]\n",
    "\n",
    "resolved_stories = [story1_resolved, story2_resolved]\n",
    "\n",
    "for n in range(1, 3):\n",
    "    for i in range(1, 6):\n",
    "        coref_df.loc[coref_df['storyid'] == story_ids[n-1], f'resolved{i}'] = resolved_stories[n-1][i-1]"
   ]
  },
  {
   "cell_type": "code",
   "execution_count": 86,
   "id": "3e9ab062",
   "metadata": {},
   "outputs": [
    {
     "data": {
      "text/html": [
       "<div>\n",
       "<style scoped>\n",
       "    .dataframe tbody tr th:only-of-type {\n",
       "        vertical-align: middle;\n",
       "    }\n",
       "\n",
       "    .dataframe tbody tr th {\n",
       "        vertical-align: top;\n",
       "    }\n",
       "\n",
       "    .dataframe thead th {\n",
       "        text-align: right;\n",
       "    }\n",
       "</style>\n",
       "<table border=\"1\" class=\"dataframe\">\n",
       "  <thead>\n",
       "    <tr style=\"text-align: right;\">\n",
       "      <th></th>\n",
       "      <th>storyid</th>\n",
       "      <th>storytitle</th>\n",
       "      <th>sentence1</th>\n",
       "      <th>sentence2</th>\n",
       "      <th>sentence3</th>\n",
       "      <th>sentence4</th>\n",
       "      <th>sentence5</th>\n",
       "      <th>coref_clusters</th>\n",
       "      <th>resolved1</th>\n",
       "      <th>resolved2</th>\n",
       "      <th>resolved3</th>\n",
       "      <th>resolved4</th>\n",
       "      <th>resolved5</th>\n",
       "    </tr>\n",
       "  </thead>\n",
       "  <tbody>\n",
       "    <tr>\n",
       "      <th>4456</th>\n",
       "      <td>1382f6a2-459f-417d-9d7e-83e6d0e02e74</td>\n",
       "      <td>Shoe Situation</td>\n",
       "      <td>The delivery man handed a box to Gen.</td>\n",
       "      <td>She was excited since her new shoes were inside of it.</td>\n",
       "      <td>Once she tried the shoes on, she couldn't make them fit.</td>\n",
       "      <td>She spent hours trying to fix it but made no improvements.</td>\n",
       "      <td>As a result, she returned the shoes the next day.</td>\n",
       "      <td>[((The, delivery, man), (Gen., \\t, She), (her), (it), (she), (she), (She), (she)), ((her, new, shoes), (the, shoes), (them), (the, shoes))]</td>\n",
       "      <td>The delivery man handed a box to Gen.</td>\n",
       "      <td>Gen was excited since Gen's new shoes were inside of a box.</td>\n",
       "      <td>Once Gen tried Gen's new shoes on, Gen couldn't make Gen's new shoes fit.</td>\n",
       "      <td>Gen spent hours trying to fix it but made no improvements.</td>\n",
       "      <td>As a result, Gen returned Gen's new shoes the next day.</td>\n",
       "    </tr>\n",
       "  </tbody>\n",
       "</table>\n",
       "</div>"
      ],
      "text/plain": [
       "                                   storyid      storytitle  \\\n",
       "4456  1382f6a2-459f-417d-9d7e-83e6d0e02e74  Shoe Situation   \n",
       "\n",
       "                                  sentence1  \\\n",
       "4456  The delivery man handed a box to Gen.   \n",
       "\n",
       "                                                   sentence2  \\\n",
       "4456  She was excited since her new shoes were inside of it.   \n",
       "\n",
       "                                                     sentence3  \\\n",
       "4456  Once she tried the shoes on, she couldn't make them fit.   \n",
       "\n",
       "                                                       sentence4  \\\n",
       "4456  She spent hours trying to fix it but made no improvements.   \n",
       "\n",
       "                                              sentence5  \\\n",
       "4456  As a result, she returned the shoes the next day.   \n",
       "\n",
       "                                                                                                                                   coref_clusters  \\\n",
       "4456  [((The, delivery, man), (Gen., \\t, She), (her), (it), (she), (she), (She), (she)), ((her, new, shoes), (the, shoes), (them), (the, shoes))]   \n",
       "\n",
       "                                  resolved1  \\\n",
       "4456  The delivery man handed a box to Gen.   \n",
       "\n",
       "                                                        resolved2  \\\n",
       "4456  Gen was excited since Gen's new shoes were inside of a box.   \n",
       "\n",
       "                                                                      resolved3  \\\n",
       "4456  Once Gen tried Gen's new shoes on, Gen couldn't make Gen's new shoes fit.   \n",
       "\n",
       "                                                       resolved4  \\\n",
       "4456  Gen spent hours trying to fix it but made no improvements.   \n",
       "\n",
       "                                                    resolved5  \n",
       "4456  As a result, Gen returned Gen's new shoes the next day.  "
      ]
     },
     "execution_count": 86,
     "metadata": {},
     "output_type": "execute_result"
    }
   ],
   "source": [
    "coref_df[coref_df['storyid'] == '1382f6a2-459f-417d-9d7e-83e6d0e02e74']"
   ]
  },
  {
   "cell_type": "code",
   "execution_count": 87,
   "id": "31d08343",
   "metadata": {},
   "outputs": [
    {
     "data": {
      "text/html": [
       "<div>\n",
       "<style scoped>\n",
       "    .dataframe tbody tr th:only-of-type {\n",
       "        vertical-align: middle;\n",
       "    }\n",
       "\n",
       "    .dataframe tbody tr th {\n",
       "        vertical-align: top;\n",
       "    }\n",
       "\n",
       "    .dataframe thead th {\n",
       "        text-align: right;\n",
       "    }\n",
       "</style>\n",
       "<table border=\"1\" class=\"dataframe\">\n",
       "  <thead>\n",
       "    <tr style=\"text-align: right;\">\n",
       "      <th></th>\n",
       "      <th>storyid</th>\n",
       "      <th>storytitle</th>\n",
       "      <th>sentence1</th>\n",
       "      <th>sentence2</th>\n",
       "      <th>sentence3</th>\n",
       "      <th>sentence4</th>\n",
       "      <th>sentence5</th>\n",
       "      <th>coref_clusters</th>\n",
       "      <th>resolved1</th>\n",
       "      <th>resolved2</th>\n",
       "      <th>resolved3</th>\n",
       "      <th>resolved4</th>\n",
       "      <th>resolved5</th>\n",
       "    </tr>\n",
       "  </thead>\n",
       "  <tbody>\n",
       "    <tr>\n",
       "      <th>4225</th>\n",
       "      <td>08f13294-29ea-412b-ad0d-e05ff9662003</td>\n",
       "      <td>Parking in the Driveway</td>\n",
       "      <td>A minivan parked in the middle of the driveway in our building.</td>\n",
       "      <td>The driver loaded some luggage.</td>\n",
       "      <td>He kept the minivan in the driveway.</td>\n",
       "      <td>Another car came behind the minivan and waited.</td>\n",
       "      <td>After the driver beeped, the minivan drove off.</td>\n",
       "      <td>[((A, minivan, parked, in, the, middle, of, the, driveway, in, our, building, ., \\t), (the, minivan), (the, minivan), (the, minivan)), ((the, driveway, in, our, building), (the, driveway)), ((The, driver), (He), (the, driver))]</td>\n",
       "      <td>the minivan parked in the middle of the driveway in our building.</td>\n",
       "      <td>The driver loaded some luggage.</td>\n",
       "      <td>The driver kept the minivan in the driveway in our building.</td>\n",
       "      <td>Another car came behind the minivan and waited.</td>\n",
       "      <td>After the driver beeped, the minivan drove off.</td>\n",
       "    </tr>\n",
       "  </tbody>\n",
       "</table>\n",
       "</div>"
      ],
      "text/plain": [
       "                                   storyid               storytitle  \\\n",
       "4225  08f13294-29ea-412b-ad0d-e05ff9662003  Parking in the Driveway   \n",
       "\n",
       "                                                            sentence1  \\\n",
       "4225  A minivan parked in the middle of the driveway in our building.   \n",
       "\n",
       "                            sentence2                             sentence3  \\\n",
       "4225  The driver loaded some luggage.  He kept the minivan in the driveway.   \n",
       "\n",
       "                                            sentence4  \\\n",
       "4225  Another car came behind the minivan and waited.   \n",
       "\n",
       "                                            sentence5  \\\n",
       "4225  After the driver beeped, the minivan drove off.   \n",
       "\n",
       "                                                                                                                                                                                                                           coref_clusters  \\\n",
       "4225  [((A, minivan, parked, in, the, middle, of, the, driveway, in, our, building, ., \\t), (the, minivan), (the, minivan), (the, minivan)), ((the, driveway, in, our, building), (the, driveway)), ((The, driver), (He), (the, driver))]   \n",
       "\n",
       "                                                              resolved1  \\\n",
       "4225  the minivan parked in the middle of the driveway in our building.   \n",
       "\n",
       "                            resolved2  \\\n",
       "4225  The driver loaded some luggage.   \n",
       "\n",
       "                                                         resolved3  \\\n",
       "4225  The driver kept the minivan in the driveway in our building.   \n",
       "\n",
       "                                            resolved4  \\\n",
       "4225  Another car came behind the minivan and waited.   \n",
       "\n",
       "                                            resolved5  \n",
       "4225  After the driver beeped, the minivan drove off.  "
      ]
     },
     "execution_count": 87,
     "metadata": {},
     "output_type": "execute_result"
    }
   ],
   "source": [
    "coref_df[coref_df['storyid'] == '08f13294-29ea-412b-ad0d-e05ff9662003']"
   ]
  },
  {
   "cell_type": "code",
   "execution_count": null,
   "id": "176479f7",
   "metadata": {},
   "outputs": [],
   "source": []
  },
  {
   "cell_type": "code",
   "execution_count": null,
   "id": "fb5c216d",
   "metadata": {},
   "outputs": [],
   "source": []
  }
 ],
 "metadata": {
  "kernelspec": {
   "display_name": "Python 3",
   "language": "python",
   "name": "python3"
  },
  "language_info": {
   "codemirror_mode": {
    "name": "ipython",
    "version": 3
   },
   "file_extension": ".py",
   "mimetype": "text/x-python",
   "name": "python",
   "nbconvert_exporter": "python",
   "pygments_lexer": "ipython3",
   "version": "3.6.13"
  }
 },
 "nbformat": 4,
 "nbformat_minor": 5
}
