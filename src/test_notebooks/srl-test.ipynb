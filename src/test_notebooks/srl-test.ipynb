{
 "cells": [
  {
   "cell_type": "code",
   "execution_count": 1,
   "id": "898e8cbb",
   "metadata": {},
   "outputs": [],
   "source": [
    "import re\n",
    "import pandas as pd\n",
    "import sys\n",
    "import os\n",
    "import json\n",
    "from tqdm import tqdm\n",
    "\n",
    "from allennlp.common import JsonDict\n",
    "\n",
    "sys.path.insert(0, '..')\n",
    "\n",
    "import utils.semantic_role_labeling as sem_rl\n",
    "\n",
    "pd.set_option('display.max_colwidth', None)\n",
    "pd.set_option('display.max_rows', None)\n",
    "pd.set_option('display.max_columns', None)\n",
    "pd.options.mode.chained_assignment = None\n",
    "\n",
    "def _run_predictor(batch_data):\n",
    "    if len(batch_data) == 1:\n",
    "        result = predictor.predict_json(batch_data[0])\n",
    "        results = [result]\n",
    "    else:\n",
    "        results = predictor.predict_batch_json(batch_data)\n",
    "    return results\n",
    "\n",
    "\n",
    "# Read ROCStories into pandas DataFrame\n",
    "roc_stories_path_csv = '../../generated/coreference_resolution/ROCStories_with_resolved_coreferences.csv'\n",
    "roc_stories_df = pd.read_csv(roc_stories_path_csv, sep='\\t', header=0)\n",
    "\n",
    "roc_stories_df = roc_stories_df.iloc[:1000]"
   ]
  },
  {
   "cell_type": "code",
   "execution_count": 2,
   "id": "47b841fd",
   "metadata": {},
   "outputs": [
    {
     "name": "stderr",
     "output_type": "stream",
     "text": [
      "1000it [01:12, 13.78it/s]\n",
      "1000it [01:49,  9.10it/s]\n",
      "1000it [01:56,  8.60it/s]\n",
      "1000it [01:51,  8.94it/s]\n",
      "1000it [02:09,  7.75it/s]\n"
     ]
    }
   ],
   "source": [
    "predictor = sem_rl.get_predictor()\n",
    "batch_size = 128\n",
    "\n",
    "for n in range(1, 6):\n",
    "    batch_data = []\n",
    "    batch_result = []\n",
    "\n",
    "    for index, row in tqdm(roc_stories_df.iterrows()):\n",
    "        line = str(row[f'resolved{n}'])\n",
    "        if not line.isspace():\n",
    "            line = {\"sentence\": line.strip()}\n",
    "            line = json.dumps(line)\n",
    "            json_data = predictor.load_line(line)\n",
    "            batch_data.append(json_data)\n",
    "            if len(batch_data) == batch_size:\n",
    "                res = _run_predictor(batch_data)\n",
    "                for b in res:\n",
    "                    batch_result.append(b)\n",
    "                batch_data = []\n",
    "\n",
    "    if batch_data:\n",
    "        res = _run_predictor(batch_data)\n",
    "        for b in res:\n",
    "            batch_result.append(b)\n",
    "\n",
    "    roc_stories_df[f'srl_r{n}'] = batch_result"
   ]
  },
  {
   "cell_type": "code",
   "execution_count": 3,
   "id": "fd28359d",
   "metadata": {},
   "outputs": [
    {
     "data": {
      "text/plain": [
       "1000"
      ]
     },
     "execution_count": 3,
     "metadata": {},
     "output_type": "execute_result"
    }
   ],
   "source": [
    "len(batch_result)"
   ]
  },
  {
   "cell_type": "code",
   "execution_count": 4,
   "id": "630406f6",
   "metadata": {},
   "outputs": [
    {
     "data": {
      "text/plain": [
       "{'verbs': [{'verb': 'noticed',\n",
       "   'description': '[ARG0: David] [notice.01: noticed] [ARG1: David had put on a lot of weight recently] .',\n",
       "   'tags': ['B-ARG0',\n",
       "    'B-V',\n",
       "    'B-ARG1',\n",
       "    'I-ARG1',\n",
       "    'I-ARG1',\n",
       "    'I-ARG1',\n",
       "    'I-ARG1',\n",
       "    'I-ARG1',\n",
       "    'I-ARG1',\n",
       "    'I-ARG1',\n",
       "    'I-ARG1',\n",
       "    'O'],\n",
       "   'frame': 'notice.01',\n",
       "   'frame_scores': 0.9999998807907104,\n",
       "   'lemma': 'notice'},\n",
       "  {'verb': 'had',\n",
       "   'description': 'David noticed David [have.01: had] put on a lot of weight recently .',\n",
       "   'tags': ['O', 'O', 'O', 'B-V', 'O', 'O', 'O', 'O', 'O', 'O', 'O', 'O'],\n",
       "   'frame': 'have.01',\n",
       "   'frame_scores': 1.0,\n",
       "   'lemma': 'have'},\n",
       "  {'verb': 'put',\n",
       "   'description': 'David noticed [ARG0: David] had [put.08: put] on [ARG1: a lot of weight] [ARGM-TMP: recently] .',\n",
       "   'tags': ['O',\n",
       "    'O',\n",
       "    'B-ARG0',\n",
       "    'O',\n",
       "    'B-V',\n",
       "    'O',\n",
       "    'B-ARG1',\n",
       "    'I-ARG1',\n",
       "    'I-ARG1',\n",
       "    'I-ARG1',\n",
       "    'B-ARGM-TMP',\n",
       "    'O'],\n",
       "   'frame': 'put.08',\n",
       "   'frame_scores': 0.9999649524688721,\n",
       "   'lemma': 'put'}],\n",
       " 'words': ['David',\n",
       "  'noticed',\n",
       "  'David',\n",
       "  'had',\n",
       "  'put',\n",
       "  'on',\n",
       "  'a',\n",
       "  'lot',\n",
       "  'of',\n",
       "  'weight',\n",
       "  'recently',\n",
       "  '.']}"
      ]
     },
     "execution_count": 4,
     "metadata": {},
     "output_type": "execute_result"
    }
   ],
   "source": [
    "roc_stories_df.loc[0, 'srl_r1']"
   ]
  }
 ],
 "metadata": {
  "kernelspec": {
   "display_name": "Python 3",
   "language": "python",
   "name": "python3"
  },
  "language_info": {
   "codemirror_mode": {
    "name": "ipython",
    "version": 3
   },
   "file_extension": ".py",
   "mimetype": "text/x-python",
   "name": "python",
   "nbconvert_exporter": "python",
   "pygments_lexer": "ipython3",
   "version": "3.6.13"
  }
 },
 "nbformat": 4,
 "nbformat_minor": 5
}
